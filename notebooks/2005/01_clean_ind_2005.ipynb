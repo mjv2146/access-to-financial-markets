{
 "cells": [
  {
   "cell_type": "markdown",
   "metadata": {},
   "source": [
    "# Clean Individual Level Data"
   ]
  },
  {
   "cell_type": "code",
   "execution_count": 28,
   "metadata": {},
   "outputs": [],
   "source": [
    "import pandas as pd\n",
    "import numpy as np\n",
    "%matplotlib inline\n",
    "import matplotlib.pyplot as plt\n",
    "plt.style.use('ggplot')\n",
    "import seaborn as sns\n",
    "import os \n",
    "\n",
    "home = os.path.expanduser('~')\n",
    "import sys; sys.path.append(home+'/github/access-to-financial-markets/src')\n",
    "import json_utils"
   ]
  },
  {
   "cell_type": "code",
   "execution_count": 29,
   "metadata": {},
   "outputs": [],
   "source": [
    "raw = home + '/Dropbox/data/mexico_fls/raw/2005/'\n",
    "interim = home + '/Dropbox/data/mexico_fls/interim2/2005/'\n",
    "\n",
    "figs = home + '/github/access-to-financial-markets/fig/'\n",
    "dicts= home + '/github/access-to-financial-markets/dicts/'"
   ]
  },
  {
   "cell_type": "code",
   "execution_count": 30,
   "metadata": {},
   "outputs": [],
   "source": [
    "education = json_utils.load_json(dicts + 'education.json')\n",
    "rename = json_utils.load_json(dicts + 'rename_ind_2005.json')\n",
    "naics = json_utils.load_json(dicts + 'naics_industry.json')"
   ]
  },
  {
   "cell_type": "code",
   "execution_count": 31,
   "metadata": {},
   "outputs": [],
   "source": [
    "ids = ['folio', 'ls', 'pid_link']\n",
    "keep = ['folio', 'ls', 'pid_link']\n",
    "os.chdir(raw + 'book IIIB/data/')\n",
    "portad = pd.read_stata('iiib_portad.dta')\n",
    "portad = portad.sort_values(by=['folio', 'ls'])"
   ]
  },
  {
   "cell_type": "code",
   "execution_count": 32,
   "metadata": {},
   "outputs": [
    {
     "name": "stdout",
     "output_type": "stream",
     "text": [
      "<class 'pandas.core.frame.DataFrame'>\n",
      "RangeIndex: 20607 entries, 0 to 20606\n",
      "Data columns (total 8 columns):\n",
      " #   Column     Non-Null Count  Dtype  \n",
      "---  ------     --------------  -----  \n",
      " 0   catorcena  20607 non-null  float32\n",
      " 1   edad       20606 non-null  float32\n",
      " 2   edo_civil  20607 non-null  int8   \n",
      " 3   ent        20607 non-null  float32\n",
      " 4   folio      20607 non-null  object \n",
      " 5   ls         20607 non-null  object \n",
      " 6   pid_link   20607 non-null  object \n",
      " 7   rel        20607 non-null  float32\n",
      "dtypes: float32(4), int8(1), object(3)\n",
      "memory usage: 825.2+ KB\n"
     ]
    }
   ],
   "source": [
    "portad.info()"
   ]
  },
  {
   "cell_type": "code",
   "execution_count": 33,
   "metadata": {},
   "outputs": [
    {
     "name": "stdout",
     "output_type": "stream",
     "text": [
      "<class 'pandas.core.frame.DataFrame'>\n",
      "Index: 19544 entries, 0 to 35087\n",
      "Data columns (total 3 columns):\n",
      " #   Column  Non-Null Count  Dtype \n",
      "---  ------  --------------  ----- \n",
      " 0   folio   19544 non-null  object\n",
      " 1   ls      19544 non-null  object\n",
      " 2   fac_3a  19544 non-null  int32 \n",
      "dtypes: int32(1), object(2)\n",
      "memory usage: 534.4+ KB\n"
     ]
    }
   ],
   "source": [
    "os.chdir(raw + 'book IIIA/data/')\n",
    "weights_3a = pd.read_stata('weights.dta')\n",
    "weights_3a = (weights_3a.query('fac_3a>0')\n",
    "              .drop_duplicates()\n",
    "              .sort_values(by=['folio', 'ls']))\n",
    "weights_3a.info()"
   ]
  },
  {
   "cell_type": "code",
   "execution_count": 34,
   "metadata": {},
   "outputs": [],
   "source": [
    "# ids\n",
    "os.chdir(raw + 'book C/data/')\n",
    "df_ls = pd.read_stata('c_ls.dta')\n",
    "df_ls = df_ls.drop(columns='pid_link')\n",
    "\n",
    "os.chdir(raw + 'book IIIA/data/')\n",
    "# employment\n",
    "df_tb = pd.read_stata('iiia_tb.dta')\n",
    "df_tb = df_tb.drop(columns='pid_link')\n",
    "\n",
    "# education\n",
    "df_ed = pd.read_stata('iiia_ed.dta')\n",
    "df_ed = df_ed.drop(columns='pid_link')\n",
    "\n",
    "# non labor income, is ANNUAL\n",
    "df_iin = pd.read_stata('iiia_iin.dta')\n",
    "df_iin = df_iin.drop(columns='pid_link')\n",
    "\n",
    "os.chdir(raw + 'book IIIB/data/')\n",
    "# credit\n",
    "df_cr = pd.read_stata('iiib_cr.dta')\n",
    "df_cr = df_cr.drop(columns='pid_link')\n",
    "\n",
    "# credit 1\n",
    "df_cr1 = pd.read_stata('iiib_cr1.dta')\n",
    "df_cr1 = df_cr1.drop(columns='pid_link')\n",
    "\n",
    "# family structure (sex)\n",
    "df_thi = pd.read_stata('iiib_thi.dta')\n",
    "df_thi = df_thi.drop(columns='pid_link')"
   ]
  },
  {
   "cell_type": "code",
   "execution_count": 35,
   "metadata": {},
   "outputs": [],
   "source": [
    "df = (portad.merge(weights_3a, on=['folio', 'ls'], how='left')\n",
    "        .merge(df_ls, on=['folio', 'ls'], how='left')\n",
    "        .merge(df_tb, on=['folio', 'ls'], how='left')\n",
    "        .merge(df_ed, on=['folio', 'ls'], how='left')\n",
    "        .merge(df_cr, on=['folio', 'ls'], how='left')\n",
    "        .merge(df_cr1, on=['folio', 'ls'], how='left')\n",
    "        .merge(df_thi, on=['folio', 'ls'], how='left')\n",
    "        )"
   ]
  },
  {
   "cell_type": "code",
   "execution_count": 36,
   "metadata": {},
   "outputs": [
    {
     "name": "stdout",
     "output_type": "stream",
     "text": [
      "<class 'pandas.core.frame.DataFrame'>\n",
      "RangeIndex: 21057 entries, 0 to 21056\n",
      "Data columns (total 51 columns):\n",
      " #   Column                      Non-Null Count  Dtype  \n",
      "---  ------                      --------------  -----  \n",
      " 0   hhid                        21057 non-null  object \n",
      " 1   hhmember                    21057 non-null  object \n",
      " 2   weight_ind                  19464 non-null  float64\n",
      " 3   is_hhm                      20986 non-null  float32\n",
      " 4   age                         21056 non-null  float32\n",
      " 5   attended_school             21004 non-null  float32\n",
      " 6   education                   18858 non-null  float32\n",
      " 7   sex                         21043 non-null  float32\n",
      " 8   income_type                 6991 non-null   float64\n",
      " 9   income_undetailed           5522 non-null   float32\n",
      " 10  has_income_second_job       127 non-null    float32\n",
      " 11  income_second_job           110 non-null    float32\n",
      " 12  has_wage                    21005 non-null  object \n",
      " 13  wage                        950 non-null    float32\n",
      " 14  has_piecework               21005 non-null  object \n",
      " 15  piecework                   928 non-null    float32\n",
      " 16  has_tips                    21005 non-null  object \n",
      " 17  tips                        930 non-null    float32\n",
      " 18  has_extrahours              21005 non-null  object \n",
      " 19  extrahours                  927 non-null    float32\n",
      " 20  has_christmasbonus          21005 non-null  object \n",
      " 21  christmasbonus              943 non-null    float32\n",
      " 22  has_bonus                   21005 non-null  object \n",
      " 23  bonus                       928 non-null    float32\n",
      " 24  has_profitdist              21005 non-null  object \n",
      " 25  profitdist                  927 non-null    float32\n",
      " 26  has_other                   21005 non-null  object \n",
      " 27  other                       926 non-null    float32\n",
      " 28  earn_main_business          2211 non-null   float32\n",
      " 29  income_main_business        2211 non-null   float32\n",
      " 30  earn_second_business        170 non-null    float32\n",
      " 31  income_second_business      170 non-null    float32\n",
      " 32  naics_classification        10084 non-null  float64\n",
      " 33  asked_for_loan_12mth        7647 non-null   float32\n",
      " 34  loan_type                   1831 non-null   float32\n",
      " 35  received_loan               1830 non-null   float32\n",
      " 36  loan_size                   1821 non-null   float32\n",
      " 37  has_debts                   20875 non-null  float32\n",
      " 38  debts                       20392 non-null  float32\n",
      " 39  has_savings                 20913 non-null  float32\n",
      " 40  savings                     2109 non-null   float32\n",
      " 41  has_savings_none            89 non-null     float32\n",
      " 42  has_savings_bank            951 non-null    float32\n",
      " 43  has_savings_coop            104 non-null    float32\n",
      " 44  has_savings_savingsbank     457 non-null    float32\n",
      " 45  has_savings_friend_not_hhm  60 non-null     float32\n",
      " 46  has_savings_afores          14 non-null     float32\n",
      " 47  has_savings_caja_solidaria  11 non-null     float32\n",
      " 48  has_savings_house           653 non-null    float32\n",
      " 49  has_savings_work            56 non-null     float32\n",
      " 50  has_savings_other           14 non-null     float32\n",
      "dtypes: float32(38), float64(3), object(10)\n",
      "memory usage: 5.1+ MB\n"
     ]
    }
   ],
   "source": [
    "df = df.rename(columns=rename)\n",
    "df = df[rename.values()]\n",
    "df.info()"
   ]
  },
  {
   "cell_type": "code",
   "execution_count": 37,
   "metadata": {},
   "outputs": [
    {
     "name": "stdout",
     "output_type": "stream",
     "text": [
      "<class 'pandas.core.frame.DataFrame'>\n",
      "RangeIndex: 21057 entries, 0 to 21056\n",
      "Data columns (total 51 columns):\n",
      " #   Column                      Non-Null Count  Dtype  \n",
      "---  ------                      --------------  -----  \n",
      " 0   hhid                        21057 non-null  object \n",
      " 1   hhmember                    21057 non-null  object \n",
      " 2   weight_ind                  19464 non-null  float64\n",
      " 3   is_hhm                      20986 non-null  float64\n",
      " 4   age                         21056 non-null  float64\n",
      " 5   attended_school             21004 non-null  float64\n",
      " 6   education                   18858 non-null  float64\n",
      " 7   sex                         21043 non-null  float64\n",
      " 8   income_type                 6991 non-null   float64\n",
      " 9   income_undetailed           5522 non-null   float64\n",
      " 10  has_income_second_job       127 non-null    float64\n",
      " 11  income_second_job           110 non-null    float64\n",
      " 12  has_wage                    21005 non-null  object \n",
      " 13  wage                        950 non-null    float64\n",
      " 14  has_piecework               21005 non-null  object \n",
      " 15  piecework                   928 non-null    float64\n",
      " 16  has_tips                    21005 non-null  object \n",
      " 17  tips                        930 non-null    float64\n",
      " 18  has_extrahours              21005 non-null  object \n",
      " 19  extrahours                  927 non-null    float64\n",
      " 20  has_christmasbonus          21005 non-null  object \n",
      " 21  christmasbonus              943 non-null    float64\n",
      " 22  has_bonus                   21005 non-null  object \n",
      " 23  bonus                       928 non-null    float64\n",
      " 24  has_profitdist              21005 non-null  object \n",
      " 25  profitdist                  927 non-null    float64\n",
      " 26  has_other                   21005 non-null  object \n",
      " 27  other                       926 non-null    float64\n",
      " 28  earn_main_business          2211 non-null   float64\n",
      " 29  income_main_business        2211 non-null   float64\n",
      " 30  earn_second_business        170 non-null    float64\n",
      " 31  income_second_business      170 non-null    float64\n",
      " 32  naics_classification        10084 non-null  float64\n",
      " 33  asked_for_loan_12mth        7647 non-null   float64\n",
      " 34  loan_type                   1831 non-null   float64\n",
      " 35  received_loan               1830 non-null   float64\n",
      " 36  loan_size                   1821 non-null   float64\n",
      " 37  has_debts                   20875 non-null  float64\n",
      " 38  debts                       20392 non-null  float64\n",
      " 39  has_savings                 20913 non-null  float64\n",
      " 40  savings                     2109 non-null   float64\n",
      " 41  has_savings_none            89 non-null     float64\n",
      " 42  has_savings_bank            951 non-null    float64\n",
      " 43  has_savings_coop            104 non-null    float64\n",
      " 44  has_savings_savingsbank     457 non-null    float64\n",
      " 45  has_savings_friend_not_hhm  60 non-null     float64\n",
      " 46  has_savings_afores          14 non-null     float64\n",
      " 47  has_savings_caja_solidaria  11 non-null     float64\n",
      " 48  has_savings_house           653 non-null    float64\n",
      " 49  has_savings_work            56 non-null     float64\n",
      " 50  has_savings_other           14 non-null     float64\n",
      "dtypes: float64(41), object(10)\n",
      "memory usage: 8.2+ MB\n"
     ]
    }
   ],
   "source": [
    "# convert float32 columns to float34\n",
    "float32_columns = df.select_dtypes(include='float32').columns\n",
    "df[float32_columns] = df[float32_columns].astype('float64')\n",
    "df.info()"
   ]
  },
  {
   "cell_type": "code",
   "execution_count": 38,
   "metadata": {},
   "outputs": [],
   "source": [
    "df = df[~df.weight_ind.isna()]"
   ]
  },
  {
   "cell_type": "markdown",
   "metadata": {},
   "source": [
    "# Household Size"
   ]
  },
  {
   "cell_type": "code",
   "execution_count": 39,
   "metadata": {},
   "outputs": [
    {
     "data": {
      "image/png": "[encoded data removed]",
      "text/plain": [
       "<Figure size 640x480 with 1 Axes>"
      ]
     },
     "metadata": {},
     "output_type": "display_data"
    }
   ],
   "source": [
    "# define household size\n",
    "df['hh_size'] = df.groupby('hhid')['hhmember'].transform('size')\n",
    "df['hh_size'].hist(edgecolor='black')\n",
    "plt.xticks(range(df.hh_size.min(), df.hh_size.max()));"
   ]
  },
  {
   "cell_type": "markdown",
   "metadata": {},
   "source": [
    "# Education"
   ]
  },
  {
   "cell_type": "code",
   "execution_count": 40,
   "metadata": {},
   "outputs": [
    {
     "data": {
      "text/plain": [
       "attended_school\n",
       "1.0    17383\n",
       "0.0     2077\n",
       "NaN        4\n",
       "Name: count, dtype: int64"
      ]
     },
     "execution_count": 40,
     "metadata": {},
     "output_type": "execute_result"
    }
   ],
   "source": [
    "df['attended_school'] = df['attended_school'].replace({1.0:1.0, 3.0:0.0})\n",
    "df.attended_school.value_counts(dropna=False)"
   ]
  },
  {
   "cell_type": "code",
   "execution_count": 41,
   "metadata": {},
   "outputs": [
    {
     "data": {
      "text/plain": [
       "education\n",
       "1.0       76\n",
       "2.0       15\n",
       "3.0     7289\n",
       "4.0     4837\n",
       "5.0      263\n",
       "6.0     2687\n",
       "7.0      170\n",
       "8.0      241\n",
       "9.0     1722\n",
       "10.0      78\n",
       "98.0       5\n",
       "NaN     2081\n",
       "Name: count, dtype: int64"
      ]
     },
     "execution_count": 41,
     "metadata": {},
     "output_type": "execute_result"
    }
   ],
   "source": [
    "df.education.value_counts(dropna=False).sort_index()"
   ]
  },
  {
   "cell_type": "code",
   "execution_count": 42,
   "metadata": {},
   "outputs": [
    {
     "data": {
      "text/plain": [
       "education\n",
       "1.0       76\n",
       "2.0       15\n",
       "3.0     7289\n",
       "4.0     4837\n",
       "5.0      263\n",
       "6.0     2687\n",
       "7.0      170\n",
       "8.0      241\n",
       "9.0     1722\n",
       "10.0      78\n",
       "98.0       5\n",
       "Name: count, dtype: int64"
      ]
     },
     "execution_count": 42,
     "metadata": {},
     "output_type": "execute_result"
    }
   ],
   "source": [
    "\"\"\"Note: lack of nan when attended_school = True implies that all nan values are caused by not attending school\n",
    "\"\"\"\n",
    "df.loc[df.attended_school == True, 'education'].value_counts(dropna=False).sort_index()"
   ]
  },
  {
   "cell_type": "code",
   "execution_count": 43,
   "metadata": {},
   "outputs": [],
   "source": [
    "# if did not attend school then identify as having a low education level\n",
    "df.loc[(df.attended_school == False) | (df.attended_school.isna()), 'education'] = 1.0"
   ]
  },
  {
   "cell_type": "code",
   "execution_count": 44,
   "metadata": {},
   "outputs": [
    {
     "data": {
      "text/plain": [
       "{'1': 'Low',\n",
       " '2': 'Low',\n",
       " '3': 'Low',\n",
       " '4': 'Medium',\n",
       " '5': 'Medium',\n",
       " '6': 'Medium',\n",
       " '7': 'Medium',\n",
       " '8': 'Medium',\n",
       " '9': 'High',\n",
       " '10': 'High',\n",
       " '98': 'Low'}"
      ]
     },
     "execution_count": 44,
     "metadata": {},
     "output_type": "execute_result"
    }
   ],
   "source": [
    "education"
   ]
  },
  {
   "cell_type": "code",
   "execution_count": 45,
   "metadata": {},
   "outputs": [
    {
     "data": {
      "text/plain": [
       "education\n",
       "Low       9466\n",
       "Medium    8198\n",
       "High      1800\n",
       "Name: count, dtype: int64"
      ]
     },
     "execution_count": 45,
     "metadata": {},
     "output_type": "execute_result"
    }
   ],
   "source": [
    "df.education = df.education.astype(int).astype('str').replace(education)\n",
    "df['education'] = pd.Categorical(df['education'], categories=['Low', 'Medium', 'High'])\n",
    "df.education.value_counts(dropna=False)"
   ]
  },
  {
   "cell_type": "code",
   "execution_count": 46,
   "metadata": {},
   "outputs": [
    {
     "data": {
      "text/plain": [
       "<Axes: >"
      ]
     },
     "execution_count": 46,
     "metadata": {},
     "output_type": "execute_result"
    },
    {
     "data": {
      "image/png": "[encoded data removed]",
      "text/plain": [
       "<Figure size 640x480 with 1 Axes>"
      ]
     },
     "metadata": {},
     "output_type": "display_data"
    }
   ],
   "source": [
    "df.education.hist()"
   ]
  },
  {
   "cell_type": "markdown",
   "metadata": {},
   "source": [
    "# Age"
   ]
  },
  {
   "cell_type": "code",
   "execution_count": 47,
   "metadata": {},
   "outputs": [
    {
     "data": {
      "text/plain": [
       "1"
      ]
     },
     "execution_count": 47,
     "metadata": {},
     "output_type": "execute_result"
    }
   ],
   "source": [
    "df.age.isna().sum()"
   ]
  },
  {
   "cell_type": "code",
   "execution_count": 48,
   "metadata": {},
   "outputs": [],
   "source": [
    "# restrict to people with a well defined age\n",
    "# this also removes income from people below 20 years of age or above 65 years of age from being included in household income\n",
    "df = (df.query('age >= 20')\n",
    "      .query('age <= 65')\n",
    ")\n",
    "df['age_sq'] = df['age']**2"
   ]
  },
  {
   "cell_type": "code",
   "execution_count": 49,
   "metadata": {},
   "outputs": [
    {
     "data": {
      "text/plain": [
       "<Axes: >"
      ]
     },
     "execution_count": 49,
     "metadata": {},
     "output_type": "execute_result"
    },
    {
     "data": {
      "image/png": "[encoded data removed]",
      "text/plain": [
       "<Figure size 640x480 with 1 Axes>"
      ]
     },
     "metadata": {},
     "output_type": "display_data"
    }
   ],
   "source": [
    "df.age.hist(edgecolor='black')"
   ]
  },
  {
   "cell_type": "markdown",
   "metadata": {},
   "source": [
    "# Sex"
   ]
  },
  {
   "cell_type": "code",
   "execution_count": 50,
   "metadata": {},
   "outputs": [
    {
     "data": {
      "text/plain": [
       "sex\n",
       "1.0    8146\n",
       "3.0    4401\n",
       "2.0    1993\n",
       "NaN       5\n",
       "Name: count, dtype: int64"
      ]
     },
     "execution_count": 50,
     "metadata": {},
     "output_type": "execute_result"
    }
   ],
   "source": [
    "df.sex.value_counts(dropna=False)"
   ]
  },
  {
   "cell_type": "code",
   "execution_count": 51,
   "metadata": {},
   "outputs": [
    {
     "data": {
      "text/plain": [
       "sex\n",
       "Female    8146\n",
       "Male      6399\n",
       "Name: count, dtype: int64"
      ]
     },
     "execution_count": 51,
     "metadata": {},
     "output_type": "execute_result"
    }
   ],
   "source": [
    "df['sex'] = df['sex'].replace(\n",
    "    {1.0:'Female',\n",
    "     2.0:'Male',\n",
    "     3.0:'Male', \n",
    "     np.nan:'Male'\n",
    "     }\n",
    "    )\n",
    "df.sex.value_counts(dropna=False)"
   ]
  },
  {
   "cell_type": "code",
   "execution_count": 52,
   "metadata": {},
   "outputs": [
    {
     "data": {
      "text/plain": [
       "<Axes: >"
      ]
     },
     "execution_count": 52,
     "metadata": {},
     "output_type": "execute_result"
    },
    {
     "data": {
      "image/png": "[encoded data removed]",
      "text/plain": [
       "<Figure size 640x480 with 1 Axes>"
      ]
     },
     "metadata": {},
     "output_type": "display_data"
    }
   ],
   "source": [
    "df.sex.hist()"
   ]
  },
  {
   "cell_type": "markdown",
   "metadata": {},
   "source": [
    "# Income\n",
    "- This section computes income at the household level\n",
    "- Income can come from 1) main_job, 2)second_job, 3)main_business, 4)second_business"
   ]
  },
  {
   "cell_type": "code",
   "execution_count": 53,
   "metadata": {},
   "outputs": [
    {
     "data": {
      "text/plain": [
       "income_type\n",
       "NaN           9028\n",
       "undetailed    4413\n",
       "detailed       781\n",
       "dk             323\n",
       "Name: count, dtype: int64"
      ]
     },
     "execution_count": 53,
     "metadata": {},
     "output_type": "execute_result"
    }
   ],
   "source": [
    "\"\"\"Income Type\n",
    "undetailed : single measure of income\n",
    "detailed : income separated into wages, tips, etc\n",
    "\"\"\"\n",
    "df.income_type = df.income_type.replace({\n",
    "    3.0:'undetailed',\n",
    "    1.0:'detailed',\n",
    "    8.0:'dk'\n",
    "})\n",
    "df.income_type.value_counts(dropna=False)"
   ]
  },
  {
   "cell_type": "code",
   "execution_count": 54,
   "metadata": {},
   "outputs": [
    {
     "data": {
      "text/plain": [
       "<Axes: >"
      ]
     },
     "execution_count": 54,
     "metadata": {},
     "output_type": "execute_result"
    },
    {
     "data": {
      "image/png": "[encoded data removed]",
      "text/plain": [
       "<Figure size 640x480 with 1 Axes>"
      ]
     },
     "metadata": {},
     "output_type": "display_data"
    }
   ],
   "source": [
    "df.income_type.hist()"
   ]
  },
  {
   "cell_type": "code",
   "execution_count": 55,
   "metadata": {},
   "outputs": [],
   "source": [
    "# main job\n",
    "df['income_main_job'] = 0.00\n",
    "\n",
    "undetailed_income_main_job = df['income_type'] == 'undetailed'\n",
    "detailed_income_main_job   = df['income_type'] == 'detailed'\n",
    "dk_income_main_job  = df['income_type'] == 'dk'\n",
    "\n",
    "# if income is undetailed, then input undetailed income column\n",
    "df.loc[undetailed_income_main_job, 'income_main_job'] = df.loc[undetailed_income_main_job, 'income_undetailed']"
   ]
  },
  {
   "cell_type": "markdown",
   "metadata": {},
   "source": [
    "## Detailed Income\n",
    "- This section computes income for households that have detailed income information which is split into wages, tips, etc."
   ]
  },
  {
   "cell_type": "code",
   "execution_count": 56,
   "metadata": {},
   "outputs": [],
   "source": [
    "detailed_income_sources = ['wage', 'piecework', 'tips', 'extrahours', 'christmasbonus', 'bonus', 'profitdist', 'other']\n",
    "has_values = {\n",
    "    'wage':'A',\n",
    "    'piecework':'B',\n",
    "    'tips':'C',\n",
    "    'extrahours':'D',\n",
    "    'christmasbonus':'E',\n",
    "    'bonus':'F',\n",
    "    'profitdist':'H',\n",
    "    'other':'M'\n",
    "}"
   ]
  },
  {
   "cell_type": "code",
   "execution_count": 57,
   "metadata": {},
   "outputs": [],
   "source": [
    "for detailed_income_source in detailed_income_sources:\n",
    "    # indicator for if household knows the value of this detailed income source\n",
    "    knows = df['has_' + detailed_income_source] == has_values[detailed_income_source]\n",
    "\n",
    "    # indicator for if household does not know the value of this detailed income sources\n",
    "    dk = df['has_' + detailed_income_source] == 8\n",
    "\n",
    "    # impute households with unknown detailed income to the average of that income source for households who do know their value\n",
    "    df.loc[dk, detailed_income_source] = np.average(df.loc[knows, detailed_income_source],\n",
    "                                                    weights = df.loc[knows, 'weight_ind'])\n",
    "\n",
    "    # if nan, assume household does not receive any income from that detailed income source\n",
    "    df[detailed_income_source] = df[detailed_income_source].fillna(0.00)\n",
    "\n",
    "# for households with detailed income, income_main_job is the sum of their detailed income sources\n",
    "df.loc[detailed_income_main_job, 'income_main_job'] = df.loc[detailed_income_main_job, detailed_income_sources].sum(axis=1)"
   ]
  },
  {
   "cell_type": "markdown",
   "metadata": {},
   "source": [
    "## Imputing Unknown Income\n",
    "- This section imputes income for main job, second job, main business, and second business\n",
    "- Imputations are computed using a regression of demographic variables"
   ]
  },
  {
   "cell_type": "code",
   "execution_count": 58,
   "metadata": {},
   "outputs": [],
   "source": [
    "import statsmodels.api as sm\n",
    "import statsmodels.formula.api as smf\n",
    "import statsmodels.stats.weightstats as ws\n",
    "from statsmodels.stats.weightstats import DescrStatsW\n",
    "\n",
    "from statsmodels.genmod.families.links import identity\n",
    "\n",
    "def imputation_model(df, y, weight='weight_ind'):\n",
    "    # obsrevables\n",
    "    X = '~ age + age_sq + C(education) + C(sex) + C(hh_size)'\n",
    "\n",
    "    # this method removes outlier y observables above the 99.5 percentile\n",
    "    q_995 = DescrStatsW(df[y], df[weight]).quantile(0.995).iloc[0]\n",
    "    df_focus = df[df[y] <= q_995]\n",
    "\n",
    "    reg = y + X\n",
    "    model = smf.glm(reg, df_focus, freq_weights=df_focus[weight]).fit()\n",
    "    del df_focus\n",
    "    return model"
   ]
  },
  {
   "cell_type": "code",
   "execution_count": 59,
   "metadata": {},
   "outputs": [
    {
     "name": "stderr",
     "output_type": "stream",
     "text": [
      "/Users/mitch/envs/main/lib/python3.9/site-packages/pandas/core/arraylike.py:396: RuntimeWarning: divide by zero encountered in log\n",
      "  result = getattr(ufunc, method)(*inputs, **kwargs)\n"
     ]
    },
    {
     "data": {
      "text/html": [
       "<table class=\"simpletable\">\n",
       "<caption>Generalized Linear Model Regression Results</caption>\n",
       "<tr>\n",
       "  <th>Dep. Variable:</th>   <td>log_income_main_job</td> <th>  No. Observations:  </th>   <td>  4343</td>   \n",
       "</tr>\n",
       "<tr>\n",
       "  <th>Model:</th>                   <td>GLM</td>         <th>  Df Residuals:      </th>  <td>15431991</td>  \n",
       "</tr>\n",
       "<tr>\n",
       "  <th>Model Family:</th>         <td>Gaussian</td>       <th>  Df Model:          </th>   <td>    15</td>   \n",
       "</tr>\n",
       "<tr>\n",
       "  <th>Link Function:</th>        <td>Identity</td>       <th>  Scale:             </th>  <td> 0.95254</td>  \n",
       "</tr>\n",
       "<tr>\n",
       "  <th>Method:</th>                 <td>IRLS</td>         <th>  Log-Likelihood:    </th> <td>-2.1522e+07</td>\n",
       "</tr>\n",
       "<tr>\n",
       "  <th>Date:</th>             <td>Mon, 22 Jan 2024</td>   <th>  Deviance:          </th> <td>1.4700e+07</td> \n",
       "</tr>\n",
       "<tr>\n",
       "  <th>Time:</th>                 <td>11:14:23</td>       <th>  Pearson chi2:      </th>  <td>1.47e+07</td>  \n",
       "</tr>\n",
       "<tr>\n",
       "  <th>No. Iterations:</th>           <td>3</td>          <th>  Pseudo R-squ. (CS):</th>   <td> 1.000</td>   \n",
       "</tr>\n",
       "<tr>\n",
       "  <th>Covariance Type:</th>      <td>nonrobust</td>      <th>                     </th>      <td> </td>     \n",
       "</tr>\n",
       "</table>\n",
       "<table class=\"simpletable\">\n",
       "<tr>\n",
       "             <td></td>               <th>coef</th>     <th>std err</th>      <th>z</th>      <th>P>|z|</th>  <th>[0.025</th>    <th>0.975]</th>  \n",
       "</tr>\n",
       "<tr>\n",
       "  <th>Intercept</th>              <td>    8.1076</td> <td>    0.003</td> <td> 2622.981</td> <td> 0.000</td> <td>    8.102</td> <td>    8.114</td>\n",
       "</tr>\n",
       "<tr>\n",
       "  <th>C(education)[T.Medium]</th> <td>    0.5250</td> <td>    0.001</td> <td>  880.461</td> <td> 0.000</td> <td>    0.524</td> <td>    0.526</td>\n",
       "</tr>\n",
       "<tr>\n",
       "  <th>C(education)[T.High]</th>   <td>    1.1515</td> <td>    0.001</td> <td> 1498.008</td> <td> 0.000</td> <td>    1.150</td> <td>    1.153</td>\n",
       "</tr>\n",
       "<tr>\n",
       "  <th>C(sex)[T.Male]</th>         <td>    0.3046</td> <td>    0.001</td> <td>  575.001</td> <td> 0.000</td> <td>    0.304</td> <td>    0.306</td>\n",
       "</tr>\n",
       "<tr>\n",
       "  <th>C(hh_size)[T.2]</th>        <td>   -0.1257</td> <td>    0.001</td> <td> -107.953</td> <td> 0.000</td> <td>   -0.128</td> <td>   -0.123</td>\n",
       "</tr>\n",
       "<tr>\n",
       "  <th>C(hh_size)[T.3]</th>        <td>   -0.1804</td> <td>    0.001</td> <td> -153.244</td> <td> 0.000</td> <td>   -0.183</td> <td>   -0.178</td>\n",
       "</tr>\n",
       "<tr>\n",
       "  <th>C(hh_size)[T.4]</th>        <td>   -0.2556</td> <td>    0.001</td> <td> -211.489</td> <td> 0.000</td> <td>   -0.258</td> <td>   -0.253</td>\n",
       "</tr>\n",
       "<tr>\n",
       "  <th>C(hh_size)[T.5]</th>        <td>   -0.2391</td> <td>    0.001</td> <td> -185.914</td> <td> 0.000</td> <td>   -0.242</td> <td>   -0.237</td>\n",
       "</tr>\n",
       "<tr>\n",
       "  <th>C(hh_size)[T.6]</th>        <td>   -0.3571</td> <td>    0.001</td> <td> -248.154</td> <td> 0.000</td> <td>   -0.360</td> <td>   -0.354</td>\n",
       "</tr>\n",
       "<tr>\n",
       "  <th>C(hh_size)[T.7]</th>        <td>   -0.4908</td> <td>    0.002</td> <td> -274.154</td> <td> 0.000</td> <td>   -0.494</td> <td>   -0.487</td>\n",
       "</tr>\n",
       "<tr>\n",
       "  <th>C(hh_size)[T.8]</th>        <td>   -0.1996</td> <td>    0.002</td> <td>  -85.870</td> <td> 0.000</td> <td>   -0.204</td> <td>   -0.195</td>\n",
       "</tr>\n",
       "<tr>\n",
       "  <th>C(hh_size)[T.9]</th>        <td>    0.0598</td> <td>    0.003</td> <td>   18.084</td> <td> 0.000</td> <td>    0.053</td> <td>    0.066</td>\n",
       "</tr>\n",
       "<tr>\n",
       "  <th>C(hh_size)[T.10]</th>       <td>    0.3852</td> <td>    0.005</td> <td>   73.193</td> <td> 0.000</td> <td>    0.375</td> <td>    0.396</td>\n",
       "</tr>\n",
       "<tr>\n",
       "  <th>C(hh_size)[T.14]</th>       <td>   -2.2385</td> <td>    0.025</td> <td>  -90.370</td> <td> 0.000</td> <td>   -2.287</td> <td>   -2.190</td>\n",
       "</tr>\n",
       "<tr>\n",
       "  <th>age</th>                    <td>    0.0862</td> <td>    0.000</td> <td>  566.871</td> <td> 0.000</td> <td>    0.086</td> <td>    0.087</td>\n",
       "</tr>\n",
       "<tr>\n",
       "  <th>age_sq</th>                 <td>   -0.0010</td> <td> 1.93e-06</td> <td> -502.795</td> <td> 0.000</td> <td>   -0.001</td> <td>   -0.001</td>\n",
       "</tr>\n",
       "</table>"
      ],
      "text/latex": [
       "\\begin{center}\n",
       "\\begin{tabular}{lclc}\n",
       "\\toprule\n",
       "\\textbf{Dep. Variable:}         & log\\_income\\_main\\_job & \\textbf{  No. Observations:  } &      4343    \\\\\n",
       "\\textbf{Model:}                 &          GLM           & \\textbf{  Df Residuals:      } &   15431991   \\\\\n",
       "\\textbf{Model Family:}          &        Gaussian        & \\textbf{  Df Model:          } &        15    \\\\\n",
       "\\textbf{Link Function:}         &        Identity        & \\textbf{  Scale:             } &    0.95254   \\\\\n",
       "\\textbf{Method:}                &          IRLS          & \\textbf{  Log-Likelihood:    } & -2.1522e+07  \\\\\n",
       "\\textbf{Date:}                  &    Mon, 22 Jan 2024    & \\textbf{  Deviance:          } &  1.4700e+07  \\\\\n",
       "\\textbf{Time:}                  &        11:14:23        & \\textbf{  Pearson chi2:      } &   1.47e+07   \\\\\n",
       "\\textbf{No. Iterations:}        &           3            & \\textbf{  Pseudo R-squ. (CS):} &     1.000    \\\\\n",
       "\\textbf{Covariance Type:}       &       nonrobust        & \\textbf{                     } &              \\\\\n",
       "\\bottomrule\n",
       "\\end{tabular}\n",
       "\\begin{tabular}{lcccccc}\n",
       "                                & \\textbf{coef} & \\textbf{std err} & \\textbf{z} & \\textbf{P$> |$z$|$} & \\textbf{[0.025} & \\textbf{0.975]}  \\\\\n",
       "\\midrule\n",
       "\\textbf{Intercept}              &       8.1076  &        0.003     &  2622.981  &         0.000        &        8.102    &        8.114     \\\\\n",
       "\\textbf{C(education)[T.Medium]} &       0.5250  &        0.001     &   880.461  &         0.000        &        0.524    &        0.526     \\\\\n",
       "\\textbf{C(education)[T.High]}   &       1.1515  &        0.001     &  1498.008  &         0.000        &        1.150    &        1.153     \\\\\n",
       "\\textbf{C(sex)[T.Male]}         &       0.3046  &        0.001     &   575.001  &         0.000        &        0.304    &        0.306     \\\\\n",
       "\\textbf{C(hh\\_size)[T.2]}       &      -0.1257  &        0.001     &  -107.953  &         0.000        &       -0.128    &       -0.123     \\\\\n",
       "\\textbf{C(hh\\_size)[T.3]}       &      -0.1804  &        0.001     &  -153.244  &         0.000        &       -0.183    &       -0.178     \\\\\n",
       "\\textbf{C(hh\\_size)[T.4]}       &      -0.2556  &        0.001     &  -211.489  &         0.000        &       -0.258    &       -0.253     \\\\\n",
       "\\textbf{C(hh\\_size)[T.5]}       &      -0.2391  &        0.001     &  -185.914  &         0.000        &       -0.242    &       -0.237     \\\\\n",
       "\\textbf{C(hh\\_size)[T.6]}       &      -0.3571  &        0.001     &  -248.154  &         0.000        &       -0.360    &       -0.354     \\\\\n",
       "\\textbf{C(hh\\_size)[T.7]}       &      -0.4908  &        0.002     &  -274.154  &         0.000        &       -0.494    &       -0.487     \\\\\n",
       "\\textbf{C(hh\\_size)[T.8]}       &      -0.1996  &        0.002     &   -85.870  &         0.000        &       -0.204    &       -0.195     \\\\\n",
       "\\textbf{C(hh\\_size)[T.9]}       &       0.0598  &        0.003     &    18.084  &         0.000        &        0.053    &        0.066     \\\\\n",
       "\\textbf{C(hh\\_size)[T.10]}      &       0.3852  &        0.005     &    73.193  &         0.000        &        0.375    &        0.396     \\\\\n",
       "\\textbf{C(hh\\_size)[T.14]}      &      -2.2385  &        0.025     &   -90.370  &         0.000        &       -2.287    &       -2.190     \\\\\n",
       "\\textbf{age}                    &       0.0862  &        0.000     &   566.871  &         0.000        &        0.086    &        0.087     \\\\\n",
       "\\textbf{age\\_sq}                &      -0.0010  &     1.93e-06     &  -502.795  &         0.000        &       -0.001    &       -0.001     \\\\\n",
       "\\bottomrule\n",
       "\\end{tabular}\n",
       "%\\caption{Generalized Linear Model Regression Results}\n",
       "\\end{center}"
      ],
      "text/plain": [
       "<class 'statsmodels.iolib.summary.Summary'>\n",
       "\"\"\"\n",
       "                  Generalized Linear Model Regression Results                  \n",
       "===============================================================================\n",
       "Dep. Variable:     log_income_main_job   No. Observations:                 4343\n",
       "Model:                             GLM   Df Residuals:                 15431991\n",
       "Model Family:                 Gaussian   Df Model:                           15\n",
       "Link Function:                Identity   Scale:                         0.95254\n",
       "Method:                           IRLS   Log-Likelihood:            -2.1522e+07\n",
       "Date:                 Mon, 22 Jan 2024   Deviance:                   1.4700e+07\n",
       "Time:                         11:14:23   Pearson chi2:                 1.47e+07\n",
       "No. Iterations:                      3   Pseudo R-squ. (CS):              1.000\n",
       "Covariance Type:             nonrobust                                         \n",
       "==========================================================================================\n",
       "                             coef    std err          z      P>|z|      [0.025      0.975]\n",
       "------------------------------------------------------------------------------------------\n",
       "Intercept                  8.1076      0.003   2622.981      0.000       8.102       8.114\n",
       "C(education)[T.Medium]     0.5250      0.001    880.461      0.000       0.524       0.526\n",
       "C(education)[T.High]       1.1515      0.001   1498.008      0.000       1.150       1.153\n",
       "C(sex)[T.Male]             0.3046      0.001    575.001      0.000       0.304       0.306\n",
       "C(hh_size)[T.2]           -0.1257      0.001   -107.953      0.000      -0.128      -0.123\n",
       "C(hh_size)[T.3]           -0.1804      0.001   -153.244      0.000      -0.183      -0.178\n",
       "C(hh_size)[T.4]           -0.2556      0.001   -211.489      0.000      -0.258      -0.253\n",
       "C(hh_size)[T.5]           -0.2391      0.001   -185.914      0.000      -0.242      -0.237\n",
       "C(hh_size)[T.6]           -0.3571      0.001   -248.154      0.000      -0.360      -0.354\n",
       "C(hh_size)[T.7]           -0.4908      0.002   -274.154      0.000      -0.494      -0.487\n",
       "C(hh_size)[T.8]           -0.1996      0.002    -85.870      0.000      -0.204      -0.195\n",
       "C(hh_size)[T.9]            0.0598      0.003     18.084      0.000       0.053       0.066\n",
       "C(hh_size)[T.10]           0.3852      0.005     73.193      0.000       0.375       0.396\n",
       "C(hh_size)[T.14]          -2.2385      0.025    -90.370      0.000      -2.287      -2.190\n",
       "age                        0.0862      0.000    566.871      0.000       0.086       0.087\n",
       "age_sq                    -0.0010   1.93e-06   -502.795      0.000      -0.001      -0.001\n",
       "==========================================================================================\n",
       "\"\"\""
      ]
     },
     "execution_count": 59,
     "metadata": {},
     "output_type": "execute_result"
    }
   ],
   "source": [
    "df['log_income_main_job'] = np.log(df.income_main_job)\n",
    "model_income = imputation_model(df[undetailed_income_main_job], y='log_income_main_job')\n",
    "\n",
    "# predict income_main_job for those who do not know it using the model\n",
    "df.loc[dk_income_main_job, 'income_main_job'] = np.exp(model_income.predict(df[dk_income_main_job]))\n",
    "model_income.summary()"
   ]
  },
  {
   "cell_type": "markdown",
   "metadata": {},
   "source": [
    "### Second Job"
   ]
  },
  {
   "cell_type": "code",
   "execution_count": 60,
   "metadata": {},
   "outputs": [
    {
     "data": {
      "text/plain": [
       "has_income_second_job\n",
       " 0.0    14444\n",
       " 1.0       86\n",
       "-1.0       15\n",
       "Name: count, dtype: int64"
      ]
     },
     "execution_count": 60,
     "metadata": {},
     "output_type": "execute_result"
    }
   ],
   "source": [
    "df['has_income_second_job'] = df['has_income_second_job'].replace({\n",
    "    3.0:1, \n",
    "    8.0:-1,\n",
    "    np.nan:0\n",
    "})\n",
    "df.has_income_second_job.value_counts()"
   ]
  },
  {
   "cell_type": "code",
   "execution_count": 61,
   "metadata": {},
   "outputs": [
    {
     "data": {
      "text/html": [
       "<table class=\"simpletable\">\n",
       "<caption>Generalized Linear Model Regression Results</caption>\n",
       "<tr>\n",
       "  <th>Dep. Variable:</th>   <td>log_income_second_job</td> <th>  No. Observations:  </th>   <td>    85</td>   \n",
       "</tr>\n",
       "<tr>\n",
       "  <th>Model:</th>                    <td>GLM</td>          <th>  Df Residuals:      </th>   <td>300943</td>   \n",
       "</tr>\n",
       "<tr>\n",
       "  <th>Model Family:</th>          <td>Gaussian</td>        <th>  Df Model:          </th>   <td>    10</td>   \n",
       "</tr>\n",
       "<tr>\n",
       "  <th>Link Function:</th>         <td>Identity</td>        <th>  Scale:             </th>  <td>  2.4230</td>  \n",
       "</tr>\n",
       "<tr>\n",
       "  <th>Method:</th>                  <td>IRLS</td>          <th>  Log-Likelihood:    </th> <td>-5.6020e+05</td>\n",
       "</tr>\n",
       "<tr>\n",
       "  <th>Date:</th>              <td>Mon, 22 Jan 2024</td>    <th>  Deviance:          </th> <td>7.2917e+05</td> \n",
       "</tr>\n",
       "<tr>\n",
       "  <th>Time:</th>                  <td>11:14:23</td>        <th>  Pearson chi2:      </th>  <td>7.29e+05</td>  \n",
       "</tr>\n",
       "<tr>\n",
       "  <th>No. Iterations:</th>            <td>3</td>           <th>  Pseudo R-squ. (CS):</th>   <td> 1.000</td>   \n",
       "</tr>\n",
       "<tr>\n",
       "  <th>Covariance Type:</th>       <td>nonrobust</td>       <th>                     </th>      <td> </td>     \n",
       "</tr>\n",
       "</table>\n",
       "<table class=\"simpletable\">\n",
       "<tr>\n",
       "             <td></td>               <th>coef</th>     <th>std err</th>      <th>z</th>      <th>P>|z|</th>  <th>[0.025</th>    <th>0.975]</th>  \n",
       "</tr>\n",
       "<tr>\n",
       "  <th>Intercept</th>              <td>    9.3218</td> <td>    0.043</td> <td>  218.877</td> <td> 0.000</td> <td>    9.238</td> <td>    9.405</td>\n",
       "</tr>\n",
       "<tr>\n",
       "  <th>C(education)[T.Medium]</th> <td>    1.5604</td> <td>    0.008</td> <td>  205.939</td> <td> 0.000</td> <td>    1.546</td> <td>    1.575</td>\n",
       "</tr>\n",
       "<tr>\n",
       "  <th>C(education)[T.High]</th>   <td>    2.5542</td> <td>    0.008</td> <td>  322.462</td> <td> 0.000</td> <td>    2.539</td> <td>    2.570</td>\n",
       "</tr>\n",
       "<tr>\n",
       "  <th>C(sex)[T.Male]</th>         <td>    0.0017</td> <td>    0.007</td> <td>    0.256</td> <td> 0.798</td> <td>   -0.011</td> <td>    0.014</td>\n",
       "</tr>\n",
       "<tr>\n",
       "  <th>C(hh_size)[T.2]</th>        <td>   -0.3593</td> <td>    0.011</td> <td>  -33.000</td> <td> 0.000</td> <td>   -0.381</td> <td>   -0.338</td>\n",
       "</tr>\n",
       "<tr>\n",
       "  <th>C(hh_size)[T.3]</th>        <td>   -0.4430</td> <td>    0.011</td> <td>  -40.824</td> <td> 0.000</td> <td>   -0.464</td> <td>   -0.422</td>\n",
       "</tr>\n",
       "<tr>\n",
       "  <th>C(hh_size)[T.4]</th>        <td>   -0.7815</td> <td>    0.012</td> <td>  -66.282</td> <td> 0.000</td> <td>   -0.805</td> <td>   -0.758</td>\n",
       "</tr>\n",
       "<tr>\n",
       "  <th>C(hh_size)[T.5]</th>        <td>    0.2053</td> <td>    0.016</td> <td>   13.020</td> <td> 0.000</td> <td>    0.174</td> <td>    0.236</td>\n",
       "</tr>\n",
       "<tr>\n",
       "  <th>C(hh_size)[T.6]</th>        <td>   -2.0883</td> <td>    0.013</td> <td> -156.403</td> <td> 0.000</td> <td>   -2.115</td> <td>   -2.062</td>\n",
       "</tr>\n",
       "<tr>\n",
       "  <th>age</th>                    <td>   -0.0801</td> <td>    0.002</td> <td>  -37.174</td> <td> 0.000</td> <td>   -0.084</td> <td>   -0.076</td>\n",
       "</tr>\n",
       "<tr>\n",
       "  <th>age_sq</th>                 <td>    0.0012</td> <td> 2.78e-05</td> <td>   43.307</td> <td> 0.000</td> <td>    0.001</td> <td>    0.001</td>\n",
       "</tr>\n",
       "</table>"
      ],
      "text/latex": [
       "\\begin{center}\n",
       "\\begin{tabular}{lclc}\n",
       "\\toprule\n",
       "\\textbf{Dep. Variable:}         & log\\_income\\_second\\_job & \\textbf{  No. Observations:  } &        85    \\\\\n",
       "\\textbf{Model:}                 &           GLM            & \\textbf{  Df Residuals:      } &    300943    \\\\\n",
       "\\textbf{Model Family:}          &         Gaussian         & \\textbf{  Df Model:          } &        10    \\\\\n",
       "\\textbf{Link Function:}         &         Identity         & \\textbf{  Scale:             } &     2.4230   \\\\\n",
       "\\textbf{Method:}                &           IRLS           & \\textbf{  Log-Likelihood:    } & -5.6020e+05  \\\\\n",
       "\\textbf{Date:}                  &     Mon, 22 Jan 2024     & \\textbf{  Deviance:          } &  7.2917e+05  \\\\\n",
       "\\textbf{Time:}                  &         11:14:23         & \\textbf{  Pearson chi2:      } &   7.29e+05   \\\\\n",
       "\\textbf{No. Iterations:}        &            3             & \\textbf{  Pseudo R-squ. (CS):} &     1.000    \\\\\n",
       "\\textbf{Covariance Type:}       &        nonrobust         & \\textbf{                     } &              \\\\\n",
       "\\bottomrule\n",
       "\\end{tabular}\n",
       "\\begin{tabular}{lcccccc}\n",
       "                                & \\textbf{coef} & \\textbf{std err} & \\textbf{z} & \\textbf{P$> |$z$|$} & \\textbf{[0.025} & \\textbf{0.975]}  \\\\\n",
       "\\midrule\n",
       "\\textbf{Intercept}              &       9.3218  &        0.043     &   218.877  &         0.000        &        9.238    &        9.405     \\\\\n",
       "\\textbf{C(education)[T.Medium]} &       1.5604  &        0.008     &   205.939  &         0.000        &        1.546    &        1.575     \\\\\n",
       "\\textbf{C(education)[T.High]}   &       2.5542  &        0.008     &   322.462  &         0.000        &        2.539    &        2.570     \\\\\n",
       "\\textbf{C(sex)[T.Male]}         &       0.0017  &        0.007     &     0.256  &         0.798        &       -0.011    &        0.014     \\\\\n",
       "\\textbf{C(hh\\_size)[T.2]}       &      -0.3593  &        0.011     &   -33.000  &         0.000        &       -0.381    &       -0.338     \\\\\n",
       "\\textbf{C(hh\\_size)[T.3]}       &      -0.4430  &        0.011     &   -40.824  &         0.000        &       -0.464    &       -0.422     \\\\\n",
       "\\textbf{C(hh\\_size)[T.4]}       &      -0.7815  &        0.012     &   -66.282  &         0.000        &       -0.805    &       -0.758     \\\\\n",
       "\\textbf{C(hh\\_size)[T.5]}       &       0.2053  &        0.016     &    13.020  &         0.000        &        0.174    &        0.236     \\\\\n",
       "\\textbf{C(hh\\_size)[T.6]}       &      -2.0883  &        0.013     &  -156.403  &         0.000        &       -2.115    &       -2.062     \\\\\n",
       "\\textbf{age}                    &      -0.0801  &        0.002     &   -37.174  &         0.000        &       -0.084    &       -0.076     \\\\\n",
       "\\textbf{age\\_sq}                &       0.0012  &     2.78e-05     &    43.307  &         0.000        &        0.001    &        0.001     \\\\\n",
       "\\bottomrule\n",
       "\\end{tabular}\n",
       "%\\caption{Generalized Linear Model Regression Results}\n",
       "\\end{center}"
      ],
      "text/plain": [
       "<class 'statsmodels.iolib.summary.Summary'>\n",
       "\"\"\"\n",
       "                   Generalized Linear Model Regression Results                   \n",
       "=================================================================================\n",
       "Dep. Variable:     log_income_second_job   No. Observations:                   85\n",
       "Model:                               GLM   Df Residuals:                   300943\n",
       "Model Family:                   Gaussian   Df Model:                           10\n",
       "Link Function:                  Identity   Scale:                          2.4230\n",
       "Method:                             IRLS   Log-Likelihood:            -5.6020e+05\n",
       "Date:                   Mon, 22 Jan 2024   Deviance:                   7.2917e+05\n",
       "Time:                           11:14:23   Pearson chi2:                 7.29e+05\n",
       "No. Iterations:                        3   Pseudo R-squ. (CS):              1.000\n",
       "Covariance Type:               nonrobust                                         \n",
       "==========================================================================================\n",
       "                             coef    std err          z      P>|z|      [0.025      0.975]\n",
       "------------------------------------------------------------------------------------------\n",
       "Intercept                  9.3218      0.043    218.877      0.000       9.238       9.405\n",
       "C(education)[T.Medium]     1.5604      0.008    205.939      0.000       1.546       1.575\n",
       "C(education)[T.High]       2.5542      0.008    322.462      0.000       2.539       2.570\n",
       "C(sex)[T.Male]             0.0017      0.007      0.256      0.798      -0.011       0.014\n",
       "C(hh_size)[T.2]           -0.3593      0.011    -33.000      0.000      -0.381      -0.338\n",
       "C(hh_size)[T.3]           -0.4430      0.011    -40.824      0.000      -0.464      -0.422\n",
       "C(hh_size)[T.4]           -0.7815      0.012    -66.282      0.000      -0.805      -0.758\n",
       "C(hh_size)[T.5]            0.2053      0.016     13.020      0.000       0.174       0.236\n",
       "C(hh_size)[T.6]           -2.0883      0.013   -156.403      0.000      -2.115      -2.062\n",
       "age                       -0.0801      0.002    -37.174      0.000      -0.084      -0.076\n",
       "age_sq                     0.0012   2.78e-05     43.307      0.000       0.001       0.001\n",
       "==========================================================================================\n",
       "\"\"\""
      ]
     },
     "execution_count": 61,
     "metadata": {},
     "output_type": "execute_result"
    }
   ],
   "source": [
    "no_income_second_job = df['has_income_second_job'] == 0\n",
    "know_income_second_job = df['has_income_second_job'] == 1\n",
    "dk_income_second_job = df['has_income_second_job'] == -1\n",
    "\n",
    "df['log_income_second_job'] = np.log(df['income_second_job'])\n",
    "\n",
    "# regress log undetailed income on observables for those who know their undetailed income\n",
    "model_income = imputation_model(df[know_income_second_job], y='log_income_second_job')\n",
    "\n",
    "# predict income_second_job for those who do not know it using the traind model\n",
    "df.loc[dk_income_second_job, 'income_second_job'] = np.exp(model_income.predict(df[dk_income_second_job]))\n",
    "model_income.summary()"
   ]
  },
  {
   "cell_type": "markdown",
   "metadata": {},
   "source": [
    "## Main and Second Business"
   ]
  },
  {
   "cell_type": "code",
   "execution_count": 62,
   "metadata": {},
   "outputs": [
    {
     "data": {
      "text/plain": [
       "earn_main_business\n",
       "NaN    12746\n",
       "2.0     1799\n",
       "Name: count, dtype: int64"
      ]
     },
     "execution_count": 62,
     "metadata": {},
     "output_type": "execute_result"
    }
   ],
   "source": [
    "df.earn_main_business.value_counts(dropna=False)"
   ]
  },
  {
   "cell_type": "code",
   "execution_count": 63,
   "metadata": {},
   "outputs": [
    {
     "data": {
      "text/plain": [
       "0"
      ]
     },
     "execution_count": 63,
     "metadata": {},
     "output_type": "execute_result"
    }
   ],
   "source": [
    "# no main business owners that do not know their income\n",
    "df.loc[df.earn_main_business == 2.0, 'income_main_business'].isna().sum()"
   ]
  },
  {
   "cell_type": "code",
   "execution_count": 64,
   "metadata": {},
   "outputs": [
    {
     "data": {
      "text/plain": [
       "earn_second_business\n",
       "NaN    14411\n",
       "2.0      134\n",
       "Name: count, dtype: int64"
      ]
     },
     "execution_count": 64,
     "metadata": {},
     "output_type": "execute_result"
    }
   ],
   "source": [
    "df.earn_second_business.value_counts(dropna=False)"
   ]
  },
  {
   "cell_type": "code",
   "execution_count": 65,
   "metadata": {},
   "outputs": [
    {
     "data": {
      "text/plain": [
       "0"
      ]
     },
     "execution_count": 65,
     "metadata": {},
     "output_type": "execute_result"
    }
   ],
   "source": [
    "# no second business owners that do not know their income\n",
    "df.loc[df.earn_second_business == 2.0, 'income_second_business'].isna().sum()"
   ]
  },
  {
   "cell_type": "markdown",
   "metadata": {},
   "source": [
    "## Summing over Income Sources"
   ]
  },
  {
   "cell_type": "code",
   "execution_count": 66,
   "metadata": {},
   "outputs": [
    {
     "name": "stderr",
     "output_type": "stream",
     "text": [
      "/Users/mitch/envs/main/lib/python3.9/site-packages/pandas/core/arraylike.py:396: RuntimeWarning: divide by zero encountered in log\n",
      "  result = getattr(ufunc, method)(*inputs, **kwargs)\n"
     ]
    }
   ],
   "source": [
    "# sum income from jobs and businesses\n",
    "income_sources = [\n",
    "    'income_main_job',\n",
    "    'income_second_job',\n",
    "    'income_main_business',\n",
    "    'income_second_business'\n",
    "]\n",
    "\n",
    "# collect income from each column\n",
    "# this summation implicitly treats nan values as zero\n",
    "# e.g. someone who does not have a main business implicitly has income_main_business = 0\n",
    "df['income'] = df[income_sources].sum(axis=1)\n",
    "\n",
    "# generate log income\n",
    "df['log_income'] = np.log(df['income'])"
   ]
  },
  {
   "cell_type": "code",
   "execution_count": 67,
   "metadata": {},
   "outputs": [],
   "source": [
    "# remove detailed income columns\n",
    "detailed_columns = detailed_income_sources + ['has_'+x for x in detailed_income_sources]\n",
    "df = df.drop(columns=detailed_columns)"
   ]
  },
  {
   "cell_type": "markdown",
   "metadata": {},
   "source": [
    "# Work Industry"
   ]
  },
  {
   "cell_type": "code",
   "execution_count": 68,
   "metadata": {},
   "outputs": [
    {
     "data": {
      "text/plain": [
       "{'-1': 'None',\n",
       " '11': 'Agriculture',\n",
       " '21': 'Mining',\n",
       " '22': 'Utilities',\n",
       " '23': 'Construction',\n",
       " '31': 'Manufacturing',\n",
       " '32': 'Manufacturing',\n",
       " '33': 'Manufacturing',\n",
       " '43': 'Wholesale',\n",
       " '46': 'Retail',\n",
       " '48': 'Transportation',\n",
       " '49': 'Transportation',\n",
       " '51': 'Massive Means Information',\n",
       " '52': 'Financial / Insurance',\n",
       " '53': 'Real Estate',\n",
       " '54': 'Professional / Scientific',\n",
       " '55': 'Corporate',\n",
       " '56': 'Business Services',\n",
       " '61': 'Education',\n",
       " '62': 'Health / Social Services',\n",
       " '71': 'Cultural / Sport / Recreational',\n",
       " '72': 'Hospitality',\n",
       " '81': 'Other Services (Not Government)',\n",
       " '93': 'Government',\n",
       " '99': 'Other'}"
      ]
     },
     "execution_count": 68,
     "metadata": {},
     "output_type": "execute_result"
    }
   ],
   "source": [
    "naics"
   ]
  },
  {
   "cell_type": "code",
   "execution_count": 69,
   "metadata": {},
   "outputs": [
    {
     "data": {
      "text/plain": [
       "naics_classification\n",
       "-1.0     6164\n",
       " 11.0    1535\n",
       " 46.0    1274\n",
       " 23.0     806\n",
       " 81.0     704\n",
       " 31.0     672\n",
       " 61.0     463\n",
       " 72.0     423\n",
       " 33.0     373\n",
       " 93.0     367\n",
       " 99.0     301\n",
       " 48.0     293\n",
       " 32.0     221\n",
       " 62.0     198\n",
       " 54.0     185\n",
       " 56.0     158\n",
       " 43.0      92\n",
       " 71.0      69\n",
       " 21.0      53\n",
       " 52.0      52\n",
       " 51.0      50\n",
       " 22.0      36\n",
       " 53.0      36\n",
       " 49.0      17\n",
       " 55.0       3\n",
       "Name: count, dtype: int64"
      ]
     },
     "execution_count": 69,
     "metadata": {},
     "output_type": "execute_result"
    }
   ],
   "source": [
    "df.naics_classification.fillna(-1, inplace=True)\n",
    "df.naics_classification.value_counts(dropna=False)"
   ]
  },
  {
   "cell_type": "code",
   "execution_count": 70,
   "metadata": {},
   "outputs": [
    {
     "data": {
      "text/plain": [
       "naics_classification\n",
       "None                               6164\n",
       "Agriculture                        1535\n",
       "Retail                             1274\n",
       "Manufacturing                      1266\n",
       "Construction                        806\n",
       "Other Services (Not Government)     704\n",
       "Education                           463\n",
       "Hospitality                         423\n",
       "Government                          367\n",
       "Transportation                      310\n",
       "Other                               301\n",
       "Health / Social Services            198\n",
       "Professional / Scientific           185\n",
       "Business Services                   158\n",
       "Wholesale                            92\n",
       "Cultural / Sport / Recreational      69\n",
       "Mining                               53\n",
       "Financial / Insurance                52\n",
       "Massive Means Information            50\n",
       "Utilities                            36\n",
       "Real Estate                          36\n",
       "Corporate                             3\n",
       "Name: count, dtype: int64"
      ]
     },
     "execution_count": 70,
     "metadata": {},
     "output_type": "execute_result"
    }
   ],
   "source": [
    "df['naics_classification'] = df.naics_classification.astype(int).astype(str).replace(naics)\n",
    "df.naics_classification.value_counts(dropna=False)"
   ]
  },
  {
   "cell_type": "code",
   "execution_count": 71,
   "metadata": {},
   "outputs": [
    {
     "data": {
      "image/png": "[encoded data removed]",
      "text/plain": [
       "<Figure size 640x480 with 1 Axes>"
      ]
     },
     "metadata": {},
     "output_type": "display_data"
    }
   ],
   "source": [
    "vc =  df.naics_classification.value_counts(dropna=False)\n",
    "sns.barplot(x=vc.index, y=vc.values)\n",
    "plt.xticks(rotation=90);"
   ]
  },
  {
   "cell_type": "markdown",
   "metadata": {},
   "source": [
    "# Debts"
   ]
  },
  {
   "cell_type": "code",
   "execution_count": 72,
   "metadata": {},
   "outputs": [
    {
     "data": {
      "text/plain": [
       "has_debts\n",
       "False    10032\n",
       "True      4513\n",
       "Name: count, dtype: int64"
      ]
     },
     "execution_count": 72,
     "metadata": {},
     "output_type": "execute_result"
    }
   ],
   "source": [
    "df['has_debts'] = df['has_debts'].replace(\n",
    "    {1.0:1, 8.0:0}\n",
    "    ).fillna(0)\n",
    "\n",
    "no_debts = df['has_debts'] == 0\n",
    "df.loc[no_debts, 'debts'] = 0.0\n",
    "\n",
    "df['has_debts'] = (df['debts'] > 0).astype(bool)\n",
    "df.has_debts.value_counts()"
   ]
  },
  {
   "cell_type": "markdown",
   "metadata": {},
   "source": [
    "# Loans"
   ]
  },
  {
   "cell_type": "code",
   "execution_count": 73,
   "metadata": {},
   "outputs": [
    {
     "data": {
      "text/plain": [
       "asked_for_loan_12mth\n",
       "NaN    8823\n",
       "3.0    4267\n",
       "1.0    1455\n",
       "Name: count, dtype: int64"
      ]
     },
     "execution_count": 73,
     "metadata": {},
     "output_type": "execute_result"
    }
   ],
   "source": [
    "df.asked_for_loan_12mth.value_counts(dropna=False)"
   ]
  },
  {
   "cell_type": "code",
   "execution_count": 74,
   "metadata": {},
   "outputs": [
    {
     "data": {
      "text/plain": [
       "asked_for_loan_12mth\n",
       "False    13090\n",
       "True      1455\n",
       "Name: count, dtype: int64"
      ]
     },
     "execution_count": 74,
     "metadata": {},
     "output_type": "execute_result"
    }
   ],
   "source": [
    "df['asked_for_loan_12mth'] = df['asked_for_loan_12mth'].replace(\n",
    "    {1.0:1, 3.0:0, np.nan:0}\n",
    ")\n",
    "df['asked_for_loan_12mth'] = df['asked_for_loan_12mth'].astype(bool)\n",
    "df.asked_for_loan_12mth.value_counts(dropna=False)"
   ]
  },
  {
   "cell_type": "code",
   "execution_count": 75,
   "metadata": {},
   "outputs": [
    {
     "data": {
      "text/plain": [
       "loan_type\n",
       "NaN                                13091\n",
       "relative                             339\n",
       "friends                              258\n",
       "savings_fund                         221\n",
       "moneylender                          156\n",
       "work                                 124\n",
       "bank                                 122\n",
       "other                                111\n",
       "pawnshop                              90\n",
       "other_govt                            26\n",
       "verbal_agreement_credit_program        7\n",
       "Name: count, dtype: int64"
      ]
     },
     "execution_count": 75,
     "metadata": {},
     "output_type": "execute_result"
    }
   ],
   "source": [
    "loan_types = {\n",
    "    1.0:'bank',\n",
    "    2.0:'savings_fund',\n",
    "    3.0:'moneylender',\n",
    "    4.0:'relative',\n",
    "    5.0:'friends',\n",
    "    6.0:'work',\n",
    "    7.0:'pawnshop',\n",
    "    8.0:'verbal_agreement_credit_program',\n",
    "    9.0:'other_govt',\n",
    "    10.0:'other',\n",
    "    -1.0: np.nan\n",
    "}\n",
    "df['loan_type'] = df['loan_type'].replace(loan_types)\n",
    "df.loan_type.value_counts(dropna=False)"
   ]
  },
  {
   "cell_type": "code",
   "execution_count": 76,
   "metadata": {},
   "outputs": [
    {
     "data": {
      "text/plain": [
       "has_loan\n",
       "False    13101\n",
       "True      1444\n",
       "Name: count, dtype: int64"
      ]
     },
     "execution_count": 76,
     "metadata": {},
     "output_type": "execute_result"
    }
   ],
   "source": [
    "got_loan = df['received_loan'] == 1.0\n",
    "df.loc[~got_loan, 'loan'] = 0.0\n",
    "\n",
    "df['has_loan'] = ~df.loan_type.isna() & got_loan\n",
    "df.has_loan.value_counts()"
   ]
  },
  {
   "cell_type": "code",
   "execution_count": 77,
   "metadata": {},
   "outputs": [],
   "source": [
    "formal = ['bank', 'savings_fund', 'moneylender', 'pawnshop']\n",
    "informal = ['relative', 'friends', 'work', 'verbal_agreement_credit_program', 'other_govt', 'other']\n",
    "friends_relatives = ['relative', 'friends']\n",
    "\n",
    "df['has_loan_formal']            = df['loan_type'].isin(formal)\n",
    "df['has_loan_informal']          = df['loan_type'].isin(informal)\n",
    "df['has_loan_friends_relatives'] = df['loan_type'].isin(friends_relatives)\n",
    "\n",
    "df['loan_formal']   = df['loan']*df['has_loan_formal'] \n",
    "df['loan_informal'] = df['loan']*df['has_loan_informal'] \n",
    "df['loan_friends_relatives']   = df['loan']*df['has_loan_friends_relatives'] "
   ]
  },
  {
   "cell_type": "markdown",
   "metadata": {},
   "source": [
    "# Savings"
   ]
  },
  {
   "cell_type": "code",
   "execution_count": 78,
   "metadata": {},
   "outputs": [
    {
     "data": {
      "text/plain": [
       "has_savings\n",
       "3.0    12653\n",
       "1.0     1678\n",
       "7.0      110\n",
       "NaN      104\n",
       "Name: count, dtype: int64"
      ]
     },
     "execution_count": 78,
     "metadata": {},
     "output_type": "execute_result"
    }
   ],
   "source": [
    "df.has_savings.value_counts(dropna=False)"
   ]
  },
  {
   "cell_type": "code",
   "execution_count": 79,
   "metadata": {},
   "outputs": [],
   "source": [
    "has_savings = df['has_savings'] == 1.0\n",
    "no_savings = df['has_savings'] == 3.0\n",
    "dk_savings = df['has_savings'] == 7.0\n",
    "\n",
    "#df.loc[has_savings, 'savings'] = df.loc[df.has_savings, 'savings']\n",
    "df.loc[no_savings, 'savings'] = 0.0\n",
    "df.loc[dk_savings, 'savings'] = 0.0"
   ]
  },
  {
   "cell_type": "code",
   "execution_count": 80,
   "metadata": {},
   "outputs": [
    {
     "data": {
      "text/plain": [
       "has_savings\n",
       "False    12867\n",
       "True      1678\n",
       "Name: count, dtype: int64"
      ]
     },
     "execution_count": 80,
     "metadata": {},
     "output_type": "execute_result"
    }
   ],
   "source": [
    "df['has_savings'] = df['has_savings'].replace({\n",
    "    1.0   : True,\n",
    "    3.0   : False,\n",
    "    7.0   : False,\n",
    "    np.nan: False # if nan have no savings\n",
    "})\n",
    "df.has_savings.value_counts(dropna=False)"
   ]
  },
  {
   "cell_type": "code",
   "execution_count": 81,
   "metadata": {},
   "outputs": [],
   "source": [
    "savings_locations = {\n",
    "   'has_savings_none'          : 1.0,\n",
    "   'has_savings_bank'          : 2.0,\n",
    "   'has_savings_coop'          : 3.0,\n",
    "   'has_savings_savingsbank'   : 4.0,\n",
    "   'has_savings_friend_not_hhm': 5.0,\n",
    "   'has_savings_afores'        : 6.0,\n",
    "   'has_savings_caja_solidaria': 7.0,\n",
    "   'has_savings_house'         : 8.0,\n",
    "   'has_savings_work'          : 9.0,\n",
    "   'has_savings_other'         : 10.0\n",
    "}"
   ]
  },
  {
   "cell_type": "code",
   "execution_count": 82,
   "metadata": {},
   "outputs": [],
   "source": [
    "for savings_type in list(savings_locations.keys()):\n",
    "    df[savings_type] = (df[savings_type] == savings_locations[savings_type]).astype(bool)"
   ]
  },
  {
   "cell_type": "code",
   "execution_count": 83,
   "metadata": {},
   "outputs": [
    {
     "data": {
      "text/plain": [
       "has_savings_none              0\n",
       "has_savings_bank              0\n",
       "has_savings_coop              0\n",
       "has_savings_savingsbank       0\n",
       "has_savings_friend_not_hhm    0\n",
       "has_savings_afores            0\n",
       "has_savings_caja_solidaria    0\n",
       "has_savings_house             0\n",
       "has_savings_work              0\n",
       "has_savings_other             0\n",
       "dtype: int64"
      ]
     },
     "execution_count": 83,
     "metadata": {},
     "output_type": "execute_result"
    }
   ],
   "source": [
    "df.loc[dk_savings, list(savings_locations.keys())].sum()"
   ]
  },
  {
   "cell_type": "code",
   "execution_count": 84,
   "metadata": {},
   "outputs": [],
   "source": [
    "get_sum = [\n",
    "    'income',\n",
    "    'savings',\n",
    "    'debts',\n",
    "    'loan',\n",
    "    'loan_informal',\n",
    "    'loan_formal', \n",
    "    'loan_friends_relatives'\n",
    "]\n",
    "\n",
    "get_any = [\n",
    "    'has_savings',\n",
    "    'has_debts', \n",
    "    'has_loan',\n",
    "    'has_loan_formal',\n",
    "    'has_loan_informal',\n",
    "    'has_loan_friends_relatives',\n",
    "    'has_savings_none',\n",
    "    'has_savings_bank',\n",
    "    'has_savings_coop',\n",
    "    'has_savings_savingsbank',\n",
    "    'has_savings_friend_not_hhm',\n",
    "    'has_savings_afores',\n",
    "    'has_savings_caja_solidaria',\n",
    "    'has_savings_house',\n",
    "    'has_savings_work',\n",
    "    'has_savings_other'\n",
    "]\n",
    "\n",
    "# get sum over set of individuals in household\n",
    "for var in get_sum:\n",
    "    df[var] = df.groupby('hhid')[var].transform('sum')\n",
    "\n",
    "# return true if tru for any individual in the household\n",
    "for var in get_any:\n",
    "    df[var] = df.groupby('hhid')[var].transform(lambda x : x.sum() > 0)"
   ]
  },
  {
   "cell_type": "code",
   "execution_count": 85,
   "metadata": {},
   "outputs": [],
   "source": [
    "# create single observation for each household by restricting to household head\n",
    "# this implicitly restricts all demographic variables to that of the household head\n",
    "df = df[df['is_hhm'] == 1.0].reset_index(drop=True)"
   ]
  },
  {
   "cell_type": "markdown",
   "metadata": {},
   "source": [
    "# Liquid Assets\n",
    "- This section defines the liquid asset position: gross savings minus gross debts"
   ]
  },
  {
   "cell_type": "code",
   "execution_count": 86,
   "metadata": {},
   "outputs": [],
   "source": [
    "df['liquid'] = df['savings'] - df['debts']\n",
    "df['has_liquid'] = df['liquid'] != 0"
   ]
  },
  {
   "cell_type": "markdown",
   "metadata": {},
   "source": [
    "# Income Outliers"
   ]
  },
  {
   "cell_type": "code",
   "execution_count": 87,
   "metadata": {},
   "outputs": [],
   "source": [
    "# remove household above the 99.5% of income\n",
    "from statsmodels.stats.weightstats import DescrStatsW\n",
    "q_995 = DescrStatsW(df['income'], df['weight_ind']).quantile(0.995).iloc[0]\n",
    "df = df[df['income'] <= q_995]\n",
    "\n",
    "df = df[df.income > 0]\n",
    "\n",
    "q_005 = DescrStatsW(df['income'], df['weight_ind']).quantile(0.005).iloc[0]\n",
    "df = df[df['income'] >= q_005]"
   ]
  },
  {
   "cell_type": "code",
   "execution_count": 88,
   "metadata": {},
   "outputs": [],
   "source": [
    "os.chdir(interim)\n",
    "df.to_csv('ind_2005.csv', index=False)"
   ]
  },
  {
   "cell_type": "code",
   "execution_count": 89,
   "metadata": {},
   "outputs": [
    {
     "name": "stdout",
     "output_type": "stream",
     "text": [
      "<class 'pandas.core.frame.DataFrame'>\n",
      "Index: 3715 entries, 0 to 5111\n",
      "Data columns (total 52 columns):\n",
      " #   Column                      Non-Null Count  Dtype   \n",
      "---  ------                      --------------  -----   \n",
      " 0   hhid                        3715 non-null   object  \n",
      " 1   hhmember                    3715 non-null   object  \n",
      " 2   weight_ind                  3715 non-null   float64 \n",
      " 3   is_hhm                      3715 non-null   float64 \n",
      " 4   age                         3715 non-null   float64 \n",
      " 5   attended_school             3714 non-null   float64 \n",
      " 6   education                   3715 non-null   category\n",
      " 7   sex                         3715 non-null   object  \n",
      " 8   income_type                 2570 non-null   object  \n",
      " 9   income_undetailed           2049 non-null   float64 \n",
      " 10  has_income_second_job       3715 non-null   float64 \n",
      " 11  income_second_job           52 non-null     float64 \n",
      " 12  earn_main_business          663 non-null    float64 \n",
      " 13  income_main_business        663 non-null    float64 \n",
      " 14  earn_second_business        69 non-null     float64 \n",
      " 15  income_second_business      69 non-null     float64 \n",
      " 16  naics_classification        3715 non-null   object  \n",
      " 17  asked_for_loan_12mth        3715 non-null   bool    \n",
      " 18  loan_type                   470 non-null    object  \n",
      " 19  received_loan               470 non-null    float64 \n",
      " 20  loan_size                   469 non-null    float64 \n",
      " 21  has_debts                   3715 non-null   bool    \n",
      " 22  debts                       3715 non-null   float64 \n",
      " 23  has_savings                 3715 non-null   bool    \n",
      " 24  savings                     3715 non-null   float64 \n",
      " 25  has_savings_none            3715 non-null   bool    \n",
      " 26  has_savings_bank            3715 non-null   bool    \n",
      " 27  has_savings_coop            3715 non-null   bool    \n",
      " 28  has_savings_savingsbank     3715 non-null   bool    \n",
      " 29  has_savings_friend_not_hhm  3715 non-null   bool    \n",
      " 30  has_savings_afores          3715 non-null   bool    \n",
      " 31  has_savings_caja_solidaria  3715 non-null   bool    \n",
      " 32  has_savings_house           3715 non-null   bool    \n",
      " 33  has_savings_work            3715 non-null   bool    \n",
      " 34  has_savings_other           3715 non-null   bool    \n",
      " 35  hh_size                     3715 non-null   int64   \n",
      " 36  age_sq                      3715 non-null   float64 \n",
      " 37  income_main_job             3702 non-null   float64 \n",
      " 38  log_income_main_job         3702 non-null   float64 \n",
      " 39  log_income_second_job       43 non-null     float64 \n",
      " 40  income                      3715 non-null   float64 \n",
      " 41  log_income                  3715 non-null   float64 \n",
      " 42  loan                        3715 non-null   float64 \n",
      " 43  has_loan                    3715 non-null   bool    \n",
      " 44  has_loan_formal             3715 non-null   bool    \n",
      " 45  has_loan_informal           3715 non-null   bool    \n",
      " 46  has_loan_friends_relatives  3715 non-null   bool    \n",
      " 47  loan_formal                 3715 non-null   float64 \n",
      " 48  loan_informal               3715 non-null   float64 \n",
      " 49  loan_friends_relatives      3715 non-null   float64 \n",
      " 50  liquid                      3715 non-null   float64 \n",
      " 51  has_liquid                  3715 non-null   bool    \n",
      "dtypes: bool(18), category(1), float64(26), int64(1), object(6)\n",
      "memory usage: 1.0+ MB\n"
     ]
    }
   ],
   "source": [
    "df.info()"
   ]
  }
 ],
 "metadata": {
  "kernelspec": {
   "display_name": "Python 3",
   "language": "python",
   "name": "python3"
  },
  "language_info": {
   "codemirror_mode": {
    "name": "ipython",
    "version": 3
   },
   "file_extension": ".py",
   "mimetype": "text/x-python",
   "name": "python",
   "nbconvert_exporter": "python",
   "pygments_lexer": "ipython3",
   "version": "3.9.6"
  },
  "orig_nbformat": 4
 },
 "nbformat": 4,
 "nbformat_minor": 2
}
