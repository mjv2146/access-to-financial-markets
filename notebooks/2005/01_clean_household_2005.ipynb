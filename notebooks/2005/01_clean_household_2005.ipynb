{
 "cells": [
  {
   "attachments": {},
   "cell_type": "markdown",
   "metadata": {},
   "source": [
    "# Clean Household Level Data\n",
    "- This notebook cleans data at the household level\n",
    "- The outcome measures are \n",
    "    1. Ownership of illiquid assets such as housing\n",
    "    1. Posession of savings"
   ]
  },
  {
   "cell_type": "code",
   "execution_count": 1,
   "metadata": {},
   "outputs": [],
   "source": [
    "import pandas as pd\n",
    "import numpy as np\n",
    "import matplotlib.pyplot as plt\n",
    "import seaborn as sns\n",
    "\n",
    "import os \n",
    "home = os.path.expanduser('~')\n",
    "import sys; sys.path.append(home+'/github/access-to-financial-markets/src')\n",
    "import json_utils"
   ]
  },
  {
   "cell_type": "code",
   "execution_count": 2,
   "metadata": {},
   "outputs": [],
   "source": [
    "raw = home + '/Dropbox/data/mexico_fls/raw/2005/'\n",
    "interim = home + '/Dropbox/data/mexico_fls/interim2/2005/'\n",
    "\n",
    "figs = home + '/github/access-to-financial-markets/fig/'\n",
    "dicts= home + '/github/access-to-financial-markets/dicts/'"
   ]
  },
  {
   "cell_type": "code",
   "execution_count": 3,
   "metadata": {},
   "outputs": [
    {
     "data": {
      "text/plain": [
       "{'folio': 'hhid',\n",
       " 'fac_lib2': 'weight_hh',\n",
       " 'ent': 'state',\n",
       " 'ah03a': 'own_house',\n",
       " 'ah03b': 'own_otherhouse',\n",
       " 'ah03c': 'own_bicycles',\n",
       " 'ah03d': 'own_vehicle',\n",
       " 'ah03e': 'own_electronics',\n",
       " 'ah03f': 'own_washmachinestove',\n",
       " 'ah03g': 'own_domesticappliance',\n",
       " 'ah03h': 'own_financialassets',\n",
       " 'ah03i': 'own_machinary',\n",
       " 'ah03j': 'own_bullcow',\n",
       " 'ah03k': 'own_horsesmules',\n",
       " 'ah03l': 'own_pigsgoats',\n",
       " 'ah03m': 'own_poultry',\n",
       " 'ah03n': 'own_otherassets',\n",
       " 'ah04a_1': 'knowvalue_house',\n",
       " 'ah04b_1': 'knowvalue_otherhouse',\n",
       " 'ah04c_1': 'knowvalue_bicycles',\n",
       " 'ah04d_1': 'knowvalue_vehicle',\n",
       " 'ah04e_1': 'knowvalue_electronics',\n",
       " 'ah04f_1': 'knowvalue_washmachinestove',\n",
       " 'ah04g_1': 'knowvalue_domesticappliance',\n",
       " 'ah04h_1': 'knowvalue_financialassets',\n",
       " 'ah04i_1': 'knowvalue_machinary',\n",
       " 'ah04j_1': 'knowvalue_bullcow',\n",
       " 'ah04k_1': 'knowvalue_horsesmules',\n",
       " 'ah04l_1': 'knowvalue_pigsgoats',\n",
       " 'ah04m_1': 'knowvalue_poultry',\n",
       " 'ah04n_1': 'knowvalue_otherassets',\n",
       " 'ah04a_2': 'value_house',\n",
       " 'ah04b_2': 'value_otherhouse',\n",
       " 'ah04c_2': 'value_bicycles',\n",
       " 'ah04d_2': 'value_vehicle',\n",
       " 'ah04e_2': 'value_electronics',\n",
       " 'ah04f_2': 'value_washmachinestove',\n",
       " 'ah04g_2': 'value_domesticappliance',\n",
       " 'ah04h_2': 'value_financialassets',\n",
       " 'ah04i_2': 'value_machinary',\n",
       " 'ah04j_2': 'value_bullcow',\n",
       " 'ah04k_2': 'value_horsesmules',\n",
       " 'ah04l_2': 'value_pigsgoats',\n",
       " 'ah04m_2': 'value_poultry',\n",
       " 'ah04n_2': 'value_otherassets',\n",
       " 'crh01_1a': 'hh_no_savings',\n",
       " 'crh01_1b': 'hh_has_savings_bank',\n",
       " 'crh01_1c': 'hh_has_savings_cooperative',\n",
       " 'crh01_1d': 'hh_has_savings_credit_institution',\n",
       " 'crh01_1e': 'hh_has_savings_batch',\n",
       " 'crh01_1g': 'hh_has_savings_person_not_hhm',\n",
       " 'crh01_1h': 'hh_has_savings_afores',\n",
       " 'crh01_1i': 'hh_has_savings_solidarity',\n",
       " 'crh01_1j': 'hh_has_savings_at_house',\n",
       " 'crh01_1k': 'hh_has_savings_other',\n",
       " 'crh02_1': 'hh_has_debts_12mth',\n",
       " 'crh02_2': 'hh_debts_12mth'}"
      ]
     },
     "execution_count": 3,
     "metadata": {},
     "output_type": "execute_result"
    }
   ],
   "source": [
    "rename = json_utils.load_json(dicts + 'rename_hh_2005.json')\n",
    "rename"
   ]
  },
  {
   "cell_type": "code",
   "execution_count": 4,
   "metadata": {},
   "outputs": [],
   "source": [
    "os.chdir(raw + 'book II/data/' )\n",
    "\n",
    "crh = pd.read_stata('ii_crh.dta')\n",
    "ii_in = pd.read_stata('ii_in.dta')\n",
    "ii_inr = pd.read_stata('ii_inr.dta')\n",
    "ii_portad = pd.read_stata('ii_portad.dta')\n",
    "ii_ah = pd.read_stata('ii_ah.dta').drop(columns=['ls'])\n",
    "weights = pd.read_stata('hh05w_b2.dta')\n",
    "\n",
    "os.chdir(raw + 'book I/data/' )\n",
    "i_cs = pd.read_stata('i_cs.dta')\n",
    "i_cs1 = pd.read_stata('i_cs1.dta')\n",
    "\n",
    "os.chdir(raw + 'book C/data/' )\n",
    "c_cv = pd.read_stata('c_cv.dta')\n"
   ]
  },
  {
   "cell_type": "code",
   "execution_count": 5,
   "metadata": {},
   "outputs": [
    {
     "name": "stdout",
     "output_type": "stream",
     "text": [
      "<class 'pandas.core.frame.DataFrame'>\n",
      "RangeIndex: 8289 entries, 0 to 8288\n",
      "Data columns (total 2 columns):\n",
      " #   Column    Non-Null Count  Dtype \n",
      "---  ------    --------------  ----- \n",
      " 0   folio     8289 non-null   object\n",
      " 1   fac_lib2  8289 non-null   int32 \n",
      "dtypes: int32(1), object(1)\n",
      "memory usage: 97.3+ KB\n"
     ]
    }
   ],
   "source": [
    "weights.info()"
   ]
  },
  {
   "cell_type": "code",
   "execution_count": 6,
   "metadata": {},
   "outputs": [],
   "source": [
    "df = (crh.merge(weights, on=['folio'], how='left')\n",
    "            .merge(ii_in, on=['folio'], how='left')\n",
    "            .merge(ii_inr, on=['folio'], how='left')\n",
    "            .merge(ii_portad, on=['folio'], how='left')\n",
    "            .merge(i_cs, on=['folio'], how='left')\n",
    "            .merge(i_cs1, on=['folio'], how='left')\n",
    "            .merge(ii_ah, on=['folio'], how='left')\n",
    "            .merge(c_cv, on=['folio'], how='left')\n",
    "            )"
   ]
  },
  {
   "cell_type": "code",
   "execution_count": 7,
   "metadata": {},
   "outputs": [],
   "source": [
    "df = df.rename(columns = rename)\n",
    "df = df[rename.values()]"
   ]
  },
  {
   "cell_type": "code",
   "execution_count": 8,
   "metadata": {},
   "outputs": [
    {
     "name": "stdout",
     "output_type": "stream",
     "text": [
      "<class 'pandas.core.frame.DataFrame'>\n",
      "RangeIndex: 8134 entries, 0 to 8133\n",
      "Data columns (total 57 columns):\n",
      " #   Column                             Non-Null Count  Dtype  \n",
      "---  ------                             --------------  -----  \n",
      " 0   hhid                               8134 non-null   object \n",
      " 1   weight_hh                          8022 non-null   float64\n",
      " 2   state                              8134 non-null   float32\n",
      " 3   own_house                          8133 non-null   float32\n",
      " 4   own_otherhouse                     8133 non-null   float32\n",
      " 5   own_bicycles                       8133 non-null   float32\n",
      " 6   own_vehicle                        8133 non-null   float32\n",
      " 7   own_electronics                    8132 non-null   float32\n",
      " 8   own_washmachinestove               8132 non-null   float32\n",
      " 9   own_domesticappliance              8131 non-null   float32\n",
      " 10  own_financialassets                8132 non-null   float32\n",
      " 11  own_machinary                      8132 non-null   float32\n",
      " 12  own_bullcow                        8133 non-null   float32\n",
      " 13  own_horsesmules                    8133 non-null   float32\n",
      " 14  own_pigsgoats                      8133 non-null   float32\n",
      " 15  own_poultry                        8132 non-null   float32\n",
      " 16  own_otherassets                    8122 non-null   float32\n",
      " 17  knowvalue_house                    6409 non-null   float32\n",
      " 18  knowvalue_otherhouse               1463 non-null   float32\n",
      " 19  knowvalue_bicycles                 3164 non-null   float32\n",
      " 20  knowvalue_vehicle                  3006 non-null   float32\n",
      " 21  knowvalue_electronics              7378 non-null   float32\n",
      " 22  knowvalue_washmachinestove         7058 non-null   float32\n",
      " 23  knowvalue_domesticappliance        6842 non-null   float32\n",
      " 24  knowvalue_financialassets          1117 non-null   float32\n",
      " 25  knowvalue_machinary                163 non-null    float32\n",
      " 26  knowvalue_bullcow                  379 non-null    float32\n",
      " 27  knowvalue_horsesmules              475 non-null    float32\n",
      " 28  knowvalue_pigsgoats                455 non-null    float32\n",
      " 29  knowvalue_poultry                  1101 non-null   float32\n",
      " 30  knowvalue_otherassets              34 non-null     float32\n",
      " 31  value_house                        5233 non-null   float32\n",
      " 32  value_otherhouse                   1196 non-null   float32\n",
      " 33  value_bicycles                     2979 non-null   float32\n",
      " 34  value_vehicle                      2798 non-null   float32\n",
      " 35  value_electronics                  6858 non-null   float32\n",
      " 36  value_washmachinestove             6565 non-null   float32\n",
      " 37  value_domesticappliance            6379 non-null   float32\n",
      " 38  value_financialassets              728 non-null    float32\n",
      " 39  value_machinary                    134 non-null    float32\n",
      " 40  value_bullcow                      338 non-null    float32\n",
      " 41  value_horsesmules                  446 non-null    float32\n",
      " 42  value_pigsgoats                    428 non-null    float32\n",
      " 43  value_poultry                      1029 non-null   float32\n",
      " 44  value_otherassets                  30 non-null     float32\n",
      " 45  hh_no_savings                      7061 non-null   float32\n",
      " 46  hh_has_savings_bank                626 non-null    float32\n",
      " 47  hh_has_savings_cooperative         30 non-null     float32\n",
      " 48  hh_has_savings_credit_institution  219 non-null    float32\n",
      " 49  hh_has_savings_batch               18 non-null     float32\n",
      " 50  hh_has_savings_person_not_hhm      6 non-null      float32\n",
      " 51  hh_has_savings_afores              21 non-null     float32\n",
      " 52  hh_has_savings_solidarity          4 non-null      float32\n",
      " 53  hh_has_savings_at_house            138 non-null    float32\n",
      " 54  hh_has_savings_other               45 non-null     float32\n",
      " 55  hh_has_debts_12mth                 8131 non-null   float32\n",
      " 56  hh_debts_12mth                     2054 non-null   float32\n",
      "dtypes: float32(55), float64(1), object(1)\n",
      "memory usage: 1.8+ MB\n"
     ]
    }
   ],
   "source": [
    "df.info()"
   ]
  },
  {
   "cell_type": "code",
   "execution_count": 9,
   "metadata": {},
   "outputs": [],
   "source": [
    "float32_columns = df.select_dtypes(include='float32').columns\n",
    "df[float32_columns] = df[float32_columns].astype('float64')"
   ]
  },
  {
   "cell_type": "code",
   "execution_count": 10,
   "metadata": {},
   "outputs": [
    {
     "data": {
      "text/plain": [
       "hhid                                    0\n",
       "weight_hh                             112\n",
       "state                                   0\n",
       "own_house                               1\n",
       "own_otherhouse                          1\n",
       "own_bicycles                            1\n",
       "own_vehicle                             1\n",
       "own_electronics                         2\n",
       "own_washmachinestove                    2\n",
       "own_domesticappliance                   3\n",
       "own_financialassets                     2\n",
       "own_machinary                           2\n",
       "own_bullcow                             1\n",
       "own_horsesmules                         1\n",
       "own_pigsgoats                           1\n",
       "own_poultry                             2\n",
       "own_otherassets                        12\n",
       "knowvalue_house                      1725\n",
       "knowvalue_otherhouse                 6671\n",
       "knowvalue_bicycles                   4970\n",
       "knowvalue_vehicle                    5128\n",
       "knowvalue_electronics                 756\n",
       "knowvalue_washmachinestove           1076\n",
       "knowvalue_domesticappliance          1292\n",
       "knowvalue_financialassets            7017\n",
       "knowvalue_machinary                  7971\n",
       "knowvalue_bullcow                    7755\n",
       "knowvalue_horsesmules                7659\n",
       "knowvalue_pigsgoats                  7679\n",
       "knowvalue_poultry                    7033\n",
       "knowvalue_otherassets                8100\n",
       "value_house                          2901\n",
       "value_otherhouse                     6938\n",
       "value_bicycles                       5155\n",
       "value_vehicle                        5336\n",
       "value_electronics                    1276\n",
       "value_washmachinestove               1569\n",
       "value_domesticappliance              1755\n",
       "value_financialassets                7406\n",
       "value_machinary                      8000\n",
       "value_bullcow                        7796\n",
       "value_horsesmules                    7688\n",
       "value_pigsgoats                      7706\n",
       "value_poultry                        7105\n",
       "value_otherassets                    8104\n",
       "hh_no_savings                        1073\n",
       "hh_has_savings_bank                  7508\n",
       "hh_has_savings_cooperative           8104\n",
       "hh_has_savings_credit_institution    7915\n",
       "hh_has_savings_batch                 8116\n",
       "hh_has_savings_person_not_hhm        8128\n",
       "hh_has_savings_afores                8113\n",
       "hh_has_savings_solidarity            8130\n",
       "hh_has_savings_at_house              7996\n",
       "hh_has_savings_other                 8089\n",
       "hh_has_debts_12mth                      3\n",
       "hh_debts_12mth                       6080\n",
       "dtype: int64"
      ]
     },
     "execution_count": 10,
     "metadata": {},
     "output_type": "execute_result"
    }
   ],
   "source": [
    "df.isna().sum()"
   ]
  },
  {
   "cell_type": "code",
   "execution_count": 11,
   "metadata": {},
   "outputs": [],
   "source": [
    "df = df[~df.weight_hh.isna()]"
   ]
  },
  {
   "cell_type": "code",
   "execution_count": 12,
   "metadata": {},
   "outputs": [
    {
     "data": {
      "text/plain": [
       "hhid                                    0\n",
       "weight_hh                               0\n",
       "state                                   0\n",
       "own_house                               1\n",
       "own_otherhouse                          1\n",
       "own_bicycles                            1\n",
       "own_vehicle                             1\n",
       "own_electronics                         2\n",
       "own_washmachinestove                    2\n",
       "own_domesticappliance                   3\n",
       "own_financialassets                     2\n",
       "own_machinary                           2\n",
       "own_bullcow                             1\n",
       "own_horsesmules                         1\n",
       "own_pigsgoats                           1\n",
       "own_poultry                             2\n",
       "own_otherassets                        12\n",
       "knowvalue_house                      1664\n",
       "knowvalue_otherhouse                 6574\n",
       "knowvalue_bicycles                   4892\n",
       "knowvalue_vehicle                    5042\n",
       "knowvalue_electronics                 741\n",
       "knowvalue_washmachinestove           1053\n",
       "knowvalue_domesticappliance          1271\n",
       "knowvalue_financialassets            6924\n",
       "knowvalue_machinary                  7859\n",
       "knowvalue_bullcow                    7646\n",
       "knowvalue_horsesmules                7548\n",
       "knowvalue_pigsgoats                  7568\n",
       "knowvalue_poultry                    6926\n",
       "knowvalue_otherassets                7988\n",
       "value_house                          2833\n",
       "value_otherhouse                     6839\n",
       "value_bicycles                       5074\n",
       "value_vehicle                        5247\n",
       "value_electronics                    1259\n",
       "value_washmachinestove               1546\n",
       "value_domesticappliance              1733\n",
       "value_financialassets                7305\n",
       "value_machinary                      7888\n",
       "value_bullcow                        7687\n",
       "value_horsesmules                    7577\n",
       "value_pigsgoats                      7595\n",
       "value_poultry                        6998\n",
       "value_otherassets                    7992\n",
       "hh_no_savings                        1055\n",
       "hh_has_savings_bank                  7405\n",
       "hh_has_savings_cooperative           7992\n",
       "hh_has_savings_credit_institution    7808\n",
       "hh_has_savings_batch                 8005\n",
       "hh_has_savings_person_not_hhm        8017\n",
       "hh_has_savings_afores                8002\n",
       "hh_has_savings_solidarity            8018\n",
       "hh_has_savings_at_house              7886\n",
       "hh_has_savings_other                 7977\n",
       "hh_has_debts_12mth                      3\n",
       "hh_debts_12mth                       5996\n",
       "dtype: int64"
      ]
     },
     "execution_count": 12,
     "metadata": {},
     "output_type": "execute_result"
    }
   ],
   "source": [
    "df.isna().sum()"
   ]
  },
  {
   "cell_type": "markdown",
   "metadata": {},
   "source": [
    "# State"
   ]
  },
  {
   "cell_type": "code",
   "execution_count": 13,
   "metadata": {},
   "outputs": [
    {
     "data": {
      "text/plain": [
       "{'3': 'Baja California Sur',\n",
       " '5': 'Coahuila',\n",
       " '6': 'Colima',\n",
       " '7': 'Chiapas',\n",
       " '9': 'Federal District',\n",
       " '10': 'Durango',\n",
       " '11': 'Guanajuato',\n",
       " '14': 'Jalisco',\n",
       " '15': 'State of Mexico',\n",
       " '16': 'Michoacan',\n",
       " '17': 'Morelos',\n",
       " '19': 'Nuevo Leon',\n",
       " '20': 'Oaxaca',\n",
       " '21': 'Puebla',\n",
       " '22': 'Queretaro',\n",
       " '23': 'Quintana Roo',\n",
       " '25': 'Sinaloa',\n",
       " '26': 'Sonora',\n",
       " '28': 'Tamaulipas',\n",
       " '30': 'Veravruz',\n",
       " '31': 'Yucatan'}"
      ]
     },
     "execution_count": 13,
     "metadata": {},
     "output_type": "execute_result"
    }
   ],
   "source": [
    "relabel_state = json_utils.load_json(dicts + 'states.json')\n",
    "relabel_state"
   ]
  },
  {
   "cell_type": "markdown",
   "metadata": {},
   "source": [
    "## Distribution of States\n",
    "- Below are value counts for locations\n",
    "- We can see that the survey is **not** inclusive of all 32 federal entities of Mexico"
   ]
  },
  {
   "cell_type": "code",
   "execution_count": 14,
   "metadata": {},
   "outputs": [
    {
     "data": {
      "text/plain": [
       "state\n",
       "Veravruz               741\n",
       "Nuevo Leon             673\n",
       "Sonora                 653\n",
       "Michoacan              650\n",
       "Sinaloa                647\n",
       "State of Mexico        581\n",
       "Oaxaca                 523\n",
       "Durango                515\n",
       "Guanajuato             500\n",
       "Jalisco                470\n",
       "Coahuila               431\n",
       "Puebla                 393\n",
       "Morelos                379\n",
       "Yucatan                344\n",
       "Baja California Sur    340\n",
       "Federal District       181\n",
       "Quintana Roo             1\n",
       "Name: count, dtype: int64"
      ]
     },
     "execution_count": 14,
     "metadata": {},
     "output_type": "execute_result"
    }
   ],
   "source": [
    "df.state = df.state.astype(int).astype(str).replace(relabel_state)\n",
    "df.state.value_counts()"
   ]
  },
  {
   "cell_type": "code",
   "execution_count": 20,
   "metadata": {},
   "outputs": [
    {
     "data": {
      "image/png": "[encoded data removed]",
      "text/plain": [
       "<Figure size 640x480 with 1 Axes>"
      ]
     },
     "metadata": {},
     "output_type": "display_data"
    }
   ],
   "source": [
    "sns.histplot(df, x='state', stat='percent')\n",
    "plt.xticks(rotation=90)\n",
    "plt.xlabel('State');"
   ]
  },
  {
   "cell_type": "markdown",
   "metadata": {},
   "source": [
    "# Illiquid Assets"
   ]
  },
  {
   "cell_type": "code",
   "execution_count": 21,
   "metadata": {},
   "outputs": [],
   "source": [
    "illiquid_assets = [\n",
    "    'house', \n",
    "    'otherhouse',\n",
    "    'bicycles',\n",
    "    'vehicle',\n",
    "    'electronics',\n",
    "    'washmachinestove',\n",
    "    'domesticappliance',\n",
    "    'financialassets',\n",
    "    'machinary',\n",
    "    'bullcow',\n",
    "    'horsesmules',\n",
    "    'pigsgoats',\n",
    "    'poultry',\n",
    "    'otherassets'\n",
    "]"
   ]
  },
  {
   "cell_type": "code",
   "execution_count": 22,
   "metadata": {},
   "outputs": [
    {
     "data": {
      "text/plain": [
       "own_house\n",
       "1.0    6358\n",
       "3.0    1663\n",
       "Name: count, dtype: int64"
      ]
     },
     "execution_count": 22,
     "metadata": {},
     "output_type": "execute_result"
    }
   ],
   "source": [
    "df.own_house.value_counts()"
   ]
  },
  {
   "cell_type": "code",
   "execution_count": 23,
   "metadata": {},
   "outputs": [],
   "source": [
    "for asset in illiquid_assets:\n",
    "    df['own_'+asset] = df['own_'+asset].replace({1.0:1, 3.0:0}).fillna(0).astype(bool)\n",
    "    df['knowvalue_'+asset] = df['knowvalue_'+asset].replace({1.0:1, 8.0:0})"
   ]
  },
  {
   "cell_type": "code",
   "execution_count": 24,
   "metadata": {},
   "outputs": [],
   "source": [
    "for asset in illiquid_assets:\n",
    "    own = df['own_' + asset] == 1\n",
    "    dont_own = df['own_' + asset] == 0\n",
    "\n",
    "    know_value = df['knowvalue_'+asset] == 1\n",
    "    dk_value = df['knowvalue_'+asset] == 0\n",
    "\n",
    "    df_own_know = df[own & know_value]\n",
    "\n",
    "    df.loc[own & dk_value, 'value_' + asset] = (\n",
    "        np.sum(df_own_know['value_' + asset] * df_own_know['weight_hh'])\n",
    "        / np.sum(df_own_know['weight_hh'])\n",
    "        )\n",
    "    df.loc[dont_own, 'value_' + asset] = 0.0"
   ]
  },
  {
   "cell_type": "code",
   "execution_count": 25,
   "metadata": {},
   "outputs": [],
   "source": [
    "has_savings_types = [\n",
    "    'hh_no_savings',\n",
    "    'hh_has_savings_bank',\n",
    "    'hh_has_savings_cooperative',\n",
    "    'hh_has_savings_credit_institution',\n",
    "    'hh_has_savings_batch',\n",
    "    'hh_has_savings_person_not_hhm',\n",
    "    'hh_has_savings_afores',\n",
    "    'hh_has_savings_solidarity',\n",
    "    'hh_has_savings_at_house',\n",
    "    'hh_has_savings_other'\n",
    "]\n",
    "\n",
    "has_value = {\n",
    "    'hh_no_savings'                       : 1.0,\n",
    "    'hh_has_savings_bank'                 : 2.0,\n",
    "    'hh_has_savings_cooperative'          : 3.0,\n",
    "    'hh_has_savings_credit_institution'   : 4.0,\n",
    "    'hh_has_savings_batch'                : 5.0,\n",
    "    'hh_has_savings_person_not_hhm'       : 7.0,\n",
    "    'hh_has_savings_afores'               : 8.0,\n",
    "    'hh_has_savings_solidarity'           : 9.0,\n",
    "    'hh_has_savings_at_house'             : 10.0,\n",
    "    'hh_has_savings_other'                : 11.0\n",
    "}\n",
    "\n",
    "for savings_type in has_savings_types:\n",
    "   df[savings_type] = df[savings_type].replace({\n",
    "    has_value[savings_type]:1,\n",
    "    np.nan:0\n",
    "   }).astype(bool)"
   ]
  },
  {
   "cell_type": "code",
   "execution_count": 26,
   "metadata": {},
   "outputs": [
    {
     "data": {
      "text/plain": [
       "hh_has_savings_bank\n",
       "False    7405\n",
       "True      617\n",
       "Name: count, dtype: int64"
      ]
     },
     "execution_count": 26,
     "metadata": {},
     "output_type": "execute_result"
    }
   ],
   "source": [
    "df.hh_has_savings_bank.astype(bool).value_counts()"
   ]
  },
  {
   "cell_type": "code",
   "execution_count": 27,
   "metadata": {},
   "outputs": [
    {
     "data": {
      "text/plain": [
       "hh_no_savings                        0\n",
       "hh_has_savings_bank                  0\n",
       "hh_has_savings_cooperative           0\n",
       "hh_has_savings_credit_institution    0\n",
       "hh_has_savings_batch                 0\n",
       "hh_has_savings_person_not_hhm        0\n",
       "hh_has_savings_afores                0\n",
       "hh_has_savings_solidarity            0\n",
       "hh_has_savings_at_house              0\n",
       "hh_has_savings_other                 0\n",
       "dtype: int64"
      ]
     },
     "execution_count": 27,
     "metadata": {},
     "output_type": "execute_result"
    }
   ],
   "source": [
    "df[has_savings_types].isna().sum()"
   ]
  },
  {
   "cell_type": "code",
   "execution_count": 28,
   "metadata": {},
   "outputs": [
    {
     "data": {
      "text/plain": [
       "['hh_has_savings_bank',\n",
       " 'hh_has_savings_cooperative',\n",
       " 'hh_has_savings_credit_institution',\n",
       " 'hh_has_savings_batch',\n",
       " 'hh_has_savings_person_not_hhm',\n",
       " 'hh_has_savings_afores',\n",
       " 'hh_has_savings_solidarity',\n",
       " 'hh_has_savings_at_house',\n",
       " 'hh_has_savings_other']"
      ]
     },
     "execution_count": 28,
     "metadata": {},
     "output_type": "execute_result"
    }
   ],
   "source": [
    "has_savings_columns = [x for x in df.columns if 'hh_has_savings' in x]\n",
    "df[has_savings_columns] = df[has_savings_columns].fillna(0)\n",
    "has_savings_columns"
   ]
  },
  {
   "cell_type": "code",
   "execution_count": 29,
   "metadata": {},
   "outputs": [
    {
     "data": {
      "text/plain": [
       "hh_has_savings\n",
       "False    6971\n",
       "True     1051\n",
       "Name: count, dtype: int64"
      ]
     },
     "execution_count": 29,
     "metadata": {},
     "output_type": "execute_result"
    }
   ],
   "source": [
    "df['hh_has_savings'] = df[has_savings_columns].sum(axis=1) > 0\n",
    "df['hh_has_savings'].value_counts()"
   ]
  },
  {
   "cell_type": "code",
   "execution_count": 30,
   "metadata": {},
   "outputs": [
    {
     "data": {
      "text/plain": [
       "hh_has_debts_12mth\n",
       "2.0    5900\n",
       "1.0    2026\n",
       "8.0      93\n",
       "NaN       3\n",
       "Name: count, dtype: int64"
      ]
     },
     "execution_count": 30,
     "metadata": {},
     "output_type": "execute_result"
    }
   ],
   "source": [
    "df['hh_has_debts_12mth'].value_counts(dropna=False)"
   ]
  },
  {
   "cell_type": "code",
   "execution_count": 31,
   "metadata": {},
   "outputs": [],
   "source": [
    "df['hh_has_debts_12mth'] = df['hh_has_debts_12mth'].replace({\n",
    "    1.0:1.0,\n",
    "    2.0:0.0,\n",
    "    8.0:0.0,\n",
    "    np.nan:0.0\n",
    "    })\n",
    "has_debt    = df['hh_has_debts_12mth'] == 1.0\n",
    "no_debt     = df['hh_has_debts_12mth'] == 0.0\n",
    "\n",
    "df.loc[no_debt, 'hh_debts_12mth'] = 0.0"
   ]
  },
  {
   "cell_type": "code",
   "execution_count": 32,
   "metadata": {},
   "outputs": [],
   "source": [
    "# remove redundant 'knowvalue' columns\n",
    "knowvalue = [x for x in df.columns if 'knowvalue' in x]\n",
    "df = df.drop(columns = knowvalue)"
   ]
  },
  {
   "cell_type": "code",
   "execution_count": 33,
   "metadata": {},
   "outputs": [
    {
     "data": {
      "text/plain": [
       "['own_house',\n",
       " 'own_otherhouse',\n",
       " 'own_bicycles',\n",
       " 'own_vehicle',\n",
       " 'own_electronics',\n",
       " 'own_washmachinestove',\n",
       " 'own_domesticappliance',\n",
       " 'own_financialassets',\n",
       " 'own_machinary',\n",
       " 'own_bullcow',\n",
       " 'own_horsesmules',\n",
       " 'own_pigsgoats',\n",
       " 'own_poultry',\n",
       " 'own_otherassets']"
      ]
     },
     "execution_count": 33,
     "metadata": {},
     "output_type": "execute_result"
    }
   ],
   "source": [
    "own = [x for x in df.columns if 'own' in x]\n",
    "own"
   ]
  },
  {
   "cell_type": "code",
   "execution_count": 34,
   "metadata": {},
   "outputs": [
    {
     "data": {
      "text/html": [
       "<div>\n",
       "<style scoped>\n",
       "    .dataframe tbody tr th:only-of-type {\n",
       "        vertical-align: middle;\n",
       "    }\n",
       "\n",
       "    .dataframe tbody tr th {\n",
       "        vertical-align: top;\n",
       "    }\n",
       "\n",
       "    .dataframe thead th {\n",
       "        text-align: right;\n",
       "    }\n",
       "</style>\n",
       "<table border=\"1\" class=\"dataframe\">\n",
       "  <thead>\n",
       "    <tr style=\"text-align: right;\">\n",
       "      <th></th>\n",
       "      <th>own_house</th>\n",
       "      <th>own_otherhouse</th>\n",
       "      <th>own_bicycles</th>\n",
       "      <th>own_vehicle</th>\n",
       "      <th>own_electronics</th>\n",
       "      <th>own_washmachinestove</th>\n",
       "      <th>own_domesticappliance</th>\n",
       "      <th>own_financialassets</th>\n",
       "      <th>own_machinary</th>\n",
       "      <th>own_bullcow</th>\n",
       "      <th>own_horsesmules</th>\n",
       "      <th>own_pigsgoats</th>\n",
       "      <th>own_poultry</th>\n",
       "      <th>own_otherassets</th>\n",
       "    </tr>\n",
       "  </thead>\n",
       "  <tbody>\n",
       "    <tr>\n",
       "      <th>0</th>\n",
       "      <td>True</td>\n",
       "      <td>False</td>\n",
       "      <td>True</td>\n",
       "      <td>False</td>\n",
       "      <td>False</td>\n",
       "      <td>True</td>\n",
       "      <td>False</td>\n",
       "      <td>True</td>\n",
       "      <td>False</td>\n",
       "      <td>False</td>\n",
       "      <td>False</td>\n",
       "      <td>False</td>\n",
       "      <td>True</td>\n",
       "      <td>False</td>\n",
       "    </tr>\n",
       "    <tr>\n",
       "      <th>1</th>\n",
       "      <td>False</td>\n",
       "      <td>False</td>\n",
       "      <td>False</td>\n",
       "      <td>True</td>\n",
       "      <td>True</td>\n",
       "      <td>True</td>\n",
       "      <td>True</td>\n",
       "      <td>False</td>\n",
       "      <td>False</td>\n",
       "      <td>False</td>\n",
       "      <td>False</td>\n",
       "      <td>False</td>\n",
       "      <td>False</td>\n",
       "      <td>False</td>\n",
       "    </tr>\n",
       "    <tr>\n",
       "      <th>2</th>\n",
       "      <td>True</td>\n",
       "      <td>False</td>\n",
       "      <td>True</td>\n",
       "      <td>False</td>\n",
       "      <td>True</td>\n",
       "      <td>True</td>\n",
       "      <td>True</td>\n",
       "      <td>False</td>\n",
       "      <td>False</td>\n",
       "      <td>False</td>\n",
       "      <td>False</td>\n",
       "      <td>False</td>\n",
       "      <td>False</td>\n",
       "      <td>False</td>\n",
       "    </tr>\n",
       "    <tr>\n",
       "      <th>3</th>\n",
       "      <td>True</td>\n",
       "      <td>False</td>\n",
       "      <td>True</td>\n",
       "      <td>False</td>\n",
       "      <td>True</td>\n",
       "      <td>True</td>\n",
       "      <td>True</td>\n",
       "      <td>False</td>\n",
       "      <td>False</td>\n",
       "      <td>False</td>\n",
       "      <td>False</td>\n",
       "      <td>True</td>\n",
       "      <td>False</td>\n",
       "      <td>False</td>\n",
       "    </tr>\n",
       "    <tr>\n",
       "      <th>4</th>\n",
       "      <td>True</td>\n",
       "      <td>False</td>\n",
       "      <td>True</td>\n",
       "      <td>True</td>\n",
       "      <td>True</td>\n",
       "      <td>True</td>\n",
       "      <td>True</td>\n",
       "      <td>False</td>\n",
       "      <td>False</td>\n",
       "      <td>False</td>\n",
       "      <td>False</td>\n",
       "      <td>False</td>\n",
       "      <td>False</td>\n",
       "      <td>False</td>\n",
       "    </tr>\n",
       "    <tr>\n",
       "      <th>...</th>\n",
       "      <td>...</td>\n",
       "      <td>...</td>\n",
       "      <td>...</td>\n",
       "      <td>...</td>\n",
       "      <td>...</td>\n",
       "      <td>...</td>\n",
       "      <td>...</td>\n",
       "      <td>...</td>\n",
       "      <td>...</td>\n",
       "      <td>...</td>\n",
       "      <td>...</td>\n",
       "      <td>...</td>\n",
       "      <td>...</td>\n",
       "      <td>...</td>\n",
       "    </tr>\n",
       "    <tr>\n",
       "      <th>8129</th>\n",
       "      <td>True</td>\n",
       "      <td>False</td>\n",
       "      <td>True</td>\n",
       "      <td>True</td>\n",
       "      <td>True</td>\n",
       "      <td>True</td>\n",
       "      <td>True</td>\n",
       "      <td>True</td>\n",
       "      <td>False</td>\n",
       "      <td>False</td>\n",
       "      <td>False</td>\n",
       "      <td>True</td>\n",
       "      <td>False</td>\n",
       "      <td>False</td>\n",
       "    </tr>\n",
       "    <tr>\n",
       "      <th>8130</th>\n",
       "      <td>True</td>\n",
       "      <td>False</td>\n",
       "      <td>True</td>\n",
       "      <td>True</td>\n",
       "      <td>True</td>\n",
       "      <td>True</td>\n",
       "      <td>True</td>\n",
       "      <td>False</td>\n",
       "      <td>False</td>\n",
       "      <td>False</td>\n",
       "      <td>False</td>\n",
       "      <td>False</td>\n",
       "      <td>True</td>\n",
       "      <td>False</td>\n",
       "    </tr>\n",
       "    <tr>\n",
       "      <th>8131</th>\n",
       "      <td>True</td>\n",
       "      <td>True</td>\n",
       "      <td>True</td>\n",
       "      <td>True</td>\n",
       "      <td>True</td>\n",
       "      <td>True</td>\n",
       "      <td>False</td>\n",
       "      <td>False</td>\n",
       "      <td>False</td>\n",
       "      <td>False</td>\n",
       "      <td>False</td>\n",
       "      <td>False</td>\n",
       "      <td>False</td>\n",
       "      <td>False</td>\n",
       "    </tr>\n",
       "    <tr>\n",
       "      <th>8132</th>\n",
       "      <td>True</td>\n",
       "      <td>False</td>\n",
       "      <td>True</td>\n",
       "      <td>True</td>\n",
       "      <td>True</td>\n",
       "      <td>True</td>\n",
       "      <td>True</td>\n",
       "      <td>False</td>\n",
       "      <td>False</td>\n",
       "      <td>False</td>\n",
       "      <td>False</td>\n",
       "      <td>False</td>\n",
       "      <td>False</td>\n",
       "      <td>False</td>\n",
       "    </tr>\n",
       "    <tr>\n",
       "      <th>8133</th>\n",
       "      <td>True</td>\n",
       "      <td>False</td>\n",
       "      <td>True</td>\n",
       "      <td>True</td>\n",
       "      <td>True</td>\n",
       "      <td>True</td>\n",
       "      <td>False</td>\n",
       "      <td>False</td>\n",
       "      <td>False</td>\n",
       "      <td>False</td>\n",
       "      <td>False</td>\n",
       "      <td>True</td>\n",
       "      <td>False</td>\n",
       "      <td>False</td>\n",
       "    </tr>\n",
       "  </tbody>\n",
       "</table>\n",
       "<p>8022 rows × 14 columns</p>\n",
       "</div>"
      ],
      "text/plain": [
       "      own_house  own_otherhouse  own_bicycles  own_vehicle  own_electronics  \\\n",
       "0          True           False          True        False            False   \n",
       "1         False           False         False         True             True   \n",
       "2          True           False          True        False             True   \n",
       "3          True           False          True        False             True   \n",
       "4          True           False          True         True             True   \n",
       "...         ...             ...           ...          ...              ...   \n",
       "8129       True           False          True         True             True   \n",
       "8130       True           False          True         True             True   \n",
       "8131       True            True          True         True             True   \n",
       "8132       True           False          True         True             True   \n",
       "8133       True           False          True         True             True   \n",
       "\n",
       "      own_washmachinestove  own_domesticappliance  own_financialassets  \\\n",
       "0                     True                  False                 True   \n",
       "1                     True                   True                False   \n",
       "2                     True                   True                False   \n",
       "3                     True                   True                False   \n",
       "4                     True                   True                False   \n",
       "...                    ...                    ...                  ...   \n",
       "8129                  True                   True                 True   \n",
       "8130                  True                   True                False   \n",
       "8131                  True                  False                False   \n",
       "8132                  True                   True                False   \n",
       "8133                  True                  False                False   \n",
       "\n",
       "      own_machinary  own_bullcow  own_horsesmules  own_pigsgoats  own_poultry  \\\n",
       "0             False        False            False          False         True   \n",
       "1             False        False            False          False        False   \n",
       "2             False        False            False          False        False   \n",
       "3             False        False            False           True        False   \n",
       "4             False        False            False          False        False   \n",
       "...             ...          ...              ...            ...          ...   \n",
       "8129          False        False            False           True        False   \n",
       "8130          False        False            False          False         True   \n",
       "8131          False        False            False          False        False   \n",
       "8132          False        False            False          False        False   \n",
       "8133          False        False            False           True        False   \n",
       "\n",
       "      own_otherassets  \n",
       "0               False  \n",
       "1               False  \n",
       "2               False  \n",
       "3               False  \n",
       "4               False  \n",
       "...               ...  \n",
       "8129            False  \n",
       "8130            False  \n",
       "8131            False  \n",
       "8132            False  \n",
       "8133            False  \n",
       "\n",
       "[8022 rows x 14 columns]"
      ]
     },
     "execution_count": 34,
     "metadata": {},
     "output_type": "execute_result"
    }
   ],
   "source": [
    "df[own]"
   ]
  },
  {
   "cell_type": "code",
   "execution_count": 35,
   "metadata": {},
   "outputs": [
    {
     "name": "stdout",
     "output_type": "stream",
     "text": [
      "<class 'pandas.core.frame.DataFrame'>\n",
      "Index: 8022 entries, 0 to 8133\n",
      "Data columns (total 44 columns):\n",
      " #   Column                             Non-Null Count  Dtype  \n",
      "---  ------                             --------------  -----  \n",
      " 0   hhid                               8022 non-null   object \n",
      " 1   weight_hh                          8022 non-null   float64\n",
      " 2   state                              8022 non-null   object \n",
      " 3   own_house                          8022 non-null   bool   \n",
      " 4   own_otherhouse                     8022 non-null   bool   \n",
      " 5   own_bicycles                       8022 non-null   bool   \n",
      " 6   own_vehicle                        8022 non-null   bool   \n",
      " 7   own_electronics                    8022 non-null   bool   \n",
      " 8   own_washmachinestove               8022 non-null   bool   \n",
      " 9   own_domesticappliance              8022 non-null   bool   \n",
      " 10  own_financialassets                8022 non-null   bool   \n",
      " 11  own_machinary                      8022 non-null   bool   \n",
      " 12  own_bullcow                        8022 non-null   bool   \n",
      " 13  own_horsesmules                    8022 non-null   bool   \n",
      " 14  own_pigsgoats                      8022 non-null   bool   \n",
      " 15  own_poultry                        8022 non-null   bool   \n",
      " 16  own_otherassets                    8022 non-null   bool   \n",
      " 17  value_house                        8022 non-null   float64\n",
      " 18  value_otherhouse                   8022 non-null   float64\n",
      " 19  value_bicycles                     8022 non-null   float64\n",
      " 20  value_vehicle                      8022 non-null   float64\n",
      " 21  value_electronics                  8022 non-null   float64\n",
      " 22  value_washmachinestove             8022 non-null   float64\n",
      " 23  value_domesticappliance            8022 non-null   float64\n",
      " 24  value_financialassets              8022 non-null   float64\n",
      " 25  value_machinary                    8022 non-null   float64\n",
      " 26  value_bullcow                      8022 non-null   float64\n",
      " 27  value_horsesmules                  8022 non-null   float64\n",
      " 28  value_pigsgoats                    8022 non-null   float64\n",
      " 29  value_poultry                      8022 non-null   float64\n",
      " 30  value_otherassets                  8022 non-null   float64\n",
      " 31  hh_no_savings                      8022 non-null   bool   \n",
      " 32  hh_has_savings_bank                8022 non-null   bool   \n",
      " 33  hh_has_savings_cooperative         8022 non-null   bool   \n",
      " 34  hh_has_savings_credit_institution  8022 non-null   bool   \n",
      " 35  hh_has_savings_batch               8022 non-null   bool   \n",
      " 36  hh_has_savings_person_not_hhm      8022 non-null   bool   \n",
      " 37  hh_has_savings_afores              8022 non-null   bool   \n",
      " 38  hh_has_savings_solidarity          8022 non-null   bool   \n",
      " 39  hh_has_savings_at_house            8022 non-null   bool   \n",
      " 40  hh_has_savings_other               8022 non-null   bool   \n",
      " 41  hh_has_debts_12mth                 8022 non-null   float64\n",
      " 42  hh_debts_12mth                     8022 non-null   float64\n",
      " 43  hh_has_savings                     8022 non-null   bool   \n",
      "dtypes: bool(25), float64(17), object(2)\n",
      "memory usage: 1.4+ MB\n"
     ]
    }
   ],
   "source": [
    "df.info()"
   ]
  },
  {
   "cell_type": "code",
   "execution_count": 36,
   "metadata": {},
   "outputs": [],
   "source": [
    "os.chdir(interim)\n",
    "df.to_csv('hh_2005.csv', index=False)"
   ]
  }
 ],
 "metadata": {
  "kernelspec": {
   "display_name": "Python 3",
   "language": "python",
   "name": "python3"
  },
  "language_info": {
   "codemirror_mode": {
    "name": "ipython",
    "version": 3
   },
   "file_extension": ".py",
   "mimetype": "text/x-python",
   "name": "python",
   "nbconvert_exporter": "python",
   "pygments_lexer": "ipython3",
   "version": "3.9.6"
  },
  "orig_nbformat": 4
 },
 "nbformat": 4,
 "nbformat_minor": 2
}
