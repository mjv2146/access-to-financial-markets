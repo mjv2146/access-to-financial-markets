{
 "cells": [
  {
   "cell_type": "code",
   "execution_count": 467,
   "metadata": {},
   "outputs": [],
   "source": [
    "import pandas as pd\n",
    "import numpy as np\n",
    "import matplotlib.pyplot as plt\n",
    "import statsmodels.api as sm\n",
    "import statsmodels.formula.api as sm\n",
    "from stargazer.stargazer import Stargazer\n",
    "\n",
    "import os; import sys\n",
    "sys.path.append('/home/mitch/school/mfl/src/')\n",
    "import utils\n",
    "import sys; sys.path.append('/home/mitch/util/python')"
   ]
  },
  {
   "cell_type": "code",
   "execution_count": 468,
   "metadata": {},
   "outputs": [],
   "source": [
    "from statsmodels.genmod.families.links import probit, identity"
   ]
  },
  {
   "cell_type": "code",
   "execution_count": 469,
   "metadata": {},
   "outputs": [],
   "source": [
    "raw     = '/home/mitch/Dropbox/data/mexico_fls/raw/2005/'\n",
    "processed = '/home/mitch/Dropbox/data/mexico_fls/processed2/'\n",
    "\n",
    "figs    = '/home/mitch/school/mfl/fig/'\n",
    "dicts   = '/home/mitch/school/mfl/notebooks/dicts/'"
   ]
  },
  {
   "cell_type": "code",
   "execution_count": 470,
   "metadata": {},
   "outputs": [
    {
     "data": {
      "text/html": [
       "<div>\n",
       "<style scoped>\n",
       "    .dataframe tbody tr th:only-of-type {\n",
       "        vertical-align: middle;\n",
       "    }\n",
       "\n",
       "    .dataframe tbody tr th {\n",
       "        vertical-align: top;\n",
       "    }\n",
       "\n",
       "    .dataframe thead th {\n",
       "        text-align: right;\n",
       "    }\n",
       "</style>\n",
       "<table border=\"1\" class=\"dataframe\">\n",
       "  <thead>\n",
       "    <tr style=\"text-align: right;\">\n",
       "      <th></th>\n",
       "      <th>hhid</th>\n",
       "      <th>hhmember</th>\n",
       "      <th>weight_ind</th>\n",
       "      <th>is_hhm</th>\n",
       "      <th>age</th>\n",
       "      <th>attended_school</th>\n",
       "      <th>education</th>\n",
       "      <th>gender</th>\n",
       "      <th>income_type</th>\n",
       "      <th>income_undetailed</th>\n",
       "      <th>...</th>\n",
       "      <th>hh_has_savings_credit_institution</th>\n",
       "      <th>hh_has_savings_batch</th>\n",
       "      <th>hh_has_savings_person_not_hhm</th>\n",
       "      <th>hh_has_savings_afores</th>\n",
       "      <th>hh_has_savings_solidarity</th>\n",
       "      <th>hh_has_savings_at_house</th>\n",
       "      <th>hh_has_savings_other</th>\n",
       "      <th>hh_has_debts_12mth</th>\n",
       "      <th>hh_debts_12mth</th>\n",
       "      <th>hh_has_savings</th>\n",
       "    </tr>\n",
       "  </thead>\n",
       "  <tbody>\n",
       "    <tr>\n",
       "      <th>0</th>\n",
       "      <td>1000</td>\n",
       "      <td>1</td>\n",
       "      <td>2244.0</td>\n",
       "      <td>1.0</td>\n",
       "      <td>41.0</td>\n",
       "      <td>True</td>\n",
       "      <td>Medium</td>\n",
       "      <td>Male</td>\n",
       "      <td>dk</td>\n",
       "      <td>NaN</td>\n",
       "      <td>...</td>\n",
       "      <td>False</td>\n",
       "      <td>False</td>\n",
       "      <td>False</td>\n",
       "      <td>False</td>\n",
       "      <td>False</td>\n",
       "      <td>False</td>\n",
       "      <td>False</td>\n",
       "      <td>0.0</td>\n",
       "      <td>0.0</td>\n",
       "      <td>False</td>\n",
       "    </tr>\n",
       "    <tr>\n",
       "      <th>1</th>\n",
       "      <td>3000</td>\n",
       "      <td>1</td>\n",
       "      <td>2244.0</td>\n",
       "      <td>1.0</td>\n",
       "      <td>45.0</td>\n",
       "      <td>False</td>\n",
       "      <td>Low</td>\n",
       "      <td>Male</td>\n",
       "      <td>undetailed</td>\n",
       "      <td>6000.0</td>\n",
       "      <td>...</td>\n",
       "      <td>False</td>\n",
       "      <td>False</td>\n",
       "      <td>False</td>\n",
       "      <td>False</td>\n",
       "      <td>False</td>\n",
       "      <td>False</td>\n",
       "      <td>False</td>\n",
       "      <td>0.0</td>\n",
       "      <td>0.0</td>\n",
       "      <td>False</td>\n",
       "    </tr>\n",
       "    <tr>\n",
       "      <th>2</th>\n",
       "      <td>8000</td>\n",
       "      <td>1</td>\n",
       "      <td>2244.0</td>\n",
       "      <td>1.0</td>\n",
       "      <td>33.0</td>\n",
       "      <td>True</td>\n",
       "      <td>High</td>\n",
       "      <td>Male</td>\n",
       "      <td>undetailed</td>\n",
       "      <td>60000.0</td>\n",
       "      <td>...</td>\n",
       "      <td>True</td>\n",
       "      <td>False</td>\n",
       "      <td>False</td>\n",
       "      <td>False</td>\n",
       "      <td>False</td>\n",
       "      <td>False</td>\n",
       "      <td>False</td>\n",
       "      <td>1.0</td>\n",
       "      <td>15000.0</td>\n",
       "      <td>True</td>\n",
       "    </tr>\n",
       "    <tr>\n",
       "      <th>3</th>\n",
       "      <td>10000</td>\n",
       "      <td>1</td>\n",
       "      <td>2074.0</td>\n",
       "      <td>1.0</td>\n",
       "      <td>39.0</td>\n",
       "      <td>True</td>\n",
       "      <td>Low</td>\n",
       "      <td>Female</td>\n",
       "      <td>NaN</td>\n",
       "      <td>NaN</td>\n",
       "      <td>...</td>\n",
       "      <td>False</td>\n",
       "      <td>False</td>\n",
       "      <td>False</td>\n",
       "      <td>False</td>\n",
       "      <td>False</td>\n",
       "      <td>False</td>\n",
       "      <td>False</td>\n",
       "      <td>1.0</td>\n",
       "      <td>5000.0</td>\n",
       "      <td>False</td>\n",
       "    </tr>\n",
       "    <tr>\n",
       "      <th>4</th>\n",
       "      <td>11000</td>\n",
       "      <td>1</td>\n",
       "      <td>2074.0</td>\n",
       "      <td>1.0</td>\n",
       "      <td>29.0</td>\n",
       "      <td>True</td>\n",
       "      <td>Medium</td>\n",
       "      <td>Male</td>\n",
       "      <td>detailed</td>\n",
       "      <td>NaN</td>\n",
       "      <td>...</td>\n",
       "      <td>False</td>\n",
       "      <td>False</td>\n",
       "      <td>False</td>\n",
       "      <td>False</td>\n",
       "      <td>False</td>\n",
       "      <td>False</td>\n",
       "      <td>False</td>\n",
       "      <td>0.0</td>\n",
       "      <td>0.0</td>\n",
       "      <td>False</td>\n",
       "    </tr>\n",
       "    <tr>\n",
       "      <th>...</th>\n",
       "      <td>...</td>\n",
       "      <td>...</td>\n",
       "      <td>...</td>\n",
       "      <td>...</td>\n",
       "      <td>...</td>\n",
       "      <td>...</td>\n",
       "      <td>...</td>\n",
       "      <td>...</td>\n",
       "      <td>...</td>\n",
       "      <td>...</td>\n",
       "      <td>...</td>\n",
       "      <td>...</td>\n",
       "      <td>...</td>\n",
       "      <td>...</td>\n",
       "      <td>...</td>\n",
       "      <td>...</td>\n",
       "      <td>...</td>\n",
       "      <td>...</td>\n",
       "      <td>...</td>\n",
       "      <td>...</td>\n",
       "      <td>...</td>\n",
       "    </tr>\n",
       "    <tr>\n",
       "      <th>5058</th>\n",
       "      <td>10751000</td>\n",
       "      <td>1</td>\n",
       "      <td>5539.0</td>\n",
       "      <td>1.0</td>\n",
       "      <td>39.0</td>\n",
       "      <td>True</td>\n",
       "      <td>Low</td>\n",
       "      <td>Male</td>\n",
       "      <td>undetailed</td>\n",
       "      <td>5000.0</td>\n",
       "      <td>...</td>\n",
       "      <td>False</td>\n",
       "      <td>False</td>\n",
       "      <td>False</td>\n",
       "      <td>False</td>\n",
       "      <td>False</td>\n",
       "      <td>False</td>\n",
       "      <td>False</td>\n",
       "      <td>1.0</td>\n",
       "      <td>12000.0</td>\n",
       "      <td>False</td>\n",
       "    </tr>\n",
       "    <tr>\n",
       "      <th>5059</th>\n",
       "      <td>10752000</td>\n",
       "      <td>1</td>\n",
       "      <td>1614.0</td>\n",
       "      <td>1.0</td>\n",
       "      <td>32.0</td>\n",
       "      <td>True</td>\n",
       "      <td>Medium</td>\n",
       "      <td>Male</td>\n",
       "      <td>undetailed</td>\n",
       "      <td>60000.0</td>\n",
       "      <td>...</td>\n",
       "      <td>False</td>\n",
       "      <td>False</td>\n",
       "      <td>False</td>\n",
       "      <td>False</td>\n",
       "      <td>False</td>\n",
       "      <td>False</td>\n",
       "      <td>False</td>\n",
       "      <td>1.0</td>\n",
       "      <td>7000.0</td>\n",
       "      <td>False</td>\n",
       "    </tr>\n",
       "    <tr>\n",
       "      <th>5060</th>\n",
       "      <td>10754000</td>\n",
       "      <td>1</td>\n",
       "      <td>817.0</td>\n",
       "      <td>1.0</td>\n",
       "      <td>43.0</td>\n",
       "      <td>True</td>\n",
       "      <td>Low</td>\n",
       "      <td>Male</td>\n",
       "      <td>undetailed</td>\n",
       "      <td>59000.0</td>\n",
       "      <td>...</td>\n",
       "      <td>False</td>\n",
       "      <td>False</td>\n",
       "      <td>False</td>\n",
       "      <td>False</td>\n",
       "      <td>False</td>\n",
       "      <td>False</td>\n",
       "      <td>False</td>\n",
       "      <td>1.0</td>\n",
       "      <td>1500.0</td>\n",
       "      <td>False</td>\n",
       "    </tr>\n",
       "    <tr>\n",
       "      <th>5061</th>\n",
       "      <td>10758000</td>\n",
       "      <td>1</td>\n",
       "      <td>839.0</td>\n",
       "      <td>1.0</td>\n",
       "      <td>27.0</td>\n",
       "      <td>True</td>\n",
       "      <td>Low</td>\n",
       "      <td>Male</td>\n",
       "      <td>undetailed</td>\n",
       "      <td>36000.0</td>\n",
       "      <td>...</td>\n",
       "      <td>False</td>\n",
       "      <td>False</td>\n",
       "      <td>False</td>\n",
       "      <td>False</td>\n",
       "      <td>False</td>\n",
       "      <td>False</td>\n",
       "      <td>False</td>\n",
       "      <td>0.0</td>\n",
       "      <td>0.0</td>\n",
       "      <td>False</td>\n",
       "    </tr>\n",
       "    <tr>\n",
       "      <th>5062</th>\n",
       "      <td>10759000</td>\n",
       "      <td>1</td>\n",
       "      <td>839.0</td>\n",
       "      <td>1.0</td>\n",
       "      <td>25.0</td>\n",
       "      <td>True</td>\n",
       "      <td>Medium</td>\n",
       "      <td>Male</td>\n",
       "      <td>undetailed</td>\n",
       "      <td>33600.0</td>\n",
       "      <td>...</td>\n",
       "      <td>False</td>\n",
       "      <td>False</td>\n",
       "      <td>False</td>\n",
       "      <td>False</td>\n",
       "      <td>False</td>\n",
       "      <td>False</td>\n",
       "      <td>False</td>\n",
       "      <td>0.0</td>\n",
       "      <td>0.0</td>\n",
       "      <td>False</td>\n",
       "    </tr>\n",
       "  </tbody>\n",
       "</table>\n",
       "<p>5063 rows × 105 columns</p>\n",
       "</div>"
      ],
      "text/plain": [
       "          hhid  hhmember  weight_ind  is_hhm   age  attended_school education  \\\n",
       "0         1000         1      2244.0     1.0  41.0             True    Medium   \n",
       "1         3000         1      2244.0     1.0  45.0            False       Low   \n",
       "2         8000         1      2244.0     1.0  33.0             True      High   \n",
       "3        10000         1      2074.0     1.0  39.0             True       Low   \n",
       "4        11000         1      2074.0     1.0  29.0             True    Medium   \n",
       "...        ...       ...         ...     ...   ...              ...       ...   \n",
       "5058  10751000         1      5539.0     1.0  39.0             True       Low   \n",
       "5059  10752000         1      1614.0     1.0  32.0             True    Medium   \n",
       "5060  10754000         1       817.0     1.0  43.0             True       Low   \n",
       "5061  10758000         1       839.0     1.0  27.0             True       Low   \n",
       "5062  10759000         1       839.0     1.0  25.0             True    Medium   \n",
       "\n",
       "      gender income_type  income_undetailed  ...  \\\n",
       "0       Male          dk                NaN  ...   \n",
       "1       Male  undetailed             6000.0  ...   \n",
       "2       Male  undetailed            60000.0  ...   \n",
       "3     Female         NaN                NaN  ...   \n",
       "4       Male    detailed                NaN  ...   \n",
       "...      ...         ...                ...  ...   \n",
       "5058    Male  undetailed             5000.0  ...   \n",
       "5059    Male  undetailed            60000.0  ...   \n",
       "5060    Male  undetailed            59000.0  ...   \n",
       "5061    Male  undetailed            36000.0  ...   \n",
       "5062    Male  undetailed            33600.0  ...   \n",
       "\n",
       "      hh_has_savings_credit_institution  hh_has_savings_batch  \\\n",
       "0                                 False                 False   \n",
       "1                                 False                 False   \n",
       "2                                  True                 False   \n",
       "3                                 False                 False   \n",
       "4                                 False                 False   \n",
       "...                                 ...                   ...   \n",
       "5058                              False                 False   \n",
       "5059                              False                 False   \n",
       "5060                              False                 False   \n",
       "5061                              False                 False   \n",
       "5062                              False                 False   \n",
       "\n",
       "     hh_has_savings_person_not_hhm  hh_has_savings_afores  \\\n",
       "0                            False                  False   \n",
       "1                            False                  False   \n",
       "2                            False                  False   \n",
       "3                            False                  False   \n",
       "4                            False                  False   \n",
       "...                            ...                    ...   \n",
       "5058                         False                  False   \n",
       "5059                         False                  False   \n",
       "5060                         False                  False   \n",
       "5061                         False                  False   \n",
       "5062                         False                  False   \n",
       "\n",
       "     hh_has_savings_solidarity  hh_has_savings_at_house hh_has_savings_other  \\\n",
       "0                        False                    False                False   \n",
       "1                        False                    False                False   \n",
       "2                        False                    False                False   \n",
       "3                        False                    False                False   \n",
       "4                        False                    False                False   \n",
       "...                        ...                      ...                  ...   \n",
       "5058                     False                    False                False   \n",
       "5059                     False                    False                False   \n",
       "5060                     False                    False                False   \n",
       "5061                     False                    False                False   \n",
       "5062                     False                    False                False   \n",
       "\n",
       "      hh_has_debts_12mth hh_debts_12mth  hh_has_savings  \n",
       "0                    0.0            0.0           False  \n",
       "1                    0.0            0.0           False  \n",
       "2                    1.0        15000.0            True  \n",
       "3                    1.0         5000.0           False  \n",
       "4                    0.0            0.0           False  \n",
       "...                  ...            ...             ...  \n",
       "5058                 1.0        12000.0           False  \n",
       "5059                 1.0         7000.0           False  \n",
       "5060                 1.0         1500.0           False  \n",
       "5061                 0.0            0.0           False  \n",
       "5062                 0.0            0.0           False  \n",
       "\n",
       "[5063 rows x 105 columns]"
      ]
     },
     "execution_count": 470,
     "metadata": {},
     "output_type": "execute_result"
    }
   ],
   "source": [
    "df = pd.read_csv(processed + 'data.csv')\n",
    "df"
   ]
  },
  {
   "cell_type": "code",
   "execution_count": 471,
   "metadata": {},
   "outputs": [
    {
     "name": "stdout",
     "output_type": "stream",
     "text": [
      "<class 'pandas.core.frame.DataFrame'>\n",
      "RangeIndex: 5063 entries, 0 to 5062\n",
      "Columns: 105 entries, hhid to hh_has_savings\n",
      "dtypes: bool(43), float64(46), int64(3), object(13)\n",
      "memory usage: 2.6+ MB\n"
     ]
    }
   ],
   "source": [
    "df.info()"
   ]
  },
  {
   "cell_type": "code",
   "execution_count": 472,
   "metadata": {},
   "outputs": [
    {
     "name": "stdout",
     "output_type": "stream",
     "text": [
      "5063\n",
      "4512\n"
     ]
    }
   ],
   "source": [
    "print(len(df))\n",
    "df = df.query('age >= 25').query('age <= 60'); print(len(df))\n",
    "#df = df.query('income > 0'); print(len(df))"
   ]
  },
  {
   "cell_type": "code",
   "execution_count": 473,
   "metadata": {},
   "outputs": [],
   "source": [
    "df['income_decile'] = utils.get_deciles(df['income'], weights=df['weight_hh'])\n",
    "df['income_quartile'] = utils.get_quartiles(df['income'], weights=df['weight_hh'])"
   ]
  },
  {
   "cell_type": "code",
   "execution_count": 474,
   "metadata": {},
   "outputs": [],
   "source": [
    "df['log_income'] = df['income'].transform(np.log)\n",
    "df['age_square'] = df['age'].transform(np.square)"
   ]
  },
  {
   "cell_type": "code",
   "execution_count": 475,
   "metadata": {},
   "outputs": [],
   "source": [
    "drop_first = False\n",
    "\n",
    "C_education = pd.get_dummies(df['education'], drop_first=drop_first, prefix='education')\n",
    "df = pd.concat([df, C_education], \n",
    "               axis=1)\n",
    "\n",
    "C_gender = pd.get_dummies(df['gender'], drop_first=drop_first, prefix='gender')\n",
    "df = pd.concat([df, C_gender], axis=1)\n",
    "\n",
    "C_state = pd.get_dummies(df['state'], drop_first=drop_first, prefix='state')\n",
    "df = pd.concat([df, C_state], axis=1)\n",
    "\n",
    "C_hh_size = pd.get_dummies(df['hh_size'], drop_first=drop_first, prefix='hh_size')\n",
    "df = pd.concat([df, C_hh_size], axis=1)\n",
    "\n",
    "C_income_decile = pd.get_dummies(df['income_decile'], drop_first=drop_first, prefix='income_decile')\n",
    "df = pd.concat([df, C_income_decile], axis=1)"
   ]
  },
  {
   "cell_type": "code",
   "execution_count": 476,
   "metadata": {},
   "outputs": [],
   "source": [
    "Y_col = 'hh_has_savings'\n",
    "X_col = list(C_education) + list(C_gender) + list(C_hh_size) + ['age', 'age_square'] + list(C_income_decile) "
   ]
  },
  {
   "cell_type": "code",
   "execution_count": 477,
   "metadata": {},
   "outputs": [],
   "source": [
    "from sklearn.model_selection import train_test_split\n",
    "from sklearn.metrics import precision_recall_fscore_support"
   ]
  },
  {
   "cell_type": "code",
   "execution_count": 478,
   "metadata": {},
   "outputs": [],
   "source": [
    "from sklearn.linear_model import LogisticRegression\n",
    "logit = LogisticRegression()\n",
    "\n",
    "Y = df[Y_col]\n",
    "X = df[X_col]\n",
    "\n",
    "X_train, X_test, Y_train, Y_test = train_test_split(X, Y, test_size=0.3)"
   ]
  },
  {
   "cell_type": "code",
   "execution_count": 479,
   "metadata": {},
   "outputs": [
    {
     "data": {
      "text/plain": [
       "0.8540362494561945"
      ]
     },
     "execution_count": 479,
     "metadata": {},
     "output_type": "execute_result"
    }
   ],
   "source": [
    "model = logit.fit(X_train, Y_train, sample_weight=df.loc[X_train.index, 'weight_hh'])\n",
    "model.score(X_train, Y_train, sample_weight=df.loc[X_train.index, 'weight_hh'])"
   ]
  },
  {
   "cell_type": "code",
   "execution_count": 480,
   "metadata": {},
   "outputs": [
    {
     "data": {
      "text/plain": [
       "0.8456435524048855"
      ]
     },
     "execution_count": 480,
     "metadata": {},
     "output_type": "execute_result"
    }
   ],
   "source": [
    "model.score(X_test, Y_test, sample_weight=df.loc[X_test.index, 'weight_hh'])"
   ]
  },
  {
   "cell_type": "code",
   "execution_count": 481,
   "metadata": {},
   "outputs": [
    {
     "data": {
      "text/plain": [
       "(0.7670255285512296, 0.09170459128596738, 0.1638227447175814, None)"
      ]
     },
     "execution_count": 481,
     "metadata": {},
     "output_type": "execute_result"
    }
   ],
   "source": [
    "Y_pred = model.predict(X_test)\n",
    "precision_recall_fscore_support(Y_test, Y_pred,\n",
    "                                sample_weight=df.loc[X_test.index, 'weight_hh'], \n",
    "                                average='binary')"
   ]
  },
  {
   "cell_type": "code",
   "execution_count": 448,
   "metadata": {},
   "outputs": [
    {
     "data": {
      "text/plain": [
       "0.3087937032768999"
      ]
     },
     "execution_count": 448,
     "metadata": {},
     "output_type": "execute_result"
    }
   ],
   "source": [
    "np.average(df.hh_has_debts_12mth.astype(int), weights=df.weight_hh)\n",
    "# q: are these predictors garbage?\n",
    "# If always \n",
    "# note: these factors don't seem to be very helpful then?"
   ]
  },
  {
   "cell_type": "code",
   "execution_count": 421,
   "metadata": {},
   "outputs": [
    {
     "data": {
      "text/plain": [
       "array([[ 1.24432820e-01, -2.49802836e-01,  1.18260521e-01,\n",
       "        -1.42848903e-01,  1.35443333e-01, -1.38581326e-01,\n",
       "        -1.33142817e-02,  8.57225713e-03,  6.37534730e-02,\n",
       "         3.26714293e-02,  1.61504327e-02,  2.34055713e-02,\n",
       "        -4.65186740e-03,  9.47033160e-04,  3.24758288e-03,\n",
       "         1.84951774e-03,  1.24625688e-03, -2.70164855e-03,\n",
       "        -1.73123447e-02,  5.12043576e-06,  1.27887973e-03,\n",
       "        -2.17337147e-01,  2.95841161e-02, -2.72563340e-02,\n",
       "        -1.08544000e-02, -6.67477958e-03,  7.05684130e-02,\n",
       "         3.66501591e-02,  1.16635523e-01]])"
      ]
     },
     "execution_count": 421,
     "metadata": {},
     "output_type": "execute_result"
    }
   ],
   "source": [
    "model.coef_"
   ]
  },
  {
   "cell_type": "code",
   "execution_count": 422,
   "metadata": {},
   "outputs": [
    {
     "data": {
      "text/html": [
       "<div>\n",
       "<style scoped>\n",
       "    .dataframe tbody tr th:only-of-type {\n",
       "        vertical-align: middle;\n",
       "    }\n",
       "\n",
       "    .dataframe tbody tr th {\n",
       "        vertical-align: top;\n",
       "    }\n",
       "\n",
       "    .dataframe thead th {\n",
       "        text-align: right;\n",
       "    }\n",
       "</style>\n",
       "<table border=\"1\" class=\"dataframe\">\n",
       "  <thead>\n",
       "    <tr style=\"text-align: right;\">\n",
       "      <th></th>\n",
       "      <th>predict</th>\n",
       "      <th>actual</th>\n",
       "      <th>resid</th>\n",
       "    </tr>\n",
       "  </thead>\n",
       "  <tbody>\n",
       "    <tr>\n",
       "      <th>3492</th>\n",
       "      <td>0.0</td>\n",
       "      <td>0.0</td>\n",
       "      <td>True</td>\n",
       "    </tr>\n",
       "    <tr>\n",
       "      <th>2353</th>\n",
       "      <td>0.0</td>\n",
       "      <td>0.0</td>\n",
       "      <td>True</td>\n",
       "    </tr>\n",
       "    <tr>\n",
       "      <th>4682</th>\n",
       "      <td>0.0</td>\n",
       "      <td>0.0</td>\n",
       "      <td>True</td>\n",
       "    </tr>\n",
       "    <tr>\n",
       "      <th>2399</th>\n",
       "      <td>0.0</td>\n",
       "      <td>0.0</td>\n",
       "      <td>True</td>\n",
       "    </tr>\n",
       "    <tr>\n",
       "      <th>869</th>\n",
       "      <td>0.0</td>\n",
       "      <td>0.0</td>\n",
       "      <td>True</td>\n",
       "    </tr>\n",
       "    <tr>\n",
       "      <th>...</th>\n",
       "      <td>...</td>\n",
       "      <td>...</td>\n",
       "      <td>...</td>\n",
       "    </tr>\n",
       "    <tr>\n",
       "      <th>3452</th>\n",
       "      <td>0.0</td>\n",
       "      <td>1.0</td>\n",
       "      <td>False</td>\n",
       "    </tr>\n",
       "    <tr>\n",
       "      <th>1901</th>\n",
       "      <td>0.0</td>\n",
       "      <td>0.0</td>\n",
       "      <td>True</td>\n",
       "    </tr>\n",
       "    <tr>\n",
       "      <th>2997</th>\n",
       "      <td>0.0</td>\n",
       "      <td>0.0</td>\n",
       "      <td>True</td>\n",
       "    </tr>\n",
       "    <tr>\n",
       "      <th>20</th>\n",
       "      <td>0.0</td>\n",
       "      <td>1.0</td>\n",
       "      <td>False</td>\n",
       "    </tr>\n",
       "    <tr>\n",
       "      <th>4169</th>\n",
       "      <td>0.0</td>\n",
       "      <td>1.0</td>\n",
       "      <td>False</td>\n",
       "    </tr>\n",
       "  </tbody>\n",
       "</table>\n",
       "<p>1354 rows × 3 columns</p>\n",
       "</div>"
      ],
      "text/plain": [
       "      predict  actual  resid\n",
       "3492      0.0     0.0   True\n",
       "2353      0.0     0.0   True\n",
       "4682      0.0     0.0   True\n",
       "2399      0.0     0.0   True\n",
       "869       0.0     0.0   True\n",
       "...       ...     ...    ...\n",
       "3452      0.0     1.0  False\n",
       "1901      0.0     0.0   True\n",
       "2997      0.0     0.0   True\n",
       "20        0.0     1.0  False\n",
       "4169      0.0     1.0  False\n",
       "\n",
       "[1354 rows x 3 columns]"
      ]
     },
     "execution_count": 422,
     "metadata": {},
     "output_type": "execute_result"
    }
   ],
   "source": [
    "aux = pd.DataFrame({'predict':model.predict(X_test), \n",
    "              'actual':Y_test})\n",
    "aux['resid'] = aux['predict'] == aux['actual']\n",
    "aux"
   ]
  },
  {
   "cell_type": "code",
   "execution_count": 423,
   "metadata": {},
   "outputs": [
    {
     "data": {
      "text/plain": [
       "0.6084997821463594"
      ]
     },
     "execution_count": 423,
     "metadata": {},
     "output_type": "execute_result"
    }
   ],
   "source": [
    "from sklearn import tree \n",
    "clf = tree.DecisionTreeClassifier()\n",
    "fit = clf.fit(X_train, Y_train, sample_weight=df.loc[X_train.index, 'weight_hh'] )\n",
    "\n",
    "Y_pred = fit.predict(X_test)\n",
    "fit.score(X_test, Y_test, sample_weight=df.loc[X_test.index, 'weight_hh'])"
   ]
  },
  {
   "cell_type": "code",
   "execution_count": 424,
   "metadata": {},
   "outputs": [],
   "source": [
    "aux = pd.DataFrame({'predict':Y_pred, \n",
    "              'actual':Y_test})\n",
    "aux['resid'] = aux['predict'] == aux['actual']"
   ]
  },
  {
   "cell_type": "code",
   "execution_count": 425,
   "metadata": {},
   "outputs": [
    {
     "data": {
      "text/html": [
       "<div>\n",
       "<style scoped>\n",
       "    .dataframe tbody tr th:only-of-type {\n",
       "        vertical-align: middle;\n",
       "    }\n",
       "\n",
       "    .dataframe tbody tr th {\n",
       "        vertical-align: top;\n",
       "    }\n",
       "\n",
       "    .dataframe thead th {\n",
       "        text-align: right;\n",
       "    }\n",
       "</style>\n",
       "<table border=\"1\" class=\"dataframe\">\n",
       "  <thead>\n",
       "    <tr style=\"text-align: right;\">\n",
       "      <th></th>\n",
       "      <th>predict</th>\n",
       "      <th>actual</th>\n",
       "      <th>resid</th>\n",
       "    </tr>\n",
       "  </thead>\n",
       "  <tbody>\n",
       "    <tr>\n",
       "      <th>3492</th>\n",
       "      <td>1.0</td>\n",
       "      <td>0.0</td>\n",
       "      <td>False</td>\n",
       "    </tr>\n",
       "    <tr>\n",
       "      <th>2353</th>\n",
       "      <td>0.0</td>\n",
       "      <td>0.0</td>\n",
       "      <td>True</td>\n",
       "    </tr>\n",
       "    <tr>\n",
       "      <th>4682</th>\n",
       "      <td>0.0</td>\n",
       "      <td>0.0</td>\n",
       "      <td>True</td>\n",
       "    </tr>\n",
       "    <tr>\n",
       "      <th>2399</th>\n",
       "      <td>0.0</td>\n",
       "      <td>0.0</td>\n",
       "      <td>True</td>\n",
       "    </tr>\n",
       "    <tr>\n",
       "      <th>869</th>\n",
       "      <td>1.0</td>\n",
       "      <td>0.0</td>\n",
       "      <td>False</td>\n",
       "    </tr>\n",
       "    <tr>\n",
       "      <th>...</th>\n",
       "      <td>...</td>\n",
       "      <td>...</td>\n",
       "      <td>...</td>\n",
       "    </tr>\n",
       "    <tr>\n",
       "      <th>3452</th>\n",
       "      <td>0.0</td>\n",
       "      <td>1.0</td>\n",
       "      <td>False</td>\n",
       "    </tr>\n",
       "    <tr>\n",
       "      <th>1901</th>\n",
       "      <td>1.0</td>\n",
       "      <td>0.0</td>\n",
       "      <td>False</td>\n",
       "    </tr>\n",
       "    <tr>\n",
       "      <th>2997</th>\n",
       "      <td>0.0</td>\n",
       "      <td>0.0</td>\n",
       "      <td>True</td>\n",
       "    </tr>\n",
       "    <tr>\n",
       "      <th>20</th>\n",
       "      <td>0.0</td>\n",
       "      <td>1.0</td>\n",
       "      <td>False</td>\n",
       "    </tr>\n",
       "    <tr>\n",
       "      <th>4169</th>\n",
       "      <td>0.0</td>\n",
       "      <td>1.0</td>\n",
       "      <td>False</td>\n",
       "    </tr>\n",
       "  </tbody>\n",
       "</table>\n",
       "<p>1354 rows × 3 columns</p>\n",
       "</div>"
      ],
      "text/plain": [
       "      predict  actual  resid\n",
       "3492      1.0     0.0  False\n",
       "2353      0.0     0.0   True\n",
       "4682      0.0     0.0   True\n",
       "2399      0.0     0.0   True\n",
       "869       1.0     0.0  False\n",
       "...       ...     ...    ...\n",
       "3452      0.0     1.0  False\n",
       "1901      1.0     0.0  False\n",
       "2997      0.0     0.0   True\n",
       "20        0.0     1.0  False\n",
       "4169      0.0     1.0  False\n",
       "\n",
       "[1354 rows x 3 columns]"
      ]
     },
     "execution_count": 425,
     "metadata": {},
     "output_type": "execute_result"
    }
   ],
   "source": [
    "aux"
   ]
  },
  {
   "cell_type": "code",
   "execution_count": 426,
   "metadata": {},
   "outputs": [
    {
     "data": {
      "text/plain": [
       "False    252\n",
       "True     147\n",
       "Name: resid, dtype: int64"
      ]
     },
     "execution_count": 426,
     "metadata": {},
     "output_type": "execute_result"
    }
   ],
   "source": [
    "# finding: this is a terrible predictor\n",
    "aux[aux.actual == True]['resid'].value_counts()"
   ]
  },
  {
   "cell_type": "code",
   "execution_count": 434,
   "metadata": {},
   "outputs": [],
   "source": [
    "from sklearn.ensemble import BaggingClassifier\n",
    "clf = BaggingClassifier(n_estimators=10)\n",
    "fit = clf.fit(X_train, Y_train, sample_weight=df.loc[X_train.index, 'weight_hh'])"
   ]
  },
  {
   "cell_type": "code",
   "execution_count": 435,
   "metadata": {},
   "outputs": [],
   "source": [
    "Y_pred = fit.predict(X_test)"
   ]
  },
  {
   "cell_type": "code",
   "execution_count": 436,
   "metadata": {},
   "outputs": [
    {
     "data": {
      "text/plain": [
       "False    273\n",
       "True     126\n",
       "Name: resid, dtype: int64"
      ]
     },
     "execution_count": 436,
     "metadata": {},
     "output_type": "execute_result"
    }
   ],
   "source": [
    "aux = pd.DataFrame({'predict':Y_pred, \n",
    "              'actual':Y_test})\n",
    "aux['resid'] = aux['predict'] == aux['actual']\n",
    "aux[aux.actual == True]['resid'].value_counts()"
   ]
  },
  {
   "cell_type": "code",
   "execution_count": 439,
   "metadata": {},
   "outputs": [
    {
     "data": {
      "text/plain": [
       "True     740\n",
       "False    215\n",
       "Name: resid, dtype: int64"
      ]
     },
     "execution_count": 439,
     "metadata": {},
     "output_type": "execute_result"
    }
   ],
   "source": [
    "aux[aux.actual == False]['resid'].value_counts()"
   ]
  },
  {
   "cell_type": "code",
   "execution_count": 440,
   "metadata": {},
   "outputs": [
    {
     "data": {
      "text/plain": [
       "0.774869109947644"
      ]
     },
     "execution_count": 440,
     "metadata": {},
     "output_type": "execute_result"
    }
   ],
   "source": [
    "740 / (740 + 215)"
   ]
  },
  {
   "cell_type": "code",
   "execution_count": 441,
   "metadata": {},
   "outputs": [
    {
     "data": {
      "text/plain": [
       "0.3157894736842105"
      ]
     },
     "execution_count": 441,
     "metadata": {},
     "output_type": "execute_result"
    }
   ],
   "source": [
    "126 / (126 + 273)"
   ]
  },
  {
   "cell_type": "code",
   "execution_count": 437,
   "metadata": {},
   "outputs": [
    {
     "data": {
      "text/plain": [
       "0.6395864106351551"
      ]
     },
     "execution_count": 437,
     "metadata": {},
     "output_type": "execute_result"
    }
   ],
   "source": [
    "fit.score(X_test, Y_test, sample_weight=df.loc[X_test.index, 'weight_hh'])"
   ]
  },
  {
   "cell_type": "code",
   "execution_count": 447,
   "metadata": {},
   "outputs": [
    {
     "name": "stdout",
     "output_type": "stream",
     "text": [
      "Accuracy on training set: 0.697\n",
      "Accuracy on test set: 0.705\n"
     ]
    },
    {
     "name": "stderr",
     "output_type": "stream",
     "text": [
      "/home/mitch/anaconda3/envs/main/lib/python3.9/site-packages/sklearn/svm/_base.py:1244: ConvergenceWarning: Liblinear failed to converge, increase the number of iterations.\n",
      "  warnings.warn(\n"
     ]
    },
    {
     "data": {
      "text/plain": [
       "False    399\n",
       "Name: resid, dtype: int64"
      ]
     },
     "execution_count": 447,
     "metadata": {},
     "output_type": "execute_result"
    }
   ],
   "source": [
    "from sklearn.svm import LinearSVC as SVC\n",
    "svc = SVC()\n",
    "fit = svc.fit(X_train, Y_train, sample_weight=df.loc[X_train.index, 'weight_hh'])\n",
    "\n",
    "print(\"Accuracy on training set: {:.3f}\".format(fit.score(X_train, Y_train)))\n",
    "print(\"Accuracy on test set: {:.3f}\".format(fit.score(X_test, Y_test)))\n",
    "\n",
    "Y_pred = fit.predict(X_test)\n",
    "\n",
    "aux = pd.DataFrame({'predict':Y_pred, \n",
    "              'actual':Y_test})\n",
    "aux['resid'] = aux['predict'] == aux['actual']\n",
    "aux[aux.actual == True]['resid'].value_counts()"
   ]
  },
  {
   "cell_type": "code",
   "execution_count": 432,
   "metadata": {},
   "outputs": [
    {
     "data": {
      "text/plain": [
       "3064    1.0\n",
       "234     1.0\n",
       "464     1.0\n",
       "1701    0.0\n",
       "63      1.0\n",
       "       ... \n",
       "4930    0.0\n",
       "1291    0.0\n",
       "1117    1.0\n",
       "974     0.0\n",
       "942     0.0\n",
       "Name: hh_has_debts_12mth, Length: 3158, dtype: float64"
      ]
     },
     "execution_count": 432,
     "metadata": {},
     "output_type": "execute_result"
    }
   ],
   "source": [
    "Y_train"
   ]
  },
  {
   "cell_type": "code",
   "execution_count": 11,
   "metadata": {},
   "outputs": [],
   "source": [
    "to_probit_residualize = [\n",
    "    #'hh_has_liquid', \n",
    "    'has_liquid_formal_hh', \n",
    "    'has_savings_formal_hh',\n",
    "    'has_loan_formal_hh',\n",
    "    'has_liquid_informal_hh',\n",
    "    'has_savings_informal_hh',\n",
    "    'has_loan_informal_hh'\n",
    "]\n",
    "\n",
    "to_probit_rename = {\n",
    "    #'hh_has_liquid'           : '\\\\makecell{Liquid}',\n",
    "    'has_liquid_formal_hh'    : '\\\\makecell{Liquid:\\\\\\\\Formal}',\n",
    "    'has_savings_formal_hh'   : '\\\\makecell{Savings:\\\\\\\\Formal}',\n",
    "    'has_loan_formal_hh'      : '\\\\makecell{Debt:\\\\\\\\Formal}',\n",
    "    'has_liquid_informal_hh'  : '\\\\makecell{Liquid:\\\\\\\\Informal}',\n",
    "    'has_savings_informal_hh' : '\\\\makecell{Savings:\\\\\\\\Informal}',\n",
    "    'has_loan_informal_hh'    : '\\\\makecell{Debt:\\\\\\\\Informal}'\n",
    "}"
   ]
  },
  {
   "cell_type": "code",
   "execution_count": null,
   "metadata": {},
   "outputs": [],
   "source": []
  },
  {
   "cell_type": "code",
   "execution_count": 12,
   "metadata": {},
   "outputs": [],
   "source": [
    "\n",
    "Z = ' 1+ C(education) + C(income_quartile) + C(gender) + age + I(age**2) + C(state) + C(hh_size) '\n",
    "Z_nocontrol = ' C(income_quartile)'\n",
    "models_logit = {}\n",
    "models_probit = {}\n",
    "models_probit_nocontrol = {}\n",
    "for x in to_probit_residualize:\n",
    "    _, models_logit[x] = utils.logit_residualize(df, x, Z, 'weight')\n",
    "    _, models_probit[x] = utils.probit_residualize(df, x, Z, 'weight')\n",
    "    _, models_probit_nocontrol[x] = utils.logit_residualize(df, x, Z_nocontrol, 'weight')\n",
    "\n",
    "fits_logit = [x.fit() for x in models_logit.values()]\n",
    "summaries_logit = [x.fit().summary() for x in models_logit.values()]\n",
    "\n",
    "fits_probit = [x.fit() for x in models_probit.values()]\n",
    "summaries_probit = [x.fit().summary() for x in models_probit.values()]\n",
    "\n",
    "fits_probit_nocontrol = [x.fit() for x in models_probit.values()]\n",
    "summaries_probit_nocontrol = [x.fit().summary() for x in models_probit.values()]"
   ]
  },
  {
   "cell_type": "code",
   "execution_count": 13,
   "metadata": {},
   "outputs": [],
   "source": [
    "rename = {\n",
    "    'C(income_quartile)[T.2]': '2nd Income Quartile',\n",
    "    'C(income_quartile)[T.3]': '3rd Income Quartile',\n",
    "    'C(income_quartile)[T.4]': '4th Income Quartile',\n",
    "    }"
   ]
  },
  {
   "cell_type": "code",
   "execution_count": 14,
   "metadata": {},
   "outputs": [],
   "source": [
    "def strip_table(str):\n",
    "    str = str.removeprefix('\\\\begin{table}[!htbp] ')\n",
    "    str = str.removesuffix('\\n\\\\end{table}')\n",
    "    #str = str.replace('\\\\hline\\n\\hline', '\\\\hline\\\\hline')\n",
    "    return str"
   ]
  },
  {
   "cell_type": "code",
   "execution_count": 15,
   "metadata": {},
   "outputs": [
    {
     "data": {
      "text/plain": [
       "['\\\\makecell{Liquid:\\\\\\\\Formal}',\n",
       " '\\\\makecell{Savings:\\\\\\\\Formal}',\n",
       " '\\\\makecell{Debt:\\\\\\\\Formal}',\n",
       " '\\\\makecell{Liquid:\\\\\\\\Informal}',\n",
       " '\\\\makecell{Savings:\\\\\\\\Informal}',\n",
       " '\\\\makecell{Debt:\\\\\\\\Informal}']"
      ]
     },
     "execution_count": 15,
     "metadata": {},
     "output_type": "execute_result"
    }
   ],
   "source": [
    "list(to_probit_rename.values())"
   ]
  },
  {
   "cell_type": "code",
   "execution_count": 16,
   "metadata": {},
   "outputs": [
    {
     "data": {
      "text/plain": [
       "[<statsmodels.genmod.generalized_linear_model.GLMResultsWrapper at 0x7f8e59dfd300>,\n",
       " <statsmodels.genmod.generalized_linear_model.GLMResultsWrapper at 0x7f8e59dfde70>,\n",
       " <statsmodels.genmod.generalized_linear_model.GLMResultsWrapper at 0x7f8e59de0df0>,\n",
       " <statsmodels.genmod.generalized_linear_model.GLMResultsWrapper at 0x7f8e59dfe050>,\n",
       " <statsmodels.genmod.generalized_linear_model.GLMResultsWrapper at 0x7f8e59dfd4b0>,\n",
       " <statsmodels.genmod.generalized_linear_model.GLMResultsWrapper at 0x7f8e59dfebc0>]"
      ]
     },
     "execution_count": 16,
     "metadata": {},
     "output_type": "execute_result"
    }
   ],
   "source": [
    "logits = Stargazer(fits_probit)\n",
    "logits.rename_covariates(rename)\n",
    "logits.covariate_order(rename.keys())\n",
    "logits.custom_columns(list(to_probit_rename.values()))\n",
    "logits.add_line(label='Controls', values=['Y' for x in np.arange(len(fits_probit))])\n",
    "logits.show_model_numbers(False)\n",
    "logits.add_custom_notes(['Standard Errors in Parentheses'])\n",
    "output = strip_table(logits.render_latex())\n",
    "os.chdir(figs)\n",
    "with open('mfl_regression.tex', 'w') as textfile:\n",
    "    textfile.write(output)\n",
    "\n",
    "fits_probit"
   ]
  },
  {
   "cell_type": "code",
   "execution_count": 17,
   "metadata": {},
   "outputs": [
    {
     "data": {
      "text/plain": [
       "[<statsmodels.genmod.generalized_linear_model.GLMResultsWrapper at 0x7f8e59cba230>,\n",
       " <statsmodels.genmod.generalized_linear_model.GLMResultsWrapper at 0x7f8e59cbad40>,\n",
       " <statsmodels.genmod.generalized_linear_model.GLMResultsWrapper at 0x7f8e59cbb910>,\n",
       " <statsmodels.genmod.generalized_linear_model.GLMResultsWrapper at 0x7f8e59cc4460>,\n",
       " <statsmodels.genmod.generalized_linear_model.GLMResultsWrapper at 0x7f8e59cc4f70>,\n",
       " <statsmodels.genmod.generalized_linear_model.GLMResultsWrapper at 0x7f8e59cc5a80>]"
      ]
     },
     "execution_count": 17,
     "metadata": {},
     "output_type": "execute_result"
    }
   ],
   "source": [
    "logits = Stargazer(fits_probit_nocontrol)\n",
    "logits.rename_covariates(rename)\n",
    "logits.covariate_order(rename.keys())\n",
    "logits.custom_columns(list(to_probit_rename.values()))\n",
    "logits.add_line(label='Controls', values=['N' for x in np.arange(len(fits_probit_nocontrol))])\n",
    "logits.show_model_numbers(False)\n",
    "logits.add_custom_notes(['Standard Errors in Parentheses'])\n",
    "output = strip_table(logits.render_latex())\n",
    "os.chdir(figs)\n",
    "with open('mfl_regression_nocontrol.tex', 'w') as textfile:\n",
    "    textfile.write(output)\n",
    "\n",
    "fits_probit_nocontrol"
   ]
  },
  {
   "cell_type": "code",
   "execution_count": 18,
   "metadata": {},
   "outputs": [],
   "source": [
    "import statsmodels.api as sm\n",
    "illiquid_to_probit = ['has_durable', \n",
    "                     'property_own_outright',\n",
    "                     'has_animal',\n",
    "                     'has_financialassets']\n",
    "\n",
    "illiquid_to_probit_names   = ['Durable',\n",
    "                            'Property',\n",
    "                            'Animal',\n",
    "                            'Financial']"
   ]
  },
  {
   "cell_type": "code",
   "execution_count": 19,
   "metadata": {},
   "outputs": [],
   "source": [
    "illiquid_models = {}\n",
    "illiquid_models_probit = {}\n",
    "illiquid_models_probit_nocontrol = {}\n",
    "for x in illiquid_to_probit:\n",
    "    _, illiquid_models[x] = utils.logit_residualize(df, x, Z, 'weight')\n",
    "    _, illiquid_models_probit[x] = utils.probit_residualize(df, x, Z, 'weight')\n",
    "    _, illiquid_models_probit_nocontrol[x] = utils.probit_residualize(df, x, Z_nocontrol, 'weight')\n",
    "\n",
    "illiquid_fits = [x.fit() for x in illiquid_models.values()]\n",
    "illiquid_summaries = [x.fit().summary() for x in illiquid_models.values()]\n",
    "\n",
    "illiquid_fits_probit = [x.fit() for x in illiquid_models_probit.values()]\n",
    "illiquid_summaries_probit = [x.fit().summary() for x in illiquid_models_probit.values()]\n",
    "\n",
    "illiquid_fits_probit_nocontrol = [x.fit() for x in illiquid_models_probit_nocontrol.values()]\n",
    "illiquid_summaries_probit_nocontrol = [x.fit().summary() for x in illiquid_models_probit_nocontrol.values()]"
   ]
  },
  {
   "cell_type": "code",
   "execution_count": 20,
   "metadata": {},
   "outputs": [
    {
     "data": {
      "text/html": [
       "<table style=\"text-align:center\"><tr><td colspan=\"5\" style=\"border-bottom: 1px solid black\"></td></tr>\n",
       "<tr><td style=\"text-align:left\"></td><tr><td></td><td colspan=\"1\">Durable</td><td colspan=\"1\">Property</td><td colspan=\"1\">Animal</td><td colspan=\"1\">Financial</td></tr>\n",
       "<tr><td colspan=\"5\" style=\"border-bottom: 1px solid black\"></td></tr>\n",
       "\n",
       "<tr><td style=\"text-align:left\">2nd Income Quartile</td><td>0.405<sup>***</sup></td><td>-0.046<sup>***</sup></td><td>-0.156<sup>***</sup></td><td>-0.138<sup>***</sup></td></tr>\n",
       "<tr><td style=\"text-align:left\"></td><td>(0.003)</td><td>(0.001)</td><td>(0.002)</td><td>(0.002)</td></tr>\n",
       "<tr><td style=\"text-align:left\">3rd Income Quartile</td><td>0.296<sup>***</sup></td><td>0.017<sup>***</sup></td><td>-0.321<sup>***</sup></td><td>0.266<sup>***</sup></td></tr>\n",
       "<tr><td style=\"text-align:left\"></td><td>(0.003)</td><td>(0.001)</td><td>(0.002)</td><td>(0.002)</td></tr>\n",
       "<tr><td style=\"text-align:left\">4th Income Quartile</td><td>0.425<sup>***</sup></td><td>-0.037<sup>***</sup></td><td>-0.303<sup>***</sup></td><td>0.713<sup>***</sup></td></tr>\n",
       "<tr><td style=\"text-align:left\"></td><td>(0.003)</td><td>(0.001)</td><td>(0.002)</td><td>(0.002)</td></tr>\n",
       "\n",
       "<tr><td style=\"text-align: left\">Controls</td><td>Y</td><td>Y</td><td>Y</td><td>Y</td></tr><td colspan=\"5\" style=\"border-bottom: 1px solid black\"></td></tr>\n",
       "<tr><td style=\"text-align: left\">Observations</td><td>2946</td><td>2946</td><td>2946</td><td>2946</td></tr>\n",
       "<tr><td colspan=\"5\" style=\"border-bottom: 1px solid black\"></td></tr><tr><td style=\"text-align: left\">Note:</td><td colspan=\"4\" style=\"text-align: right\"><sup>*</sup>p&lt;0.1; <sup>**</sup>p&lt;0.05; <sup>***</sup>p&lt;0.01</td></tr><tr><td colspan=\"5\" style=\"text-align: right\">Standard Errors in Parentheses</td></tr></table>"
      ],
      "text/plain": [
       "<stargazer.stargazer.Stargazer at 0x7f8e59b83850>"
      ]
     },
     "execution_count": 20,
     "metadata": {},
     "output_type": "execute_result"
    }
   ],
   "source": [
    "illiquid_probits = Stargazer(illiquid_fits_probit)\n",
    "illiquid_probits.rename_covariates(rename)\n",
    "illiquid_probits.covariate_order(rename.keys())\n",
    "illiquid_probits.custom_columns(illiquid_to_probit_names)\n",
    "illiquid_probits.add_line(label='Controls', values=['Y' for x in np.arange(4)])\n",
    "illiquid_probits.show_model_numbers(False)\n",
    "illiquid_probits.add_custom_notes(['Standard Errors in Parentheses'])\n",
    "output = strip_table(illiquid_probits.render_latex())\n",
    "os.chdir(figs)\n",
    "with open('mfl_illiquid_regression.tex', 'w') as textfile:\n",
    "    textfile.write(output)\n",
    "\n",
    "illiquid_probits\n"
   ]
  },
  {
   "cell_type": "code",
   "execution_count": 21,
   "metadata": {},
   "outputs": [
    {
     "data": {
      "text/html": [
       "<table style=\"text-align:center\"><tr><td colspan=\"5\" style=\"border-bottom: 1px solid black\"></td></tr>\n",
       "<tr><td style=\"text-align:left\"></td><tr><td></td><td colspan=\"1\">Durable</td><td colspan=\"1\">Property</td><td colspan=\"1\">Animal</td><td colspan=\"1\">Financial</td></tr>\n",
       "<tr><td colspan=\"5\" style=\"border-bottom: 1px solid black\"></td></tr>\n",
       "\n",
       "<tr><td style=\"text-align:left\">2nd Income Quartile</td><td>0.311<sup>***</sup></td><td>-0.076<sup>***</sup></td><td>-0.400<sup>***</sup></td><td>-0.064<sup>***</sup></td></tr>\n",
       "<tr><td style=\"text-align:left\"></td><td>(0.002)</td><td>(0.001)</td><td>(0.001)</td><td>(0.002)</td></tr>\n",
       "<tr><td style=\"text-align:left\">3rd Income Quartile</td><td>0.273<sup>***</sup></td><td>-0.002<sup>**</sup></td><td>-0.529<sup>***</sup></td><td>0.395<sup>***</sup></td></tr>\n",
       "<tr><td style=\"text-align:left\"></td><td>(0.002)</td><td>(0.001)</td><td>(0.001)</td><td>(0.001)</td></tr>\n",
       "<tr><td style=\"text-align:left\">4th Income Quartile</td><td>0.465<sup>***</sup></td><td>0.109<sup>***</sup></td><td>-0.632<sup>***</sup></td><td>0.869<sup>***</sup></td></tr>\n",
       "<tr><td style=\"text-align:left\"></td><td>(0.003)</td><td>(0.001)</td><td>(0.001)</td><td>(0.001)</td></tr>\n",
       "\n",
       "<tr><td style=\"text-align: left\">Controls</td><td>N</td><td>N</td><td>N</td><td>N</td></tr><td colspan=\"5\" style=\"border-bottom: 1px solid black\"></td></tr>\n",
       "<tr><td style=\"text-align: left\">Observations</td><td>2946</td><td>2946</td><td>2946</td><td>2946</td></tr>\n",
       "<tr><td colspan=\"5\" style=\"border-bottom: 1px solid black\"></td></tr><tr><td style=\"text-align: left\">Note:</td><td colspan=\"4\" style=\"text-align: right\"><sup>*</sup>p&lt;0.1; <sup>**</sup>p&lt;0.05; <sup>***</sup>p&lt;0.01</td></tr><tr><td colspan=\"5\" style=\"text-align: right\">Standard Errors in Parentheses</td></tr></table>"
      ],
      "text/plain": [
       "<stargazer.stargazer.Stargazer at 0x7f8e59b82a70>"
      ]
     },
     "execution_count": 21,
     "metadata": {},
     "output_type": "execute_result"
    }
   ],
   "source": [
    "illiquid_probits = Stargazer(illiquid_fits_probit_nocontrol)\n",
    "illiquid_probits.rename_covariates(rename)\n",
    "illiquid_probits.covariate_order(rename.keys())\n",
    "illiquid_probits.custom_columns(illiquid_to_probit_names)\n",
    "illiquid_probits.add_line(label='Controls', values=['N' for x in np.arange(4)])\n",
    "illiquid_probits.show_model_numbers(False)\n",
    "illiquid_probits.add_custom_notes(['Standard Errors in Parentheses'])\n",
    "output = strip_table(illiquid_probits.render_latex())\n",
    "os.chdir(figs)\n",
    "with open('mfl_illiquid_regression_nocontrol.tex', 'w') as textfile:\n",
    "    textfile.write(output)\n",
    "\n",
    "illiquid_probits\n"
   ]
  },
  {
   "cell_type": "code",
   "execution_count": null,
   "metadata": {},
   "outputs": [],
   "source": []
  },
  {
   "cell_type": "markdown",
   "metadata": {},
   "source": [
    "# Informal and Formal Measures"
   ]
  },
  {
   "cell_type": "code",
   "execution_count": 104,
   "metadata": {},
   "outputs": [
    {
     "data": {
      "text/plain": [
       "4       1\n",
       "6       0\n",
       "7       1\n",
       "9       0\n",
       "11      0\n",
       "       ..\n",
       "5779    0\n",
       "5780    0\n",
       "5781    0\n",
       "5783    0\n",
       "5784    0\n",
       "Name: hh_has_savings, Length: 2946, dtype: int8"
      ]
     },
     "execution_count": 104,
     "metadata": {},
     "output_type": "execute_result"
    }
   ],
   "source": [
    "df['hh_has_savings']"
   ]
  },
  {
   "cell_type": "code",
   "execution_count": 105,
   "metadata": {},
   "outputs": [],
   "source": [
    "df['hh_has_savings_debts'] = (df['hh_has_savings'] | df['hh_has_debts_12mth']).astype('int')"
   ]
  },
  {
   "cell_type": "code",
   "execution_count": 106,
   "metadata": {},
   "outputs": [
    {
     "data": {
      "text/plain": [
       "4       1\n",
       "6       0\n",
       "7       1\n",
       "9       0\n",
       "11      1\n",
       "       ..\n",
       "5779    1\n",
       "5780    1\n",
       "5781    1\n",
       "5783    0\n",
       "5784    0\n",
       "Name: hh_has_savings_debts, Length: 2946, dtype: int64"
      ]
     },
     "execution_count": 106,
     "metadata": {},
     "output_type": "execute_result"
    }
   ],
   "source": [
    "df['hh_has_savings_debts']"
   ]
  },
  {
   "cell_type": "code",
   "execution_count": 107,
   "metadata": {},
   "outputs": [],
   "source": [
    "measures = ['hh_has_savings_debts',\n",
    "            'hh_has_savings',\n",
    "            'hh_has_debts_12mth']\n",
    "rename_measures = {\n",
    "   'hh_has_savings_debts' :'Savings/Debts',\n",
    "   'hh_has_savings':'Savings',\n",
    "   'hh_has_debts_12mth':'Debts'\n",
    "}\n",
    "\n",
    "models = {}\n",
    "for x in measures:\n",
    "    _, models[x] = utils.probit_residualize(df, x, Z, 'weight')\n",
    "\n",
    "fits = [x.fit() for x in models.values()]\n",
    "summaries = [x.fit().summary() for x in models.values()]"
   ]
  },
  {
   "cell_type": "code",
   "execution_count": 49,
   "metadata": {},
   "outputs": [
    {
     "data": {
      "text/html": [
       "<table style=\"text-align:center\"><tr><td colspan=\"4\" style=\"border-bottom: 1px solid black\"></td></tr>\n",
       "<tr><td style=\"text-align:left\"></td><tr><td></td><td colspan=\"1\">Savings/Debts</td><td colspan=\"1\">Savings</td><td colspan=\"1\">Debts</td></tr>\n",
       "<tr><td colspan=\"4\" style=\"border-bottom: 1px solid black\"></td></tr>\n",
       "\n",
       "<tr><td style=\"text-align:left\">2nd Income Quartile</td><td>0.078<sup>***</sup></td><td>0.137<sup>***</sup></td><td>-0.006<sup>***</sup></td></tr>\n",
       "<tr><td style=\"text-align:left\"></td><td>(0.002)</td><td>(0.003)</td><td>(0.002)</td></tr>\n",
       "<tr><td style=\"text-align:left\">3rd Income Quartile</td><td>-0.033<sup>***</sup></td><td>0.225<sup>***</sup></td><td>-0.126<sup>***</sup></td></tr>\n",
       "<tr><td style=\"text-align:left\"></td><td>(0.002)</td><td>(0.003)</td><td>(0.002)</td></tr>\n",
       "<tr><td style=\"text-align:left\">4th Income Quartile</td><td>0.456<sup>***</sup></td><td>1.042<sup>***</sup></td><td>-0.089<sup>***</sup></td></tr>\n",
       "<tr><td style=\"text-align:left\"></td><td>(0.002)</td><td>(0.003)</td><td>(0.002)</td></tr>\n",
       "\n",
       "<tr><td style=\"text-align: left\">Controls</td><td>$\\checkmark$</td><td>$\\checkmark$</td><td>$\\checkmark$</td></tr><td colspan=\"4\" style=\"border-bottom: 1px solid black\"></td></tr>\n",
       "<tr><td style=\"text-align: left\">Observations</td><td>2946</td><td>2946</td><td>2946</td></tr>\n",
       "<tr><td colspan=\"4\" style=\"border-bottom: 1px solid black\"></td></tr><tr><td style=\"text-align: left\">Note:</td><td colspan=\"3\" style=\"text-align: right\"><sup>*</sup>p&lt;0.1; <sup>**</sup>p&lt;0.05; <sup>***</sup>p&lt;0.01</td></tr></table>"
      ],
      "text/plain": [
       "<stargazer.stargazer.Stargazer at 0x7f63bbf12380>"
      ]
     },
     "execution_count": 49,
     "metadata": {},
     "output_type": "execute_result"
    }
   ],
   "source": [
    "logits = Stargazer(fits)\n",
    "logits.rename_covariates(rename)\n",
    "logits.covariate_order(rename.keys())\n",
    "logits.custom_columns(list(rename_measures.values()))\n",
    "logits.add_line(label='Controls', values=['$\\checkmark$' for x in np.arange(len(fits))])\n",
    "logits.show_model_numbers(False)\n",
    "output = strip_table(logits.render_latex())\n",
    "os.chdir(figs)\n",
    "with open('mfl_regression_formal_and_informal.tex', 'w') as textfile:\n",
    "    textfile.write(output)\n",
    "\n",
    "logits\n"
   ]
  },
  {
   "cell_type": "markdown",
   "metadata": {},
   "source": [
    "# Quantile Method"
   ]
  },
  {
   "cell_type": "code",
   "execution_count": 153,
   "metadata": {},
   "outputs": [
    {
     "ename": "NameError",
     "evalue": "name 'smf' is not defined",
     "output_type": "error",
     "traceback": [
      "\u001b[0;31m---------------------------------------------------------------------------\u001b[0m",
      "\u001b[0;31mNameError\u001b[0m                                 Traceback (most recent call last)",
      "\u001b[0;32m<ipython-input-153-08770e9c1b56>\u001b[0m in \u001b[0;36m<module>\u001b[0;34m\u001b[0m\n\u001b[0;32m----> 1\u001b[0;31m \u001b[0mmodel\u001b[0m \u001b[0;34m=\u001b[0m \u001b[0msmf\u001b[0m\u001b[0;34m.\u001b[0m\u001b[0mquantreg\u001b[0m\u001b[0;34m\u001b[0m\u001b[0;34m\u001b[0m\u001b[0m\n\u001b[0m",
      "\u001b[0;31mNameError\u001b[0m: name 'smf' is not defined"
     ]
    }
   ],
   "source": [
    "model = smf.quantreg"
   ]
  },
  {
   "cell_type": "code",
   "execution_count": null,
   "metadata": {},
   "outputs": [],
   "source": [
    "for x in to_logit_residualize:\n",
    "    df[x + '_resid'], _ = utils.logit_residualize(df, x, Z, 'weight')"
   ]
  },
  {
   "cell_type": "code",
   "execution_count": null,
   "metadata": {},
   "outputs": [],
   "source": [
    "to_by_decile = ['has_savings_formal_hh_resid', 'has_liquid_formal_hh_resid', 'has_loan_formal_hh_resid', 'has_financialassets_resid']\n",
    "models = {}\n",
    "for x in to_by_decile:\n",
    "    models[x] = utils.residualize_model(df, x, Z, 'weight')\n",
    "    "
   ]
  },
  {
   "cell_type": "code",
   "execution_count": null,
   "metadata": {},
   "outputs": [
    {
     "ename": "KeyError",
     "evalue": "'log_annual_labor_income_hh_resid'",
     "output_type": "error",
     "traceback": [
      "\u001b[0;31m---------------------------------------------------------------------------\u001b[0m",
      "\u001b[0;31mKeyError\u001b[0m                                  Traceback (most recent call last)",
      "File \u001b[0;32m~/.local/lib/python3.10/site-packages/pandas/core/indexes/base.py:3652\u001b[0m, in \u001b[0;36mIndex.get_loc\u001b[0;34m(self, key)\u001b[0m\n\u001b[1;32m   3651\u001b[0m \u001b[39mtry\u001b[39;00m:\n\u001b[0;32m-> 3652\u001b[0m     \u001b[39mreturn\u001b[39;00m \u001b[39mself\u001b[39;49m\u001b[39m.\u001b[39;49m_engine\u001b[39m.\u001b[39;49mget_loc(casted_key)\n\u001b[1;32m   3653\u001b[0m \u001b[39mexcept\u001b[39;00m \u001b[39mKeyError\u001b[39;00m \u001b[39mas\u001b[39;00m err:\n",
      "File \u001b[0;32m~/.local/lib/python3.10/site-packages/pandas/_libs/index.pyx:147\u001b[0m, in \u001b[0;36mpandas._libs.index.IndexEngine.get_loc\u001b[0;34m()\u001b[0m\n",
      "File \u001b[0;32m~/.local/lib/python3.10/site-packages/pandas/_libs/index.pyx:176\u001b[0m, in \u001b[0;36mpandas._libs.index.IndexEngine.get_loc\u001b[0;34m()\u001b[0m\n",
      "File \u001b[0;32mpandas/_libs/hashtable_class_helper.pxi:7080\u001b[0m, in \u001b[0;36mpandas._libs.hashtable.PyObjectHashTable.get_item\u001b[0;34m()\u001b[0m\n",
      "File \u001b[0;32mpandas/_libs/hashtable_class_helper.pxi:7088\u001b[0m, in \u001b[0;36mpandas._libs.hashtable.PyObjectHashTable.get_item\u001b[0;34m()\u001b[0m\n",
      "\u001b[0;31mKeyError\u001b[0m: 'log_annual_labor_income_hh_resid'",
      "\nThe above exception was the direct cause of the following exception:\n",
      "\u001b[0;31mKeyError\u001b[0m                                  Traceback (most recent call last)",
      "Cell \u001b[0;32mIn[13], line 1\u001b[0m\n\u001b[0;32m----> 1\u001b[0m data[\u001b[39m'\u001b[39;49m\u001b[39mlog_annual_labor_income_hh_resid\u001b[39;49m\u001b[39m'\u001b[39;49m]\n",
      "File \u001b[0;32m~/.local/lib/python3.10/site-packages/pandas/core/frame.py:3760\u001b[0m, in \u001b[0;36mDataFrame.__getitem__\u001b[0;34m(self, key)\u001b[0m\n\u001b[1;32m   3758\u001b[0m \u001b[39mif\u001b[39;00m \u001b[39mself\u001b[39m\u001b[39m.\u001b[39mcolumns\u001b[39m.\u001b[39mnlevels \u001b[39m>\u001b[39m \u001b[39m1\u001b[39m:\n\u001b[1;32m   3759\u001b[0m     \u001b[39mreturn\u001b[39;00m \u001b[39mself\u001b[39m\u001b[39m.\u001b[39m_getitem_multilevel(key)\n\u001b[0;32m-> 3760\u001b[0m indexer \u001b[39m=\u001b[39m \u001b[39mself\u001b[39;49m\u001b[39m.\u001b[39;49mcolumns\u001b[39m.\u001b[39;49mget_loc(key)\n\u001b[1;32m   3761\u001b[0m \u001b[39mif\u001b[39;00m is_integer(indexer):\n\u001b[1;32m   3762\u001b[0m     indexer \u001b[39m=\u001b[39m [indexer]\n",
      "File \u001b[0;32m~/.local/lib/python3.10/site-packages/pandas/core/indexes/base.py:3654\u001b[0m, in \u001b[0;36mIndex.get_loc\u001b[0;34m(self, key)\u001b[0m\n\u001b[1;32m   3652\u001b[0m     \u001b[39mreturn\u001b[39;00m \u001b[39mself\u001b[39m\u001b[39m.\u001b[39m_engine\u001b[39m.\u001b[39mget_loc(casted_key)\n\u001b[1;32m   3653\u001b[0m \u001b[39mexcept\u001b[39;00m \u001b[39mKeyError\u001b[39;00m \u001b[39mas\u001b[39;00m err:\n\u001b[0;32m-> 3654\u001b[0m     \u001b[39mraise\u001b[39;00m \u001b[39mKeyError\u001b[39;00m(key) \u001b[39mfrom\u001b[39;00m \u001b[39merr\u001b[39;00m\n\u001b[1;32m   3655\u001b[0m \u001b[39mexcept\u001b[39;00m \u001b[39mTypeError\u001b[39;00m:\n\u001b[1;32m   3656\u001b[0m     \u001b[39m# If we have a listlike key, _check_indexing_error will raise\u001b[39;00m\n\u001b[1;32m   3657\u001b[0m     \u001b[39m#  InvalidIndexError. Otherwise we fall through and re-raise\u001b[39;00m\n\u001b[1;32m   3658\u001b[0m     \u001b[39m#  the TypeError.\u001b[39;00m\n\u001b[1;32m   3659\u001b[0m     \u001b[39mself\u001b[39m\u001b[39m.\u001b[39m_check_indexing_error(key)\n",
      "\u001b[0;31mKeyError\u001b[0m: 'log_annual_labor_income_hh_resid'"
     ]
    }
   ],
   "source": [
    "df['log_annual_labor_income_hh_resid']"
   ]
  },
  {
   "cell_type": "code",
   "execution_count": null,
   "metadata": {},
   "outputs": [
    {
     "data": {
      "image/png": "[encoded data removed]",
      "text/plain": [
       "<Figure size 640x480 with 1 Axes>"
      ]
     },
     "metadata": {},
     "output_type": "display_data"
    }
   ],
   "source": [
    "by_decile = {}\n",
    "to_by_decile = ['has_savings_formal_hh_resid', 'has_liquid_formal_hh_resid', 'has_loan_formal_hh_resid', 'has_financialassets_resid', \n",
    "                'property_own_outright_resid']\n",
    "for measure in to_by_decile:\n",
    "    by_decile[measure] =  utils.indicator_by_decile(df, 'log_annual_labor_income_hh_resid', measure, 'weight')\n",
    "\n",
    "deciles = np.arange(1, 11)\n",
    "yticks = np.arange(0, 125, 25)\n",
    "\n",
    "opt = {'linewidth':1}\n",
    "\n",
    "plt.close()\n",
    "fig= plt.figure()\n",
    "ax1 = fig.add_subplot(111)\n",
    "\n",
    "#ax.subplot(221)\n",
    "ax1.plot(deciles, 100*by_decile['has_liquid_formal_hh_resid'], label='Liquid', **opt)\n",
    "ax1.plot(deciles, 100*by_decile['has_savings_formal_hh_resid'], label='Savings', **opt)\n",
    "ax1.plot(deciles, 100*by_decile['has_loan_formal_hh_resid'], label='Debts', **opt)\n",
    "ax1.plot(deciles, 100*by_decile['has_financialassets_resid'], label='Financial Assets', **opt)\n",
    "ax1.plot(deciles, 100*by_decile['property_own_outright_resid'], label='Property Own Outright', **opt)\n",
    "\n",
    "ax1.set_xlabel('Income Decile')\n",
    "ax1.set_ylabel('Percent of Households')\n",
    "ax1.set_xticks(deciles)\n",
    "#ax1.set_yticks(yticks)\n",
    "ax1.set_title('Liquid Assets')\n",
    "\n",
    "ax1.legend()\n",
    "plt.show()"
   ]
  },
  {
   "cell_type": "code",
   "execution_count": null,
   "metadata": {},
   "outputs": [
    {
     "data": {
      "image/png": "[encoded data removed]",
      "text/plain": [
       "<Figure size 640x480 with 2 Axes>"
      ]
     },
     "metadata": {},
     "output_type": "display_data"
    }
   ],
   "source": [
    "import importlib\n",
    "importlib.reload(utils)\n",
    "deciles = np.arange(1, 11)\n",
    "by_decile = {}\n",
    "to_by_decile = ['has_savings_formal_hh', 'has_loan_formal_hh', 'has_liquid_formal_hh', \n",
    "                'has_savings_informal_hh', 'has_loan_informal_hh', \n",
    "                'has_housing', 'has_durable', 'has_animal', 'has_machinary',\n",
    "                'has_illiquid_assets', 'has_productive_illiquid_assets',\n",
    "                'has_financialassets', 'property_own_outright', 'property_own_community_ejido', \n",
    "                'net_saver_hh', 'net_borrower_hh', 'constrained_hh', 'has_liquid']\n",
    "for measure in to_by_decile:\n",
    "    by_decile[measure] =  utils.indicator_by_decile(df, 'log_annual_labor_income_hh_resid', measure, 'weight')\n",
    "\n",
    "deciles = np.arange(1, 11)\n",
    "yticks = np.arange(0, 125, 25)\n",
    "\n",
    "opt = {'linewidth':1}\n",
    "\n",
    "fig= plt.figure()\n",
    "ax1 = fig.add_subplot(221)\n",
    "\n",
    "#ax.subplot(221)\n",
    "ax1.plot(deciles, 100*by_decile['has_liquid_formal_hh'], label='Liquid', **opt)\n",
    "ax1.plot(deciles, 100*by_decile['has_savings_formal_hh'], label='Savings', **opt)\n",
    "ax1.plot(deciles, 100*by_decile['has_loan_formal_hh'], label='Debts', **opt)\n",
    "\n",
    "ax1.set_xlabel('Income Decile')\n",
    "ax1.set_ylabel('Percent of Households')\n",
    "ax1.set_xticks(deciles)\n",
    "ax1.set_yticks(yticks)\n",
    "ax1.set_title('Liquid Assets')\n",
    "\n",
    "ax1.legend()\n",
    "\n",
    "ax2 = fig.add_subplot(222)\n",
    "ax2.plot(deciles, 100*by_decile['has_durable'], label='Durables', **opt)\n",
    "ax2.plot(deciles, 100*by_decile['property_own_outright'], label='House', **opt)\n",
    "ax2.plot(deciles, 100*by_decile['has_animal'], label='Animal', **opt)\n",
    "#ax2.plot(deciles, 100*by_decile['has_machinary'], label='Machinary', **opt)\n",
    "ax2.plot(deciles, 100*by_decile['has_financialassets'], label='Financial', **opt)\n",
    "#ax2.plot(deciles, 100*by_decile['has_productive_illiquid_assets'], label='Productive', **opt)\n",
    "\n",
    "ax2.set_xlabel('Income Decile')\n",
    "ax2.set_ylabel('Percent of Households')\n",
    "ax2.set_xticks(deciles)\n",
    "ax2.set_yticks(yticks)\n",
    "ax2.set_title('Illiquid Assets')\n",
    "\n",
    "box = ax2.get_position()\n",
    "ax2.set_position([box.x0, box.y0, box.width * 0.8, box.height])\n",
    "\n",
    "ax2.legend(loc='center left', bbox_to_anchor=(1.0, 0.50),\n",
    "          ncol=1, fancybox=True, shadow=True, fontsize=10)\n",
    "\n",
    "\n",
    "os.chdir(figs)\n",
    "plt.savefig('has_liquid_illiquid_by_income_decile.png')\n",
    "plt.show()\n",
    "\n"
   ]
  },
  {
   "cell_type": "code",
   "execution_count": null,
   "metadata": {},
   "outputs": [
    {
     "data": {
      "image/png": "[encoded data removed]",
      "text/plain": [
       "<Figure size 640x480 with 2 Axes>"
      ]
     },
     "metadata": {},
     "output_type": "display_data"
    }
   ],
   "source": [
    "import importlib\n",
    "importlib.reload(utils)\n",
    "deciles = np.arange(1, 11)\n",
    "by_decile = {}\n",
    "to_by_decile = ['has_savings_formal_hh', 'has_loan_formal_hh', 'has_liquid_formal_hh', \n",
    "                'has_savings_informal_hh', 'has_loan_informal_hh', \n",
    "                'has_housing', 'has_durable', 'has_animal', 'has_machinary',\n",
    "                'has_illiquid_assets', 'has_productive_illiquid_assets',\n",
    "                'has_financialassets', 'property_own_outright', 'property_own_community_ejido', \n",
    "                'net_saver_hh', 'net_borrower_hh', 'constrained_hh']\n",
    "for measure in to_by_decile:\n",
    "    by_decile[measure] =  utils.indicator_by_decile(df, 'log_annual_labor_income_hh', measure, 'weight')\n",
    "\n",
    "deciles = np.arange(1, 11)\n",
    "yticks = np.arange(0, 125, 25)\n",
    "\n",
    "opt = {'linewidth':1}\n",
    "\n",
    "fig= plt.figure()\n",
    "ax1 = fig.add_subplot(221)\n",
    "\n",
    "#ax.subplot(221)\n",
    "ax1.plot(deciles, 100*by_decile['has_liquid_formal_hh'], label='Liquid', **opt)\n",
    "ax1.plot(deciles, 100*by_decile['has_savings_formal_hh'], label='Savings', **opt)\n",
    "ax1.plot(deciles, 100*by_decile['has_loan_formal_hh'], label='Debts', **opt)\n",
    "\n",
    "ax1.set_xlabel('Income Decile')\n",
    "ax1.set_ylabel('Percent of Households')\n",
    "ax1.set_xticks(deciles)\n",
    "ax1.set_yticks(yticks)\n",
    "ax1.set_title('Liquid Assets')\n",
    "\n",
    "ax1.legend()\n",
    "\n",
    "ax2 = fig.add_subplot(222)\n",
    "ax2.plot(deciles, 100*by_decile['has_durable'], label='Durables', **opt)\n",
    "ax2.plot(deciles, 100*by_decile['property_own_outright'], label='House', **opt)\n",
    "ax2.plot(deciles, 100*by_decile['has_animal'], label='Animal', **opt)\n",
    "ax2.plot(deciles, 100*by_decile['has_financialassets'], label='Financial', **opt)\n",
    "#ax2.plot(deciles, 100*by_decile['has_productive_illiquid_assets'], label='Productive', **opt)\n",
    "\n",
    "ax2.set_xlabel('Income Decile')\n",
    "ax2.set_ylabel('Percent of Households')\n",
    "ax2.set_xticks(deciles)\n",
    "ax2.set_yticks(yticks)\n",
    "ax2.set_title('Illiquid Assets')\n",
    "\n",
    "box = ax2.get_position()\n",
    "ax2.set_position([box.x0, box.y0, box.width * 0.8, box.height])\n",
    "\n",
    "ax2.legend(loc='center left', bbox_to_anchor=(1.0, 0.50),\n",
    "          ncol=1, fancybox=True, shadow=True, fontsize=10)\n",
    "\n",
    "os.chdir(figs)\n",
    "plt.savefig('has_liquid_illiquid_by_income_decile_unresidualized.png')\n",
    "plt.show()\n"
   ]
  },
  {
   "cell_type": "code",
   "execution_count": null,
   "metadata": {},
   "outputs": [],
   "source": [
    "#charges_interest_by_decile =  utils.indicator_by_decile(df, 'log_annual_labor_income_hh_resid', 'loan_charges_interest_hh', 'weight')\n",
    "#no_interest_by_decile =  utils.indicator_by_decile(df, 'log_annual_labor_income_hh_resid', 'loan_no_interest_hh', 'weight')\n",
    "#credit_card_by_decile =  utils.indicator_by_decile(df, 'log_annual_labor_income_hh_resid', 'has_credit_card_hh', 'weight')"
   ]
  },
  {
   "cell_type": "code",
   "execution_count": null,
   "metadata": {},
   "outputs": [],
   "source": [
    "#plt.clf()\n",
    "#plt.plot(charges_interest_by_decile, label='Loan with Interest')\n",
    "#plt.plot(credit_card_by_decile, label='Credit Card')\n",
    "#plt.ylim(0, 0.50)\n",
    "#plt.legend()\n",
    "#plt.show()"
   ]
  },
  {
   "cell_type": "code",
   "execution_count": null,
   "metadata": {},
   "outputs": [
    {
     "data": {
      "image/png": "[encoded data removed]",
      "text/plain": [
       "<Figure size 640x480 with 1 Axes>"
      ]
     },
     "metadata": {},
     "output_type": "display_data"
    }
   ],
   "source": [
    "to_ratio = ['savings_formal_hh', 'financialassets']\n",
    "for x in to_ratio:\n",
    "    df[x + '_20'] = df[x] / df['annual_labor_income_hh'] > 0.01\n",
    "\n",
    "to_by_decile = ['savings_formal_hh_20', 'financialassets_20']\n",
    "for measure in to_by_decile:\n",
    "    by_decile[measure] =  utils.indicator_by_decile(df, 'log_annual_labor_income_hh', measure, 'weight')\n",
    "\n",
    "deciles = np.arange(1, 11)\n",
    "yticks = np.arange(0, 125, 25)\n",
    "\n",
    "opt = {'linewidth':1}\n",
    "\n",
    "fig= plt.figure()\n",
    "ax1 = fig.add_subplot(111)\n",
    "\n",
    "#ax.subplot(221)\n",
    "ax1.plot(deciles, 100*by_decile['savings_formal_hh_20'], label='Savings', **opt)\n",
    "ax1.plot(deciles, 100*by_decile['financialassets_20'], label='Financial Assets', **opt)\n",
    "\n",
    "ax1.set_xlabel('Income Decile')\n",
    "ax1.set_ylabel('Percent of Households')\n",
    "ax1.set_xticks(deciles)\n",
    "ax1.set_yticks(yticks)\n",
    "ax1.set_title('Liquid Assets')\n",
    "\n",
    "plt.show()"
   ]
  },
  {
   "cell_type": "code",
   "execution_count": null,
   "metadata": {},
   "outputs": [
    {
     "data": {
      "text/plain": [
       "<Figure size 640x480 with 0 Axes>"
      ]
     },
     "metadata": {},
     "output_type": "display_data"
    },
    {
     "data": {
      "image/png": "[encoded data removed]",
      "text/plain": [
       "<Figure size 640x480 with 2 Axes>"
      ]
     },
     "metadata": {},
     "output_type": "display_data"
    }
   ],
   "source": [
    "deciles = np.arange(1, 11)\n",
    "df['hh_has_savings_debts'] = df['hh_has_savings'] | df['hh_has_debts_12mth']\n",
    "by_decile = {}\n",
    "to_by_decile = ['hh_no_savings', 'hh_has_savings', 'hh_has_debts_12mth', 'hh_has_savings_debts']\n",
    "for measure in to_by_decile:\n",
    "    by_decile[measure] =  utils.indicator_by_decile(df, 'log_annual_labor_income_hh', measure, 'weight')\n",
    "\n",
    "deciles = np.arange(1, 11)\n",
    "yticks = np.arange(0, 125, 25)\n",
    "\n",
    "opt = {'linewidth':2}\n",
    "\n",
    "plt.clf()\n",
    "fig= plt.figure()\n",
    "ax1 = fig.add_subplot(221)\n",
    "\n",
    "#ax.subplot(221)\n",
    "#ax1.plot(deciles, 100*by_decile['hh_no_savings'], label='No Savings', **opt)\n",
    "ax1.plot(deciles, 100*by_decile['hh_has_savings_debts'], label='Savings/ Debts', **opt)\n",
    "ax1.plot(deciles, 100*by_decile['hh_has_savings'], label='Savings', **opt)\n",
    "ax1.plot(deciles, 100*by_decile['hh_has_debts_12mth'], label='Debts', **opt)\n",
    "\n",
    "ax1.set_xlabel('Income Decile')\n",
    "ax1.set_ylabel('Percent of Households')\n",
    "ax1.set_xticks(deciles)\n",
    "ax1.set_yticks(yticks)\n",
    "ax1.set_title('Formal and Informal')\n",
    "\n",
    "ax1.legend()\n",
    "\n",
    "by_decile = {}\n",
    "to_by_decile = ['has_savings_informal_hh', 'has_loan_informal_hh', 'has_productive_illiquid_assets', \n",
    "                'constrained_hh', 'net_saver_hh', 'net_borrower_hh']\n",
    "for measure in to_by_decile:\n",
    "    by_decile[measure] =  utils.indicator_by_decile(df, 'log_annual_labor_income_hh_resid', measure, 'weight')\n",
    "\n",
    "deciles = np.arange(1, 11)\n",
    "\n",
    "ax2 = fig.add_subplot(222)\n",
    "ax2.plot(deciles, 100*by_decile['has_savings_informal_hh'], label='Informal Savings')\n",
    "ax2.plot(deciles, 100*by_decile['has_loan_informal_hh'], label='Informal Debts')\n",
    "ax2.set_xticks(deciles)\n",
    "ax2.set_ylim(0, 50)\n",
    "\n",
    "ax2.set_xlabel('Income Decile')\n",
    "ax2.set_ylabel('Percent of Households')\n",
    "ax2.set_title('Informal')\n",
    "\n",
    "ax2.legend()\n",
    "\n",
    "os.chdir(figs)\n",
    "plt.savefig('has_informal_savings_debts_by_decile.png')\n",
    "plt.show()\n"
   ]
  },
  {
   "cell_type": "code",
   "execution_count": null,
   "metadata": {},
   "outputs": [
    {
     "data": {
      "image/png": "[encoded data removed]",
      "text/plain": [
       "<Figure size 640x480 with 1 Axes>"
      ]
     },
     "metadata": {},
     "output_type": "display_data"
    }
   ],
   "source": [
    "deciles = np.arange(1, 11)\n",
    "\n",
    "plt.clf()\n",
    "plt.plot(deciles, 100 * by_decile['constrained_hh'], label='Constrained')\n",
    "plt.plot(deciles, 100 * by_decile['net_saver_hh'], label='Net saver')\n",
    "plt.plot(deciles, 100 * by_decile['net_borrower_hh'], label='Net Borrower')\n",
    "plt.legend()\n",
    "\n",
    "plt.xlabel('Income Decile')\n",
    "plt.ylabel('Percent of Households Within Decile')\n",
    "plt.ylim(0, 100)\n",
    "\n",
    "plt.show()\n",
    "\n"
   ]
  },
  {
   "cell_type": "code",
   "execution_count": null,
   "metadata": {},
   "outputs": [
    {
     "data": {
      "text/plain": [
       "<Figure size 640x480 with 0 Axes>"
      ]
     },
     "metadata": {},
     "output_type": "display_data"
    },
    {
     "data": {
      "image/png": "[encoded data removed]",
      "text/plain": [
       "<Figure size 640x480 with 2 Axes>"
      ]
     },
     "metadata": {},
     "output_type": "display_data"
    }
   ],
   "source": [
    "plt.clf()\n",
    "fig= plt.figure()\n",
    "\n",
    "ax1 = fig.add_subplot(221)\n",
    "liquid_bins = np.arange(start=-25, stop=25, step=2)\n",
    "liquid_formal_hh_thousands = df['liquid_formal_hh'] / 1000\n",
    "ax1.hist(liquid_formal_hh_thousands, bins=liquid_bins, weights=df['weight'], density=True)\n",
    "ax1.set_title('Liquid Assets')\n",
    "ax1.set_xlabel('Thousands 2005 Mexican Pesos')\n",
    "ax1_ticks = ax1.get_xticks()\n",
    "#ax1.set_xticklabels([x / 1000 for x in ax1_ticks])\n",
    "\n",
    "illiquid_assets_thousands = df['illiquid_assets'] / 1000\n",
    "ax2 = fig.add_subplot(222)\n",
    "illiquid_bins = np.arange(start=0, stop=300, step=5)\n",
    "ax2.hist(illiquid_assets_thousands, bins=illiquid_bins, weights=df['weight'], density=True)\n",
    "ax2.set_title('Illiquid Assets')\n",
    "ax2.set_xlabel('Thousands 2005 Mexican Pesos')\n",
    "ax2_ticks = ax2.get_xticks()\n",
    "#ax2.set_xticklabels([x / 1000 for x in ax2_ticks])\n",
    "plt.show()"
   ]
  },
  {
   "cell_type": "code",
   "execution_count": null,
   "metadata": {},
   "outputs": [],
   "source": []
  },
  {
   "cell_type": "code",
   "execution_count": null,
   "metadata": {},
   "outputs": [],
   "source": [
    "import panel_distribution_utils as pdu\n",
    "from tabulate import tabulate"
   ]
  },
  {
   "cell_type": "code",
   "execution_count": null,
   "metadata": {},
   "outputs": [],
   "source": [
    "def shares(df, measure, metric, weight):\n",
    "    x = df[measure].astype(float)\n",
    "    x_metric = df[metric].astype(float)\n",
    "    x_weight = df[weight].astype(float)\n",
    "    share_top_05 = 1 - pdu.share(0.95, x, x_metric, x_weight )\n",
    "    share_top_10 = 1 - pdu.share(0.90, x, x_metric, x_weight )\n",
    "    share_bottom_50 = pdu.share(0.50, x, x_metric, x_weight )\n",
    "    share_bottom_25 = pdu.share(0.25, x, x_metric, x_weight )\n",
    "    #gini = pdu.gini(x, x_weight)\n",
    "\n",
    "    return [share_top_05, share_top_10, share_bottom_50, share_bottom_25]\n",
    "\n",
    "names =  ['share_top_05', 'share_top_10', 'share_bottom_50', 'share_bottom_25']\n",
    "needs_stats = ['annual_labor_income_hh', 'liquid', 'net_wealth', 'savings_hh', 'financialassets', 'savings_formal_hh', 'productive_illiquid_assets', 'illiquid_assets']\n"
   ]
  },
  {
   "cell_type": "markdown",
   "metadata": {},
   "source": [
    " note: in its current form pdu does not seem able to handle negative values"
   ]
  },
  {
   "cell_type": "code",
   "execution_count": null,
   "metadata": {},
   "outputs": [
    {
     "name": "stdout",
     "output_type": "stream",
     "text": [
      "\n",
      "ANNUAL_LABOR_INCOME_HH\n",
      "---------------  ---------\n",
      "share_top_05     0.245826\n",
      "share_top_10     0.360237\n",
      "share_bottom_50  0.20555\n",
      "share_bottom_25  0.0674721\n",
      "---------------  ---------\n",
      "\n",
      "LIQUID\n",
      "---------------  ---------\n",
      "share_top_05     0.0279997\n",
      "share_top_10     0.170926\n",
      "share_bottom_50  0.48051\n",
      "share_bottom_25  0.255059\n",
      "---------------  ---------\n",
      "\n",
      "NET_WEALTH\n",
      "---------------  ---------\n",
      "share_top_05     0.0735657\n",
      "share_top_10     0.137873\n",
      "share_bottom_50  0.575902\n",
      "share_bottom_25  0.453996\n",
      "---------------  ---------\n",
      "\n",
      "SAVINGS_HH\n",
      "---------------  --------\n",
      "share_top_05     0.247004\n",
      "share_top_10     0.348733\n",
      "share_bottom_50  0.253848\n",
      "share_bottom_25  0.139081\n",
      "---------------  --------\n",
      "\n",
      "FINANCIALASSETS\n",
      "---------------  ---------\n",
      "share_top_05     0.189107\n",
      "share_top_10     0.397904\n",
      "share_bottom_50  0.262724\n",
      "share_bottom_25  0.0968625\n",
      "---------------  ---------\n",
      "\n",
      "SAVINGS_FORMAL_HH\n",
      "---------------  --------\n",
      "share_top_05     0.219435\n",
      "share_top_10     0.332175\n",
      "share_bottom_50  0.25588\n",
      "share_bottom_25  0.137779\n",
      "---------------  --------\n",
      "\n",
      "PRODUCTIVE_ILLIQUID_ASSETS\n",
      "---------------  --------\n",
      "share_top_05     0.193219\n",
      "share_top_10     0.342036\n",
      "share_bottom_50  0.328361\n",
      "share_bottom_25  0.143015\n",
      "---------------  --------\n",
      "\n",
      "ILLIQUID_ASSETS\n",
      "---------------  ---------\n",
      "share_top_05     0.0838005\n",
      "share_top_10     0.15604\n",
      "share_bottom_50  0.445366\n",
      "share_bottom_25  0.295669\n",
      "---------------  ---------\n"
     ]
    }
   ],
   "source": [
    "for x in needs_stats:\n",
    "    stats_x = shares(df, x, 'log_annual_labor_income_hh_resid', 'weight')\n",
    "    print()\n",
    "    print(x.upper())\n",
    "    print(tabulate({'Stat':names, 'Result':stats_x}))"
   ]
  },
  {
   "cell_type": "markdown",
   "metadata": {},
   "source": [
    "claim: this measure of 'formal savings' seems to match the illiquid asset\n",
    "does that mean the formal is valid?"
   ]
  },
  {
   "cell_type": "markdown",
   "metadata": {},
   "source": [
    "claim: I need to residualize each of these based on observables such as age, sex, education"
   ]
  },
  {
   "cell_type": "code",
   "execution_count": null,
   "metadata": {},
   "outputs": [
    {
     "name": "stdout",
     "output_type": "stream",
     "text": [
      "\n",
      "ANNUAL_LABOR_INCOME_HH\n",
      "---------------  ---------\n",
      "share_top_05     0.28938\n",
      "share_top_10     0.407569\n",
      "share_bottom_50  0.169591\n",
      "share_bottom_25  0.0539871\n",
      "---------------  ---------\n",
      "\n",
      "LIQUID\n",
      "---------------  ----------\n",
      "share_top_05     -0.0932102\n",
      "share_top_10     -0.100551\n",
      "share_bottom_50   1.05689\n",
      "share_bottom_25   0.963958\n",
      "---------------  ----------\n",
      "\n",
      "NET_WEALTH\n",
      "---------------  -----------\n",
      "share_top_05     0.504927\n",
      "share_top_10     0.630155\n",
      "share_bottom_50  0.0447441\n",
      "share_bottom_25  0.000705583\n",
      "---------------  -----------\n",
      "\n",
      "SAVINGS_HH\n",
      "---------------  --------\n",
      "share_top_05     0.734263\n",
      "share_top_10     0.875811\n",
      "share_bottom_50  0\n",
      "share_bottom_25  0\n",
      "---------------  --------\n",
      "\n",
      "FINANCIALASSETS\n",
      "---------------  ---------\n",
      "share_top_05     0.34529\n",
      "share_top_10     0.523743\n",
      "share_bottom_50  0.0808416\n",
      "share_bottom_25  0.016568\n",
      "---------------  ---------\n",
      "\n",
      "SAVINGS_FORMAL_HH\n",
      "---------------  --------\n",
      "share_top_05     0.770655\n",
      "share_top_10     0.941342\n",
      "share_bottom_50  0\n",
      "share_bottom_25  0\n",
      "---------------  --------\n",
      "\n",
      "PRODUCTIVE_ILLIQUID_ASSETS\n",
      "---------------  --------\n",
      "share_top_05     0.784293\n",
      "share_top_10     0.914122\n",
      "share_bottom_50  0\n",
      "share_bottom_25  0\n",
      "---------------  --------\n",
      "\n",
      "ILLIQUID_ASSETS\n",
      "---------------  ----------\n",
      "share_top_05     0.401656\n",
      "share_top_10     0.538151\n",
      "share_bottom_50  0.0587466\n",
      "share_bottom_25  0.00735822\n",
      "---------------  ----------\n"
     ]
    }
   ],
   "source": [
    "for x in needs_stats:\n",
    "    stats_x = shares(df, x, x, 'weight')\n",
    "    print()\n",
    "    print(x.upper())\n",
    "    print(tabulate({'Stat':names, 'Result':stats_x}))"
   ]
  },
  {
   "cell_type": "code",
   "execution_count": null,
   "metadata": {},
   "outputs": [],
   "source": [
    "def by_decile(df, measure, metric, weight):\n",
    "    x = df[measure].astype(float)\n",
    "    x_metric = df[metric].astype(float)\n",
    "    x_weight = df[weight].astype(float)\n",
    "    deciles = np.arange(0, 1.1, 0.1)\n",
    "\n",
    "    decile_shares = np.array([pdu.share(decile, x, x_metric, x_weight) for decile in deciles])\n",
    "    return np.diff(decile_shares)\n"
   ]
  },
  {
   "cell_type": "code",
   "execution_count": null,
   "metadata": {},
   "outputs": [
    {
     "name": "stdout",
     "output_type": "stream",
     "text": [
      "\n",
      "SAVINGS_HH\n",
      "--  ---------\n",
      " 1  0.0395493\n",
      " 2  0.0599996\n",
      " 3  0.061868\n",
      " 4  0.0210379\n",
      " 5  0.071374\n",
      " 6  0.0665169\n",
      " 7  0.0815345\n",
      " 8  0.0851576\n",
      " 9  0.164209\n",
      "10  0.348733\n",
      "--  ---------\n",
      "\n",
      "ILLIQUID_ASSETS\n",
      "--  ---------\n",
      " 1  0.171825\n",
      " 2  0.0745535\n",
      " 3  0.0714142\n",
      " 4  0.0564253\n",
      " 5  0.0710706\n",
      " 6  0.0741306\n",
      " 7  0.114371\n",
      " 8  0.0858004\n",
      " 9  0.124293\n",
      "10  0.15604\n",
      "--  ---------\n",
      "\n",
      "HOUSE\n",
      "--  ---------\n",
      " 1  0.212149\n",
      " 2  0.0586303\n",
      " 3  0.0769952\n",
      " 4  0.0560427\n",
      " 5  0.0727158\n",
      " 6  0.0694163\n",
      " 7  0.107928\n",
      " 8  0.091014\n",
      " 9  0.121214\n",
      "10  0.133895\n",
      "--  ---------\n"
     ]
    }
   ],
   "source": [
    "stats_by_decile = {}\n",
    "needs_stats = ['savings_hh', 'illiquid_assets', 'house']\n",
    "for stat in needs_stats:\n",
    "    stats_by_decile[stat] = by_decile(df, stat, 'log_annual_labor_income_hh_resid', 'weight')\n",
    "    print()\n",
    "    print(stat.upper())\n",
    "    print(tabulate({'Stat':np.arange(1, 11, 1), 'Result':stats_by_decile[stat]}))\n",
    "\n",
    "    "
   ]
  },
  {
   "cell_type": "code",
   "execution_count": null,
   "metadata": {},
   "outputs": [
    {
     "ename": "KeyError",
     "evalue": "'housing'",
     "output_type": "error",
     "traceback": [
      "\u001b[0;31m---------------------------------------------------------------------------\u001b[0m",
      "\u001b[0;31mKeyError\u001b[0m                                  Traceback (most recent call last)",
      "Cell \u001b[0;32mIn[25], line 4\u001b[0m\n\u001b[1;32m      2\u001b[0m plt\u001b[39m.\u001b[39mclf()\n\u001b[1;32m      3\u001b[0m plt\u001b[39m.\u001b[39msubplot(\u001b[39m221\u001b[39m)\n\u001b[0;32m----> 4\u001b[0m plt\u001b[39m.\u001b[39mplot(deciles, stats_by_decile[\u001b[39m'\u001b[39;49m\u001b[39mhousing\u001b[39;49m\u001b[39m'\u001b[39;49m])\n\u001b[1;32m      5\u001b[0m plt\u001b[39m.\u001b[39mxlabel(\u001b[39m'\u001b[39m\u001b[39mIncome Decile\u001b[39m\u001b[39m'\u001b[39m)\n\u001b[1;32m      6\u001b[0m plt\u001b[39m.\u001b[39mylabel(\u001b[39m'\u001b[39m\u001b[39mShare\u001b[39m\u001b[39m'\u001b[39m)\n",
      "\u001b[0;31mKeyError\u001b[0m: 'housing'"
     ]
    },
    {
     "data": {
      "image/png": "[encoded data removed]",
      "text/plain": [
       "<Figure size 640x480 with 1 Axes>"
      ]
     },
     "metadata": {},
     "output_type": "display_data"
    }
   ],
   "source": [
    "deciles = np.arange(1, 11, 1)\n",
    "plt.clf()\n",
    "plt.subplot(221)\n",
    "plt.plot(deciles, stats_by_decile['housing'])\n",
    "plt.xlabel('Income Decile')\n",
    "plt.ylabel('Share')\n",
    "\n",
    "plt.title('housing')\n",
    "\n",
    "plt.subplot(221)\n",
    "plt.plot(deciles, stats_by_decile['illiquid_assets'])\n",
    "plt.xlabel('Income Decile')\n",
    "plt.ylabel('Share')\n",
    "plt.title('Illiquid Assets')\n",
    "\n",
    "plt.subplot(221)\n",
    "plt.plot(deciles, stats_by_decile['savings_hh'])\n",
    "plt.xlabel('Income Decile')\n",
    "plt.ylabel('Share')\n",
    "\n",
    "plt.title('Net Wealth')"
   ]
  },
  {
   "cell_type": "code",
   "execution_count": null,
   "metadata": {},
   "outputs": [
    {
     "data": {
      "text/plain": [
       "housing\n",
       "4.0    2036\n",
       "6.0     506\n",
       "2.0     404\n",
       "Name: count, dtype: int64"
      ]
     },
     "execution_count": 96,
     "metadata": {},
     "output_type": "execute_result"
    }
   ],
   "source": [
    "df['house'].value_counts()"
   ]
  }
 ],
 "metadata": {
  "kernelspec": {
   "display_name": "Python 3",
   "language": "python",
   "name": "python3"
  },
  "language_info": {
   "codemirror_mode": {
    "name": "ipython",
    "version": 3
   },
   "file_extension": ".py",
   "mimetype": "text/x-python",
   "name": "python",
   "nbconvert_exporter": "python",
   "pygments_lexer": "ipython3",
   "version": "3.9.17"
  },
  "orig_nbformat": 4
 },
 "nbformat": 4,
 "nbformat_minor": 2
}
