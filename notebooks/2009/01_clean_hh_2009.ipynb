{
 "cells": [
  {
   "attachments": {},
   "cell_type": "markdown",
   "metadata": {},
   "source": [
    "# clean_hh_2005\n",
    "\n",
    "This notebook clean household level data \n",
    "\n",
    "## Inputs\n",
    "1. ii_in.dta : household non labor income\n",
    "2. ii_inr.dta : household rural income\n",
    "3. ii_portad.dta : household location\n",
    "\n",
    "Outputs\n",
    "1. folio : household id\n",
    "2. hh_no_savings : hh has no savings\n",
    "2. hh_has_savings : hh has savings\n",
    "2. hh_no_debts : hh has no debts\n",
    "2. hh_has_debts : hh has debts\n",
    "3. hh_has_liquid : hh has savings or debts"
   ]
  },
  {
   "cell_type": "code",
   "execution_count": 35,
   "metadata": {},
   "outputs": [],
   "source": [
    "import pandas as pd\n",
    "import numpy as np\n",
    "import matplotlib.pyplot as plt\n",
    "\n",
    "import os \n",
    "\n",
    "import sys; sys.path.append('/home/mitch/util/python')"
   ]
  },
  {
   "cell_type": "code",
   "execution_count": 36,
   "metadata": {},
   "outputs": [],
   "source": [
    "raw = '/home/mitch/Dropbox/data/mexico_fls/raw/2009/'\n",
    "interim = '/home/mitch/Dropbox/data/mexico_fls/interim/2009/'\n",
    "\n",
    "figs = '/home/mitch/school/mfl2/fig/'\n",
    "dicts= '/home/mitch/school/mfl2/notebooks/dicts/'"
   ]
  },
  {
   "cell_type": "code",
   "execution_count": 37,
   "metadata": {},
   "outputs": [],
   "source": [
    "keep = ['folio']"
   ]
  },
  {
   "cell_type": "code",
   "execution_count": 38,
   "metadata": {},
   "outputs": [],
   "source": [
    "os.chdir(raw + 'book II/data/' )\n",
    "data = pd.read_stata('ii_crh.dta')\n",
    "ii_in = pd.read_stata('ii_in.dta')\n",
    "ii_inr = pd.read_stata('ii_inr.dta')\n",
    "ii_portad = pd.read_stata('ii_portad.dta')\n",
    "ii_ah = pd.read_stata('ii_ah.dta').drop(columns=['ls'])\n",
    "#weights = pd.read_stata('hh05w_b2.dta')\n",
    "\n",
    "os.chdir(raw + 'book I/data/' )\n",
    "i_cs = pd.read_stata('i_cs.dta')\n",
    "i_cs1 = pd.read_stata('i_cs1.dta')\n",
    "\n",
    "os.chdir(raw + 'book C/data/' )\n",
    "c_cv = pd.read_stata('c_cv.dta')\n"
   ]
  },
  {
   "cell_type": "code",
   "execution_count": 39,
   "metadata": {},
   "outputs": [
    {
     "data": {
      "text/html": [
       "<div>\n",
       "<style scoped>\n",
       "    .dataframe tbody tr th:only-of-type {\n",
       "        vertical-align: middle;\n",
       "    }\n",
       "\n",
       "    .dataframe tbody tr th {\n",
       "        vertical-align: top;\n",
       "    }\n",
       "\n",
       "    .dataframe thead th {\n",
       "        text-align: right;\n",
       "    }\n",
       "</style>\n",
       "<table border=\"1\" class=\"dataframe\">\n",
       "  <thead>\n",
       "    <tr style=\"text-align: right;\">\n",
       "      <th></th>\n",
       "      <th>edad</th>\n",
       "      <th>ent</th>\n",
       "      <th>folio</th>\n",
       "      <th>ls</th>\n",
       "      <th>rel</th>\n",
       "    </tr>\n",
       "  </thead>\n",
       "  <tbody>\n",
       "    <tr>\n",
       "      <th>0</th>\n",
       "      <td>44.0</td>\n",
       "      <td>20.0</td>\n",
       "      <td>000010AP00</td>\n",
       "      <td>02</td>\n",
       "      <td>20.0</td>\n",
       "    </tr>\n",
       "    <tr>\n",
       "      <th>1</th>\n",
       "      <td>24.0</td>\n",
       "      <td>20.0</td>\n",
       "      <td>000010BP03</td>\n",
       "      <td>01</td>\n",
       "      <td>20.0</td>\n",
       "    </tr>\n",
       "    <tr>\n",
       "      <th>2</th>\n",
       "      <td>51.0</td>\n",
       "      <td>20.0</td>\n",
       "      <td>000020AP00</td>\n",
       "      <td>02</td>\n",
       "      <td>20.0</td>\n",
       "    </tr>\n",
       "    <tr>\n",
       "      <th>3</th>\n",
       "      <td>29.0</td>\n",
       "      <td>20.0</td>\n",
       "      <td>000020CP03</td>\n",
       "      <td>02</td>\n",
       "      <td>20.0</td>\n",
       "    </tr>\n",
       "    <tr>\n",
       "      <th>4</th>\n",
       "      <td>44.0</td>\n",
       "      <td>20.0</td>\n",
       "      <td>000030AP00</td>\n",
       "      <td>02</td>\n",
       "      <td>20.0</td>\n",
       "    </tr>\n",
       "    <tr>\n",
       "      <th>...</th>\n",
       "      <td>...</td>\n",
       "      <td>...</td>\n",
       "      <td>...</td>\n",
       "      <td>...</td>\n",
       "      <td>...</td>\n",
       "    </tr>\n",
       "    <tr>\n",
       "      <th>9087</th>\n",
       "      <td>28.0</td>\n",
       "      <td>19.0</td>\n",
       "      <td>107530AP00</td>\n",
       "      <td>02</td>\n",
       "      <td>20.0</td>\n",
       "    </tr>\n",
       "    <tr>\n",
       "      <th>9088</th>\n",
       "      <td>38.0</td>\n",
       "      <td>19.0</td>\n",
       "      <td>107540AP00</td>\n",
       "      <td>02</td>\n",
       "      <td>20.0</td>\n",
       "    </tr>\n",
       "    <tr>\n",
       "      <th>9089</th>\n",
       "      <td>72.0</td>\n",
       "      <td>19.0</td>\n",
       "      <td>107570AP00</td>\n",
       "      <td>01</td>\n",
       "      <td>20.0</td>\n",
       "    </tr>\n",
       "    <tr>\n",
       "      <th>9090</th>\n",
       "      <td>28.0</td>\n",
       "      <td>19.0</td>\n",
       "      <td>107580AP00</td>\n",
       "      <td>02</td>\n",
       "      <td>20.0</td>\n",
       "    </tr>\n",
       "    <tr>\n",
       "      <th>9091</th>\n",
       "      <td>30.0</td>\n",
       "      <td>19.0</td>\n",
       "      <td>107590AP00</td>\n",
       "      <td>02</td>\n",
       "      <td>20.0</td>\n",
       "    </tr>\n",
       "  </tbody>\n",
       "</table>\n",
       "<p>9092 rows × 5 columns</p>\n",
       "</div>"
      ],
      "text/plain": [
       "      edad   ent       folio  ls   rel\n",
       "0     44.0  20.0  000010AP00  02  20.0\n",
       "1     24.0  20.0  000010BP03  01  20.0\n",
       "2     51.0  20.0  000020AP00  02  20.0\n",
       "3     29.0  20.0  000020CP03  02  20.0\n",
       "4     44.0  20.0  000030AP00  02  20.0\n",
       "...    ...   ...         ...  ..   ...\n",
       "9087  28.0  19.0  107530AP00  02  20.0\n",
       "9088  38.0  19.0  107540AP00  02  20.0\n",
       "9089  72.0  19.0  107570AP00  01  20.0\n",
       "9090  28.0  19.0  107580AP00  02  20.0\n",
       "9091  30.0  19.0  107590AP00  02  20.0\n",
       "\n",
       "[9092 rows x 5 columns]"
      ]
     },
     "execution_count": 39,
     "metadata": {},
     "output_type": "execute_result"
    }
   ],
   "source": [
    "ii_portad"
   ]
  },
  {
   "cell_type": "code",
   "execution_count": 40,
   "metadata": {},
   "outputs": [
    {
     "data": {
      "text/plain": [
       "folio\n",
       "AP    7044\n",
       "CP    1426\n",
       "BP     615\n",
       "CH       7\n",
       "Name: count, dtype: int64"
      ]
     },
     "execution_count": 40,
     "metadata": {},
     "output_type": "execute_result"
    }
   ],
   "source": [
    "data['folio'].apply(lambda x : str(x)[6:8]).value_counts()"
   ]
  },
  {
   "cell_type": "code",
   "execution_count": 41,
   "metadata": {},
   "outputs": [
    {
     "data": {
      "text/plain": [
       "folio\n",
       "00    7044\n",
       "03     779\n",
       "04     461\n",
       "05     259\n",
       "02     240\n",
       "06     111\n",
       "01     107\n",
       "07      50\n",
       "08      22\n",
       "10       7\n",
       "11       5\n",
       "09       3\n",
       "13       2\n",
       "12       2\n",
       "Name: count, dtype: int64"
      ]
     },
     "execution_count": 41,
     "metadata": {},
     "output_type": "execute_result"
    }
   ],
   "source": [
    "data['folio'].apply(lambda x : str(x)[-2:]).value_counts()"
   ]
  },
  {
   "cell_type": "markdown",
   "metadata": {},
   "source": [
    "- the majority of these households are AP\n",
    "\n",
    "- A interviewed in 2002\n",
    "- B household belongs to panel member\n",
    "- C formed in 2009\n",
    "will only focus on intact households: so just use AP?\n",
    "\n",
    "last two digits:\n",
    "00 : same as 2002 household\n",
    "\n",
    "- last two digits 00 coincides with AP"
   ]
  },
  {
   "cell_type": "code",
   "execution_count": 42,
   "metadata": {},
   "outputs": [
    {
     "name": "stderr",
     "output_type": "stream",
     "text": [
      "/tmp/ipykernel_1484666/2554907674.py:3: PerformanceWarning: DataFrame is highly fragmented.  This is usually the result of calling `frame.insert` many times, which has poor performance.  Consider joining all columns at once using pd.concat(axis=1) instead. To get a de-fragmented frame, use `newframe = frame.copy()`\n",
      "  dataset['folio_old'] = dataset['folio'].copy()\n"
     ]
    }
   ],
   "source": [
    "for dataset in [data, ii_in, ii_inr, ii_portad, i_cs, i_cs1, ii_ah, c_cv]:\n",
    "    # make folio (household id) numeric for merging\n",
    "    dataset['folio_old'] = dataset['folio'].copy()\n",
    "    dataset['folio'] = dataset['folio'].apply(lambda x : str(x)[:6]).astype('float64')"
   ]
  },
  {
   "cell_type": "code",
   "execution_count": 43,
   "metadata": {},
   "outputs": [],
   "source": [
    "data = (data.merge(ii_in, on=['folio', 'folio_old'], how='inner')\n",
    "            .merge(ii_inr, on=['folio', 'folio_old'], how='inner')\n",
    "            .merge(ii_portad, on=['folio', 'folio_old'], how='inner')\n",
    "            .merge(i_cs, on=['folio', 'folio_old'], how='inner')\n",
    "            .merge(i_cs1, on=['folio', 'folio_old'], how='inner')\n",
    "            .merge(ii_ah, on=['folio', 'folio_old'], how='inner')\n",
    "            .merge(c_cv, on=['folio', 'folio_old'], how='inner')\n",
    "            )"
   ]
  },
  {
   "cell_type": "code",
   "execution_count": 44,
   "metadata": {},
   "outputs": [],
   "source": [
    "data = data.rename(columns={'cs27e_2':'property_income_tax'})\n",
    "keep += ['property_income_tax']"
   ]
  },
  {
   "cell_type": "code",
   "execution_count": 45,
   "metadata": {},
   "outputs": [],
   "source": [
    "os.chdir(dicts)\n",
    "import json_utils\n",
    "\n",
    "illiquid_assets = json_utils.load_json('illiquid_assets.json')\n",
    "productive_illiquid_assets = json_utils.load_json('productive_illiquid_assets.json')\n",
    "has_asset = json_utils.load_json('has_asset.json')\n",
    "knows_asset_value = json_utils.load_json('knows_asset_value.json')\n",
    "asset_value = json_utils.load_json('asset_value.json')\n",
    "\n",
    "cv02_1_keys = json_utils.load_json('cv02_1_keys.json')"
   ]
  },
  {
   "cell_type": "code",
   "execution_count": 46,
   "metadata": {},
   "outputs": [],
   "source": [
    "data = data.rename(columns = {'cv02_1':'property_ownership'})\n",
    "data.loc[data['property_ownership'].isna(), 'property_ownership'] = -1.0\n",
    "data['property_ownership'] = data['property_ownership'].astype(str).apply(lambda x : cv02_1_keys[str(x)])\n",
    "data['property_own_outright'] = data['property_ownership']  == 'property_own_outright'\n",
    "data['property_own_community_ejido'] = data['property_ownership']  == 'property_community_ejido'\n",
    "\n",
    "keep += ['property_ownership', 'property_own_outright', 'property_own_community_ejido']"
   ]
  },
  {
   "cell_type": "code",
   "execution_count": 47,
   "metadata": {},
   "outputs": [
    {
     "data": {
      "text/plain": [
       "{'house': 'ah04a_1',\n",
       " 'otherhouse': 'ah04b_1',\n",
       " 'bicycles': 'ah04c_1',\n",
       " 'vehicle': 'ah04d_1',\n",
       " 'electronics': 'ah04e_1',\n",
       " 'washmachinestove': 'ah04f_1',\n",
       " 'domesticappliance': 'ah04g_1',\n",
       " 'financialassets': 'ah04h_1',\n",
       " 'machinary': 'ah04i_1',\n",
       " 'bullcow': 'ah04j_1',\n",
       " 'horsesmules': 'ah04k_1',\n",
       " 'pigsgoats': 'ah04l_1',\n",
       " 'poultry': 'ah04m_1',\n",
       " 'otherassets': 'ah04n_1'}"
      ]
     },
     "execution_count": 47,
     "metadata": {},
     "output_type": "execute_result"
    }
   ],
   "source": [
    "knows_asset_value"
   ]
  },
  {
   "cell_type": "code",
   "execution_count": 48,
   "metadata": {},
   "outputs": [],
   "source": [
    "data = data.copy()\n",
    "\n",
    "yes = 1.0\n",
    "no = 3.0\n",
    "\n",
    "for asset in illiquid_assets:\n",
    "    data[asset] = np.nan\n",
    "    does_have_asset = data[has_asset[asset]] == yes\n",
    "    knows_value = data[knows_asset_value[asset]] == yes\n",
    "\n",
    "    #data['has_' + asset] = does_have_asset\n",
    "    data.loc[knows_value, asset] = data.loc[knows_value, asset_value[asset]]\n",
    "    #keep.append('has_' + asset)\n",
    "\n",
    "data['illiquid_assets'] = data[illiquid_assets].sum(axis=1)\n",
    "data['has_illiquid_assets'] = data['illiquid_assets'] > 0\n",
    "\n",
    "data['productive_illiquid_assets'] = data[productive_illiquid_assets].sum(axis=1)\n",
    "data['has_productive_illiquid_assets'] = data['productive_illiquid_assets'] > 0\n",
    "\n",
    "data['housing'] = data[has_asset['house']] + data[has_asset['otherhouse']]\n",
    "\n",
    "data['has_housing'] = (data[has_asset['house']] == 1.0) | (data[has_asset['otherhouse']] == 1.0)\n",
    "\n",
    "animal = ['bullcow', 'horsesmules', 'pigsgoats', 'poultry']\n",
    "data['animal'] = data[animal].sum(axis=1)\n",
    "data['has_animal'] = (\n",
    "      (data[has_asset['bullcow']] == 1.0) \n",
    "    | (data[has_asset['horsesmules']] == 1.0)\n",
    "    | (data[has_asset['pigsgoats']] == 1.0)\n",
    "    | (data[has_asset['poultry']] == 1.0)\n",
    "                       )\n",
    "data['has_machinary'] = data[has_asset['machinary']] == 1.0\n",
    "  \n",
    "\n",
    "durable = ['bicycles', 'vehicle', 'electronics', 'washmachinestove', 'domesticappliance', 'machinary']\n",
    "data['durable'] = data[durable].sum(axis=1)\n",
    "data['has_durable'] = (\n",
    "      (data[has_asset['bicycles']] == 1.0) \n",
    "    | (data[has_asset['vehicle']] == 1.0)\n",
    "    | (data[has_asset['electronics']] == 1.0)\n",
    "    | (data[has_asset['washmachinestove']] == 1.0)\n",
    "    | (data[has_asset['domesticappliance']] == 1.0)\n",
    "                       )\n",
    "\n",
    "data['has_financialassets'] = data[has_asset['financialassets']] == 1.0\n",
    "\n",
    "keep = keep + ['house', 'otherhouse', 'housing', 'financialassets', 'otherassets', 'illiquid_assets', 'productive_illiquid_assets'] \n",
    "keep = keep + ['has_housing', 'has_durable', 'has_animal', 'has_machinary', 'has_financialassets', 'has_illiquid_assets',\n",
    "               'has_productive_illiquid_assets'] \n",
    "keep = keep + ['animal', 'durable', 'machinary']\n",
    "\n"
   ]
  },
  {
   "cell_type": "code",
   "execution_count": 49,
   "metadata": {},
   "outputs": [],
   "source": [
    "data = data.copy()\n",
    "data['hh_no_savings'] = data['crh01_1a'] == 1.0\n",
    "data['hh_has_savings'] = data['hh_no_savings'] == False\n",
    "\n",
    "data['hh_has_debts_12mth'] = data['crh02_1'] == 1.0\n",
    "data['hh_no_debts_12mth'] = data['crh02_1'] == 2.0\n",
    "\n",
    "data['hh_debts'] = np.nan\n",
    "data.loc[data['hh_has_debts_12mth'], 'hh_debts'] = data.loc[data['hh_has_debts_12mth'], 'crh02_2']\n",
    "\n",
    "data['hh_has_liquid'] = data['hh_has_savings'] | data['hh_has_debts_12mth']\n",
    "\n",
    "keep = keep + ['hh_no_savings', 'hh_has_savings', 'hh_has_debts_12mth', 'hh_no_debts_12mth', 'hh_debts', 'hh_has_liquid']"
   ]
  },
  {
   "cell_type": "code",
   "execution_count": 50,
   "metadata": {},
   "outputs": [],
   "source": [
    "os.chdir(interim)\n",
    "data[keep].to_stata('hh_2009.dta', write_index=False)"
   ]
  }
 ],
 "metadata": {
  "kernelspec": {
   "display_name": "Python 3",
   "language": "python",
   "name": "python3"
  },
  "language_info": {
   "codemirror_mode": {
    "name": "ipython",
    "version": 3
   },
   "file_extension": ".py",
   "mimetype": "text/x-python",
   "name": "python",
   "nbconvert_exporter": "python",
   "pygments_lexer": "ipython3",
   "version": "3.10.6"
  },
  "orig_nbformat": 4
 },
 "nbformat": 4,
 "nbformat_minor": 2
}
