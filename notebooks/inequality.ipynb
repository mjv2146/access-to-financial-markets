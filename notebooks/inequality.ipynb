{
 "cells": [
  {
   "cell_type": "code",
   "execution_count": 10,
   "metadata": {},
   "outputs": [],
   "source": [
    "import pandas as pd\n",
    "import numpy as np\n",
    "import matplotlib.pyplot as plt\n",
    "\n",
    "import statsmodels.stats.weightstats as ws\n",
    "\n",
    "import os \n",
    "\n",
    "import sys; sys.path.append('/home/mitch/util/python')\n",
    "sys.path.append('/home/mitch/school/mfl2/src/')\n",
    "\n",
    "import panel_distribution_utils as pdu\n",
    "from tabulate import tabulate\n",
    "\n",
    "\n",
    "import utils\n",
    "\n",
    "save = False"
   ]
  },
  {
   "cell_type": "code",
   "execution_count": 11,
   "metadata": {},
   "outputs": [],
   "source": [
    "raw     = '/home/mitch/Dropbox/data/mexico_fls/raw/2005/'\n",
    "interim = '/home/mitch/Dropbox/data/mexico_fls/interim/2005/'\n",
    "\n",
    "figs    = '/home/mitch/school/mfl2/fig/'\n",
    "dicts   = '/home/mitch/school/mfl2/notebooks/dicts/'"
   ]
  },
  {
   "cell_type": "code",
   "execution_count": 21,
   "metadata": {},
   "outputs": [],
   "source": [
    "os.chdir(interim)\n",
    "data = pd.read_stata('merged_2005.dta')"
   ]
  },
  {
   "cell_type": "code",
   "execution_count": 22,
   "metadata": {},
   "outputs": [],
   "source": [
    "data = data.query('annual_labor_income_hh > 0')"
   ]
  },
  {
   "cell_type": "code",
   "execution_count": 23,
   "metadata": {},
   "outputs": [],
   "source": [
    "q01 = ws.DescrStatsW(data['liquid_formal_hh'], weights=data['weight_hh']).quantile(0.01).values[0]\n",
    "q99 = ws.DescrStatsW(data['liquid_formal_hh'], weights=data['weight_hh']).quantile(0.99).values[0]\n",
    "data = data[data['liquid_formal_hh'] > q01]\n",
    "data = data[data['liquid_formal_hh'] < q99]"
   ]
  },
  {
   "cell_type": "code",
   "execution_count": 24,
   "metadata": {},
   "outputs": [
    {
     "name": "stdout",
     "output_type": "stream",
     "text": [
      "0.6496732965490566\n"
     ]
    }
   ],
   "source": [
    "data['liquid_formal_hh']\n",
    "stats = ws.DescrStatsW(data['annual_labor_income_hh'], data['weight_hh'])\n",
    "bound = data['annual_labor_income_hh'] <= stats.quantile(0.90).values[0]\n",
    "total_liquid_wealth = np.sum(data['liquid_formal_hh'] * data['weight_hh'])\n",
    "liquid_wealth_bottom_50 = np.sum(data['liquid_formal_hh'][bound] * data['weight_hh'][bound])\n",
    "share = liquid_wealth_bottom_50 / total_liquid_wealth\n",
    "print(share)\n"
   ]
  },
  {
   "cell_type": "code",
   "execution_count": 25,
   "metadata": {},
   "outputs": [
    {
     "name": "stdout",
     "output_type": "stream",
     "text": [
      "---------------  ---------\n",
      "share_top_05     0.295088\n",
      "share_top_10     0.350327\n",
      "share_bottom_50  0.147506\n",
      "share_bottom_25  0.0227671\n",
      "---------------  ---------\n"
     ]
    }
   ],
   "source": [
    "import importlib\n",
    "importlib.reload(pdu)\n",
    "share_top_05 = 1 - pdu.share(0.95, data['liquid_formal_hh'], data['annual_labor_income_hh'], data['weight_hh'] )\n",
    "share_top_10 = 1 - pdu.share(0.90, data['liquid_formal_hh'], data['annual_labor_income_hh'], data['weight_hh'] )\n",
    "share_bottom_50 = pdu.share(0.50, data['liquid_formal_hh'], data['annual_labor_income_hh'], data['weight_hh'] )\n",
    "share_bottom_25 = pdu.share(0.25, data['liquid_formal_hh'], data['annual_labor_income_hh'], data['weight_hh'] )\n",
    "gini = pdu.gini(data['weight_hh'].astype('float64'), data['liquid_formal_hh'])\n",
    "\n",
    "names = ['share_top_05', 'share_top_10', 'share_bottom_50', 'share_bottom_25', 'gini']\n",
    "results = [share_top_05, share_top_10, share_bottom_50, share_bottom_25, gini]\n",
    "print(tabulate({'Stat':names, 'Result':results}))"
   ]
  },
  {
   "cell_type": "code",
   "execution_count": 35,
   "metadata": {},
   "outputs": [
    {
     "name": "stdout",
     "output_type": "stream",
     "text": [
      "---------------  ---------\n",
      "share_top_05     0.0518014\n",
      "share_top_10     0.12008\n",
      "share_bottom_50  0.42016\n",
      "share_bottom_25  0.208112\n",
      "---------------  ---------\n"
     ]
    }
   ],
   "source": [
    "import importlib\n",
    "importlib.reload(pdu)\n",
    "share_top_05 = 1 - pdu.share(0.95, data['illiquid_assets'], data['annual_labor_income_hh'], data['weight_hh'] )\n",
    "share_top_10 = 1 - pdu.share(0.90, data['illiquid_assets'], data['annual_labor_income_hh'], data['weight_hh'] )\n",
    "share_bottom_50 = pdu.share(0.50, data['illiquid_assets'], data['annual_labor_income_hh'], data['weight_hh'] )\n",
    "share_bottom_25 = pdu.share(0.25, data['illiquid_assets'], data['annual_labor_income_hh'], data['weight_hh'] )\n",
    "\n",
    "names = ['share_top_05', 'share_top_10', 'share_bottom_50', 'share_bottom_25']\n",
    "results = [share_top_05, share_top_10, share_bottom_50, share_bottom_25]\n",
    "print(tabulate({'Stat':names, 'Result':results}))"
   ]
  },
  {
   "cell_type": "code",
   "execution_count": 19,
   "metadata": {},
   "outputs": [
    {
     "ename": "TypeError",
     "evalue": "list indices must be integers or slices, not str",
     "output_type": "error",
     "traceback": [
      "\u001b[0;31m---------------------------------------------------------------------------\u001b[0m",
      "\u001b[0;31mTypeError\u001b[0m                                 Traceback (most recent call last)",
      "Cell \u001b[0;32mIn[19], line 1\u001b[0m\n\u001b[0;32m----> 1\u001b[0m data[\u001b[39m'\u001b[39;49m\u001b[39milliquid_assets\u001b[39;49m\u001b[39m'\u001b[39;49m]\n",
      "\u001b[0;31mTypeError\u001b[0m: list indices must be integers or slices, not str"
     ]
    }
   ],
   "source": [
    "data['illiquid_assets']"
   ]
  },
  {
   "cell_type": "code",
   "execution_count": 12,
   "metadata": {},
   "outputs": [
    {
     "data": {
      "text/plain": [
       "0.07046154672318422"
      ]
     },
     "execution_count": 12,
     "metadata": {},
     "output_type": "execute_result"
    }
   ],
   "source": [
    "np.sum(((data['liquid_formal_hh'] < 0) + 0.0) * data['weight_hh']) / np.sum(data['weight_hh'])"
   ]
  },
  {
   "cell_type": "code",
   "execution_count": 36,
   "metadata": {},
   "outputs": [
    {
     "data": {
      "text/plain": [
       "1.1022053106055119"
      ]
     },
     "execution_count": 36,
     "metadata": {},
     "output_type": "execute_result"
    }
   ],
   "source": [
    "ill = np.sum(data['illiquid_assets'] * data['weight_hh'])\n",
    "income = np.sum(data['annual_labor_income_hh'] * data['weight_hh'])\n",
    "ill / income"
   ]
  },
  {
   "attachments": {},
   "cell_type": "markdown",
   "metadata": {},
   "source": [
    "# todo tomorrow: normalize by number of persons in household?"
   ]
  }
 ],
 "metadata": {
  "kernelspec": {
   "display_name": "Python 3",
   "language": "python",
   "name": "python3"
  },
  "language_info": {
   "codemirror_mode": {
    "name": "ipython",
    "version": 3
   },
   "file_extension": ".py",
   "mimetype": "text/x-python",
   "name": "python",
   "nbconvert_exporter": "python",
   "pygments_lexer": "ipython3",
   "version": "3.10.6"
  },
  "orig_nbformat": 4
 },
 "nbformat": 4,
 "nbformat_minor": 2
}
