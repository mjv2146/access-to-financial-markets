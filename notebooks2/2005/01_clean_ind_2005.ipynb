{
 "cells": [
  {
   "cell_type": "code",
   "execution_count": 126,
   "metadata": {},
   "outputs": [],
   "source": [
    "import pandas as pd\n",
    "import numpy as np\n",
    "import matplotlib.pyplot as plt\n",
    "\n",
    "import os \n",
    "\n",
    "import sys; sys.path.append('/home/mitch/school/mfl/')\n",
    "import src.json_utils"
   ]
  },
  {
   "cell_type": "code",
   "execution_count": 127,
   "metadata": {},
   "outputs": [],
   "source": [
    "raw = '/home/mitch/Dropbox/data/mexico_fls/raw/2005/'\n",
    "interim = '/home/mitch/Dropbox/data/mexico_fls/interim2/2005/'\n",
    "\n",
    "figs = '/home/mitch/school/mfl/fig/'\n",
    "dicts= '/home/mitch/school/mfl/dicts/'"
   ]
  },
  {
   "cell_type": "code",
   "execution_count": 128,
   "metadata": {},
   "outputs": [],
   "source": [
    "rename = src.json_utils.load_json(dicts + 'rename_ind_2005.json')"
   ]
  },
  {
   "cell_type": "code",
   "execution_count": 129,
   "metadata": {},
   "outputs": [],
   "source": [
    "os.chdir(dicts)\n",
    "education = src.json_utils.load_json('education.json')"
   ]
  },
  {
   "cell_type": "code",
   "execution_count": 130,
   "metadata": {},
   "outputs": [],
   "source": [
    "ids = ['folio', 'ls', 'pid_link']\n",
    "keep = ['folio', 'ls', 'pid_link']\n",
    "os.chdir(raw + 'book IIIB/data/')\n",
    "portad = pd.read_stata('iiib_portad.dta')\n",
    "portad = portad.sort_values(by=['folio', 'ls'])"
   ]
  },
  {
   "cell_type": "code",
   "execution_count": 131,
   "metadata": {},
   "outputs": [
    {
     "name": "stdout",
     "output_type": "stream",
     "text": [
      "<class 'pandas.core.frame.DataFrame'>\n",
      "Int64Index: 20607 entries, 0 to 20606\n",
      "Data columns (total 8 columns):\n",
      " #   Column     Non-Null Count  Dtype  \n",
      "---  ------     --------------  -----  \n",
      " 0   catorcena  20607 non-null  float32\n",
      " 1   edad       20606 non-null  float32\n",
      " 2   edo_civil  20607 non-null  int8   \n",
      " 3   ent        20607 non-null  float32\n",
      " 4   folio      20607 non-null  object \n",
      " 5   ls         20607 non-null  object \n",
      " 6   pid_link   20607 non-null  object \n",
      " 7   rel        20607 non-null  float32\n",
      "dtypes: float32(4), int8(1), object(3)\n",
      "memory usage: 986.1+ KB\n"
     ]
    }
   ],
   "source": [
    "portad.info()"
   ]
  },
  {
   "cell_type": "code",
   "execution_count": 132,
   "metadata": {},
   "outputs": [
    {
     "name": "stdout",
     "output_type": "stream",
     "text": [
      "<class 'pandas.core.frame.DataFrame'>\n",
      "Int64Index: 19544 entries, 0 to 35087\n",
      "Data columns (total 3 columns):\n",
      " #   Column  Non-Null Count  Dtype \n",
      "---  ------  --------------  ----- \n",
      " 0   folio   19544 non-null  object\n",
      " 1   ls      19544 non-null  object\n",
      " 2   fac_3a  19544 non-null  int32 \n",
      "dtypes: int32(1), object(2)\n",
      "memory usage: 534.4+ KB\n"
     ]
    }
   ],
   "source": [
    "os.chdir(raw + 'book IIIA/data/')\n",
    "weights_3a = pd.read_stata('weights.dta')\n",
    "weights_3a = (weights_3a.query('fac_3a>0')\n",
    "              .drop_duplicates()\n",
    "              .sort_values(by=['folio', 'ls']))\n",
    "weights_3a.info()"
   ]
  },
  {
   "cell_type": "code",
   "execution_count": 133,
   "metadata": {},
   "outputs": [],
   "source": [
    "# ids\n",
    "os.chdir(raw + 'book C/data/')\n",
    "df_ls = pd.read_stata('c_ls.dta')\n",
    "df_ls = df_ls.drop(columns='pid_link')\n",
    "\n",
    "os.chdir(raw + 'book IIIA/data/')\n",
    "# employment\n",
    "df_tb = pd.read_stata('iiia_tb.dta')\n",
    "df_tb = df_tb.drop(columns='pid_link')\n",
    "\n",
    "# education\n",
    "df_ed = pd.read_stata('iiia_ed.dta')\n",
    "df_ed = df_ed.drop(columns='pid_link')\n",
    "\n",
    "# non labor income, is ANNUAL\n",
    "df_iin = pd.read_stata('iiia_iin.dta')\n",
    "df_iin = df_iin.drop(columns='pid_link')\n",
    "\n",
    "os.chdir(raw + 'book IIIB/data/')\n",
    "# credit\n",
    "df_cr = pd.read_stata('iiib_cr.dta')\n",
    "df_cr = df_cr.drop(columns='pid_link')\n",
    "\n",
    "# credit 1\n",
    "df_cr1 = pd.read_stata('iiib_cr1.dta')\n",
    "df_cr1 = df_cr1.drop(columns='pid_link')\n",
    "\n",
    "# family structure (gender)\n",
    "df_thi = pd.read_stata('iiib_thi.dta')\n",
    "df_thi = df_thi.drop(columns='pid_link')"
   ]
  },
  {
   "cell_type": "code",
   "execution_count": 134,
   "metadata": {},
   "outputs": [],
   "source": [
    "df = (weights_3a.merge(portad, on=['folio', 'ls'], how='left')\n",
    "        .merge(df_ls, on=['folio', 'ls'], how='left')\n",
    "        .merge(df_tb, on=['folio', 'ls'], how='left')\n",
    "        .merge(df_ed, on=['folio', 'ls'], how='left')\n",
    "        .merge(df_cr, on=['folio', 'ls'], how='left')\n",
    "        .merge(df_cr1, on=['folio', 'ls'], how='left')\n",
    "        .merge(df_thi, on=['folio', 'ls'], how='left')\n",
    "        )"
   ]
  },
  {
   "cell_type": "code",
   "execution_count": 135,
   "metadata": {},
   "outputs": [
    {
     "name": "stdout",
     "output_type": "stream",
     "text": [
      "<class 'pandas.core.frame.DataFrame'>\n",
      "Int64Index: 19930 entries, 0 to 19929\n",
      "Data columns (total 44 columns):\n",
      " #   Column                  Non-Null Count  Dtype  \n",
      "---  ------                  --------------  -----  \n",
      " 0   hhid                    19930 non-null  object \n",
      " 1   hhmember                19930 non-null  object \n",
      " 2   weight_ind              19930 non-null  int32  \n",
      " 3   age                     19463 non-null  float32\n",
      " 4   state                   19464 non-null  float32\n",
      " 5   education               17500 non-null  float32\n",
      " 6   gender                  19452 non-null  float32\n",
      " 7   has_income              6365 non-null   float64\n",
      " 8   income                  5048 non-null   float32\n",
      " 9   has_income_secondjob    112 non-null    float32\n",
      " 10  income_secondjob        97 non-null     float32\n",
      " 11  has_wage                19590 non-null  object \n",
      " 12  wage                    841 non-null    float32\n",
      " 13  has_piecework           19590 non-null  object \n",
      " 14  piecework               831 non-null    float32\n",
      " 15  has_tips                19590 non-null  object \n",
      " 16  tips                    834 non-null    float32\n",
      " 17  has_extrahours          19590 non-null  object \n",
      " 18  extrahours              831 non-null    float32\n",
      " 19  has_christmasbonus      19590 non-null  object \n",
      " 20  christmasbonus          844 non-null    float32\n",
      " 21  has_bonus               19590 non-null  object \n",
      " 22  bonus                   832 non-null    float32\n",
      " 23  has_profitdist          19590 non-null  object \n",
      " 24  profitdist              831 non-null    float32\n",
      " 25  has_other               19590 non-null  object \n",
      " 26  other                   829 non-null    float32\n",
      " 27  earn_main_business      2101 non-null   float32\n",
      " 28  income_main_business    2101 non-null   float32\n",
      " 29  earn_second_business    145 non-null    float32\n",
      " 30  income_second_business  145 non-null    float32\n",
      " 31  asked_for_loan_12mth    6988 non-null   float32\n",
      " 32  has_savings             19325 non-null  float32\n",
      " 33  savings                 1892 non-null   float32\n",
      " 34  savings_none            84 non-null     float32\n",
      " 35  savings_bank            864 non-null    float32\n",
      " 36  savings_coop            95 non-null     float32\n",
      " 37  savings_savingsbank     405 non-null    float32\n",
      " 38  savings_friend_not_hhm  54 non-null     float32\n",
      " 39  savings_afores          13 non-null     float32\n",
      " 40  savings_caja_solidaria  10 non-null     float32\n",
      " 41  savings_house           587 non-null    float32\n",
      " 42  savings_work            48 non-null     float32\n",
      " 43  savings_other           12 non-null     float32\n",
      "dtypes: float32(32), float64(1), int32(1), object(10)\n",
      "memory usage: 4.3+ MB\n"
     ]
    }
   ],
   "source": [
    "df = df.rename(columns=rename)\n",
    "df = df[rename.values()]\n",
    "df.info()"
   ]
  },
  {
   "cell_type": "code",
   "execution_count": 136,
   "metadata": {},
   "outputs": [],
   "source": [
    "df['hh_size'] = df.groupby('hhid')['hhmember'].transform('size')\n",
    "df['education'] = df['education'].astype(str).replace(education)\n",
    "df['gender'] = df['gender'].replace({1.0:1, 2.0:0, 3.0:0})"
   ]
  },
  {
   "cell_type": "code",
   "execution_count": null,
   "metadata": {},
   "outputs": [],
   "source": [
    "has_values = {\n",
    "    'wage':'A',\n",
    "    'piecework':'B',\n",
    "    'tips':'C',\n",
    "    'extrahours':'D',\n",
    "    'christmasbonus':'E',\n",
    "    'bonus':'F',\n",
    "    'profitdist':'H',\n",
    "    'other':'M'\n",
    "}"
   ]
  },
  {
   "cell_type": "code",
   "execution_count": null,
   "metadata": {},
   "outputs": [],
   "source": [
    "dk = 8.0\n",
    "df['total_income'] = 0.0\n",
    "\n",
    "total = df['has_income'] == 3.0 \n",
    "detailed = df['has_income'] == 1.0 \n",
    "dk = df['has_income'] == 8.0 \n",
    "\n",
    "df.loc[total, 'total_income'] = df.loc[total, 'income']\n",
    "\n",
    "for income in ['wage', 'piecework', 'tips', 'extrahours',\n",
    "               'christmasbonus', 'bonus', 'profitdist', 'other']:\n",
    "    knows = df['has_' + income] == has_values[income]\n",
    "    dk = df['has_' + income] == 8\n",
    "\n",
    "    df.loc[dk, income] = 0.00\n",
    "    df[income] = df[income].fillna(0.00)"
   ]
  },
  {
   "cell_type": "code",
   "execution_count": null,
   "metadata": {},
   "outputs": [],
   "source": [
    "income_sources = [\n",
    "                  'income',\n",
    "                  'wage',\n",
    "                  'piecework',\n",
    "                  'tips',\n",
    "                  'extrahours',\n",
    "                  'other',\n",
    "                  'christmasbonus',\n",
    "                  'bonus',\n",
    "                  'profitdistribution',\n",
    "                  'income_second_job'\n",
    "                  ]\n",
    "                  #'netIncomeMainBusiness', 'netIncomeSecondBusiness']\n",
    "\n",
    "df['total_income'] = df[income_sources].sum(axis=1)"
   ]
  },
  {
   "cell_type": "markdown",
   "metadata": {},
   "source": [
    "# Debts"
   ]
  },
  {
   "cell_type": "code",
   "execution_count": null,
   "metadata": {},
   "outputs": [],
   "source": [
    "# more formal measure of debts\n",
    "df['asked_for_loan_12mth'] = df['cr10'] == 1.0\n",
    "df['not_asked_for_loan_32mth'] = df['cr10'] == 1.0\n",
    "\n",
    "loan_locations = {\n",
    "    1.0:'bank',\n",
    "    2.0:'savings_fund',\n",
    "    3.0:'moneylender',\n",
    "    4.0:'relative',\n",
    "    5.0:'friends',\n",
    "    6.0:'work',\n",
    "    7.0:'pawnshop',\n",
    "    8.0:'verbal_agreement_credit_program',\n",
    "    9.0:'other_govt',\n",
    "    10.0:'other',\n",
    "    -1.0: np.nan\n",
    "}\n",
    "formal = ['bank', 'savings_fund', 'moneylender', 'pawnshop']\n",
    "informal = ['relative', 'friends', 'work', 'verbal_agreement_credit_program', 'other_govt', 'other']\n",
    "friends_relatives = ['relative', 'friends']\n",
    "\n",
    "df.loc[np.isnan(df['where_get_loan']), 'where_get_loan'] = -1.0\n"
   ]
  },
  {
   "cell_type": "code",
   "execution_count": null,
   "metadata": {},
   "outputs": [],
   "source": [
    "df['where_get_loan'] = df['where_get_loan'].replace(loan_locations)\n",
    "df['has_loan_formal']    = df['where_get_loan'].isin(formal)\n",
    "df['has_loan_informal']  = df['where_get_loan'].isin(informal)\n",
    "df['has_loan_friends_relatives']  = df['where_get_loan'].isin(friends_relatives)\n",
    "df['has_loan'] = df['has_loan_formal'] | df['has_loan_informal'] | df['has_loan_friends_relatives']\n",
    "\n",
    "got_loan = df['received_loan'] == 1.0\n",
    "\n",
    "df[~got_loan, 'loan_size'] = 0.0\n",
    "#df.loc[got_loan, 'loan_size'] = df.loc[got_loan, 'cr19']\n",
    "\n",
    "df['loan_formal']   = df['loan_size'] * (df['has_loan_formal'] + 0.0)\n",
    "df['loan_informal'] = df['loan_size'] * (df['has_loan_informal'] + 0.0)\n",
    "df['loan_friends_relatives']   = df['loan_size'] * (df['has_loan_friends_relatives'] + 0.0)\n"
   ]
  },
  {
   "cell_type": "markdown",
   "metadata": {},
   "source": [
    "# Savings"
   ]
  },
  {
   "cell_type": "code",
   "execution_count": 149,
   "metadata": {},
   "outputs": [
    {
     "data": {
      "text/plain": [
       "3.0    17042\n",
       "1.0     2156\n",
       "7.0      127\n",
       "Name: has_savings, dtype: int64"
      ]
     },
     "execution_count": 149,
     "metadata": {},
     "output_type": "execute_result"
    }
   ],
   "source": [
    "df.has_savings.value_counts()"
   ]
  },
  {
   "cell_type": "code",
   "execution_count": null,
   "metadata": {},
   "outputs": [],
   "source": [
    "df['has_savings'] = df['cr27'] == 1.0\n",
    "df['no_savings'] = df['cr27'] == 3.0\n",
    "dk_savings = df['cr27'] == 8.0\n",
    "\n",
    "df['savings'] = np.nan\n",
    "df.loc[df.has_savings, 'savings'] = df.loc[df.has_savings, 'cr28']\n",
    "df.loc[df.no_savings, 'savings'] = 0.0\n",
    "\n",
    "savings_no_savings     = df['cr29_1a'] == 1.0\n",
    "savings_bank           = df['cr29_1b'] == 2.0\n",
    "savings_coop           = df['cr29_1c'] == 3.0\n",
    "savings_savings_bank   = df['cr29_1d'] == 4.0\n",
    "savings_friend_not_hhm = df['cr29_1e'] == 5.0\n",
    "savings_afores         = df['cr29_1f'] == 6.0\n",
    "savings_caja_solidaria = df['cr29_1g'] == 7.0\n",
    "savings_house          = df['cr29_1h'] == 8.0\n",
    "savings_work           = df['cr29_1i'] == 9.0\n",
    "savings_other          = df['cr29_1j'] == 10.0\n",
    "\n",
    "df['has_savings_formal']   = savings_bank | savings_coop | savings_savings_bank | savings_caja_solidaria\n",
    "df['has_savings_informal'] = savings_friend_not_hhm | savings_house | savings_work \n",
    "\n",
    "\n",
    "df['savings_formal']   = (df['has_savings_formal'] + 0.0) * df['cr28']\n",
    "df['savings_informal'] = (df['has_savings_informal'] + 0.0) * df['cr28']\n",
    "\n",
    "df.loc[df.no_savings, 'savings_formal'] = 0\n",
    "df.loc[df.no_savings, 'savings_informal'] = 0\n",
    "\n",
    "both = df['has_savings_formal'] & df['has_savings_informal']\n",
    "\n",
    "df.loc[both, 'savings_formal']   = np.nan\n",
    "df.loc[both, 'savings_informal'] = np.nan\n",
    "\n",
    "df['has_liquid_formal'] = df['has_savings_formal'] | df['loan_formal']\n",
    "df['liquid_formal'] = df['savings_formal'] - df['loan_formal']\n",
    "\n",
    "df['has_liquid'] = df['has_savings'] | df['has_loan']"
   ]
  },
  {
   "cell_type": "code",
   "execution_count": null,
   "metadata": {},
   "outputs": [],
   "source": [
    "df = (df.query('age >= 20')\n",
    "      .query('age <= 65')\n",
    ")"
   ]
  },
  {
   "cell_type": "code",
   "execution_count": 150,
   "metadata": {},
   "outputs": [],
   "source": [
    "df['hh_total_income'] = df.groupby('hhid')['total_income'].transform('sum')\n",
    "df['hh_savings'] = df.groupby('hhid')['savings'].transform('sum')\n",
    "df['hh_debts'] = df.groupby('hhid')['debts'].transform('sum')\n",
    "\n",
    "df['hh_has_savings'] = df.groupby('hhid')['has_savings'].transform(lambda x : x.size() > 0)"
   ]
  },
  {
   "cell_type": "code",
   "execution_count": null,
   "metadata": {},
   "outputs": [],
   "source": [
    "df['is_hhm'] = df['ls05_1'] \n",
    "df = df[df['is_hhm'] == 1.0]\n",
    "\n",
    "os.chdir(interim)\n",
    "df[keep].to_csv('ind_2005.csv', index=False)"
   ]
  },
  {
   "attachments": {},
   "cell_type": "markdown",
   "metadata": {},
   "source": [
    "# Savings"
   ]
  },
  {
   "cell_type": "code",
   "execution_count": 110,
   "metadata": {},
   "outputs": [],
   "source": []
  },
  {
   "cell_type": "code",
   "execution_count": 111,
   "metadata": {},
   "outputs": [],
   "source": []
  },
  {
   "cell_type": "code",
   "execution_count": 112,
   "metadata": {},
   "outputs": [],
   "source": []
  },
  {
   "cell_type": "code",
   "execution_count": 113,
   "metadata": {},
   "outputs": [],
   "source": []
  },
  {
   "cell_type": "code",
   "execution_count": 114,
   "metadata": {},
   "outputs": [],
   "source": []
  },
  {
   "cell_type": "code",
   "execution_count": 115,
   "metadata": {},
   "outputs": [],
   "source": []
  },
  {
   "cell_type": "code",
   "execution_count": 116,
   "metadata": {},
   "outputs": [],
   "source": [
    "import importlib\n",
    "importlib.reload(utils)\n",
    "df = utils.sum_over_household(df, 'savings')\n",
    "df = utils.sum_over_household(df, 'savings_formal')\n",
    "df = utils.sum_over_household(df, 'savings_informal')\n",
    "df = utils.sum_over_household(df, 'annual_labor_income')\n",
    "df = utils.sum_over_household(df, 'annual_wage')\n",
    "df = utils.sum_over_household(df, 'annual_piecework')\n",
    "df = utils.sum_over_household(df, 'annual_tips')\n",
    "df = utils.sum_over_household(df, 'annual_extrahours')\n",
    "df = utils.sum_over_household(df, 'annual_other')\n",
    "df = utils.sum_over_household(df, 'annual_christmasbonus')\n",
    "df = utils.sum_over_household(df, 'annual_bonus')\n",
    "df = utils.sum_over_household(df, 'annual_profitdistribution')\n",
    "df = utils.sum_over_household(df, 'annual_income_second_job')\n",
    "df = utils.sum_over_household(df, 'netIncomeMainBusiness')\n",
    "df = utils.sum_over_household(df, 'netIncomeSecondBusiness')\n",
    "df = utils.sum_over_household(df, 'loan_formal')\n",
    "df = utils.sum_over_household(df, 'loan_informal')\n",
    "df = utils.sum_over_household(df, 'loan_friends_relatives')\n",
    "df = utils.sum_over_household(df, 'liquid_formal')\n",
    "\n",
    "\n",
    "df = utils.any_in_household(df, 'has_liquid')\n",
    "df = utils.any_in_household(df, 'has_savings')\n",
    "df = utils.any_in_household(df, 'has_savings_formal')\n",
    "df = utils.any_in_household(df, 'has_savings_informal')\n",
    "df = utils.any_in_household(df, 'has_loan_formal')\n",
    "df = utils.any_in_household(df, 'has_loan_informal')\n",
    "df = utils.any_in_household(df, 'has_loan_friends_relatives')\n",
    "df = utils.any_in_household(df, 'has_loan')\n",
    "df = utils.any_in_household(df, 'has_liquid_formal')\n",
    "df = utils.any_in_household(df, 'asked_for_loan_12mth')\n"
   ]
  },
  {
   "cell_type": "code",
   "execution_count": 117,
   "metadata": {},
   "outputs": [],
   "source": [
    "keep += ['has_liquid_hh', 'savings_hh', 'savings_formal_hh', 'savings_informal_hh']\n",
    "keep += ['has_savings_hh', 'has_savings_formal_hh', 'has_savings_informal_hh']\n",
    "keep += ['loan_formal_hh', 'loan_informal_hh', 'loan_friends_relatives_hh']\n",
    "keep += ['has_loan_hh', 'has_loan_formal_hh', 'has_loan_informal_hh', 'has_loan_friends_relatives_hh']\n",
    "keep += ['liquid_formal_hh', 'has_liquid_formal_hh']\n",
    "keep += ['annual_labor_income_hh', 'netIncomeMainBusiness_hh', 'netIncomeSecondBusiness_hh']"
   ]
  },
  {
   "cell_type": "code",
   "execution_count": 118,
   "metadata": {},
   "outputs": [],
   "source": [
    "inner = df[['folio', 'annual_labor_income']].groupby('folio')['annual_labor_income'].apply(np.sum).rename('annual_labor_income_hh_inner')\n",
    "outer = df[['folio', 'annual_labor_income']].groupby('folio')['annual_labor_income'].apply(np.sum).rename('annual_labor_income_hh_outer')\n",
    "df_inner = df.copy().merge(inner, on='folio', how='inner')\n",
    "df_outer = df.copy().merge(outer, on='folio', how='outer')"
   ]
  },
  {
   "cell_type": "markdown",
   "metadata": {},
   "source": [
    "# loans regardless of location"
   ]
  },
  {
   "cell_type": "code",
   "execution_count": 121,
   "metadata": {},
   "outputs": [
    {
     "name": "stdout",
     "output_type": "stream",
     "text": [
      "saved\n"
     ]
    }
   ],
   "source": []
  }
 ],
 "metadata": {
  "kernelspec": {
   "display_name": "Python 3",
   "language": "python",
   "name": "python3"
  },
  "language_info": {
   "codemirror_mode": {
    "name": "ipython",
    "version": 3
   },
   "file_extension": ".py",
   "mimetype": "text/x-python",
   "name": "python",
   "nbconvert_exporter": "python",
   "pygments_lexer": "ipython3",
   "version": "3.9.17"
  },
  "orig_nbformat": 4
 },
 "nbformat": 4,
 "nbformat_minor": 2
}
