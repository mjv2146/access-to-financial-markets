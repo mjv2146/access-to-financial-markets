{
 "cells": [
  {
   "cell_type": "code",
   "execution_count": 189,
   "metadata": {},
   "outputs": [],
   "source": [
    "import pandas as pd\n",
    "import numpy as np\n",
    "import matplotlib.pyplot as plt\n",
    "\n",
    "import os \n",
    "\n",
    "import sys; sys.path.append('/home/mitch/school/mfl/')\n",
    "import src.json_utils"
   ]
  },
  {
   "cell_type": "code",
   "execution_count": 190,
   "metadata": {},
   "outputs": [],
   "source": [
    "raw = '/home/mitch/Dropbox/data/mexico_fls/raw/2005/'\n",
    "interim = '/home/mitch/Dropbox/data/mexico_fls/interim2/2005/'\n",
    "\n",
    "figs = '/home/mitch/github/mfl/fig/'\n",
    "dicts= '/home/mitch/github/mfl/dicts/'"
   ]
  },
  {
   "cell_type": "code",
   "execution_count": 191,
   "metadata": {},
   "outputs": [],
   "source": [
    "education = src.json_utils.load_json(dicts + 'education.json')\n",
    "rename = src.json_utils.load_json(dicts + 'rename_ind_2005.json')"
   ]
  },
  {
   "cell_type": "code",
   "execution_count": 192,
   "metadata": {},
   "outputs": [],
   "source": [
    "ids = ['folio', 'ls', 'pid_link']\n",
    "keep = ['folio', 'ls', 'pid_link']\n",
    "os.chdir(raw + 'book IIIB/data/')\n",
    "portad = pd.read_stata('iiib_portad.dta')\n",
    "portad = portad.sort_values(by=['folio', 'ls'])"
   ]
  },
  {
   "cell_type": "code",
   "execution_count": 193,
   "metadata": {},
   "outputs": [
    {
     "name": "stdout",
     "output_type": "stream",
     "text": [
      "<class 'pandas.core.frame.DataFrame'>\n",
      "Int64Index: 20607 entries, 0 to 20606\n",
      "Data columns (total 8 columns):\n",
      " #   Column     Non-Null Count  Dtype  \n",
      "---  ------     --------------  -----  \n",
      " 0   catorcena  20607 non-null  float32\n",
      " 1   edad       20606 non-null  float32\n",
      " 2   edo_civil  20607 non-null  int8   \n",
      " 3   ent        20607 non-null  float32\n",
      " 4   folio      20607 non-null  object \n",
      " 5   ls         20607 non-null  object \n",
      " 6   pid_link   20607 non-null  object \n",
      " 7   rel        20607 non-null  float32\n",
      "dtypes: float32(4), int8(1), object(3)\n",
      "memory usage: 986.1+ KB\n"
     ]
    }
   ],
   "source": [
    "portad.info()"
   ]
  },
  {
   "cell_type": "code",
   "execution_count": 194,
   "metadata": {},
   "outputs": [
    {
     "name": "stdout",
     "output_type": "stream",
     "text": [
      "<class 'pandas.core.frame.DataFrame'>\n",
      "Int64Index: 19544 entries, 0 to 35087\n",
      "Data columns (total 3 columns):\n",
      " #   Column  Non-Null Count  Dtype \n",
      "---  ------  --------------  ----- \n",
      " 0   folio   19544 non-null  object\n",
      " 1   ls      19544 non-null  object\n",
      " 2   fac_3a  19544 non-null  int32 \n",
      "dtypes: int32(1), object(2)\n",
      "memory usage: 534.4+ KB\n"
     ]
    }
   ],
   "source": [
    "os.chdir(raw + 'book IIIA/data/')\n",
    "weights_3a = pd.read_stata('weights.dta')\n",
    "weights_3a = (weights_3a.query('fac_3a>0')\n",
    "              .drop_duplicates()\n",
    "              .sort_values(by=['folio', 'ls']))\n",
    "weights_3a.info()"
   ]
  },
  {
   "cell_type": "code",
   "execution_count": 195,
   "metadata": {},
   "outputs": [],
   "source": [
    "# ids\n",
    "os.chdir(raw + 'book C/data/')\n",
    "df_ls = pd.read_stata('c_ls.dta')\n",
    "df_ls = df_ls.drop(columns='pid_link')\n",
    "\n",
    "os.chdir(raw + 'book IIIA/data/')\n",
    "# employment\n",
    "df_tb = pd.read_stata('iiia_tb.dta')\n",
    "df_tb = df_tb.drop(columns='pid_link')\n",
    "\n",
    "# education\n",
    "df_ed = pd.read_stata('iiia_ed.dta')\n",
    "df_ed = df_ed.drop(columns='pid_link')\n",
    "\n",
    "# non labor income, is ANNUAL\n",
    "df_iin = pd.read_stata('iiia_iin.dta')\n",
    "df_iin = df_iin.drop(columns='pid_link')\n",
    "\n",
    "os.chdir(raw + 'book IIIB/data/')\n",
    "# credit\n",
    "df_cr = pd.read_stata('iiib_cr.dta')\n",
    "df_cr = df_cr.drop(columns='pid_link')\n",
    "\n",
    "# credit 1\n",
    "df_cr1 = pd.read_stata('iiib_cr1.dta')\n",
    "df_cr1 = df_cr1.drop(columns='pid_link')\n",
    "\n",
    "# family structure (gender)\n",
    "df_thi = pd.read_stata('iiib_thi.dta')\n",
    "df_thi = df_thi.drop(columns='pid_link')"
   ]
  },
  {
   "cell_type": "code",
   "execution_count": 196,
   "metadata": {},
   "outputs": [],
   "source": [
    "df = (weights_3a.merge(portad, on=['folio', 'ls'], how='left')\n",
    "        .merge(df_ls, on=['folio', 'ls'], how='left')\n",
    "        .merge(df_tb, on=['folio', 'ls'], how='left')\n",
    "        .merge(df_ed, on=['folio', 'ls'], how='left')\n",
    "        .merge(df_cr, on=['folio', 'ls'], how='left')\n",
    "        .merge(df_cr1, on=['folio', 'ls'], how='left')\n",
    "        .merge(df_thi, on=['folio', 'ls'], how='left')\n",
    "        )"
   ]
  },
  {
   "cell_type": "code",
   "execution_count": 197,
   "metadata": {},
   "outputs": [
    {
     "name": "stdout",
     "output_type": "stream",
     "text": [
      "<class 'pandas.core.frame.DataFrame'>\n",
      "Int64Index: 19930 entries, 0 to 19929\n",
      "Data columns (total 51 columns):\n",
      " #   Column                      Non-Null Count  Dtype  \n",
      "---  ------                      --------------  -----  \n",
      " 0   hhid                        19930 non-null  object \n",
      " 1   hhmember                    19930 non-null  object \n",
      " 2   weight_ind                  19930 non-null  int32  \n",
      " 3   is_hhm                      19873 non-null  float32\n",
      " 4   age                         19463 non-null  float32\n",
      " 5   state                       19464 non-null  float32\n",
      " 6   attended_school             19589 non-null  float32\n",
      " 7   education                   17500 non-null  float32\n",
      " 8   gender                      19452 non-null  float32\n",
      " 9   income_type                 6365 non-null   float64\n",
      " 10  income_undetailed           5048 non-null   float32\n",
      " 11  has_income_second_job       112 non-null    float32\n",
      " 12  income_second_job           97 non-null     float32\n",
      " 13  has_wage                    19590 non-null  object \n",
      " 14  wage                        841 non-null    float32\n",
      " 15  has_piecework               19590 non-null  object \n",
      " 16  piecework                   831 non-null    float32\n",
      " 17  has_tips                    19590 non-null  object \n",
      " 18  tips                        834 non-null    float32\n",
      " 19  has_extrahours              19590 non-null  object \n",
      " 20  extrahours                  831 non-null    float32\n",
      " 21  has_christmasbonus          19590 non-null  object \n",
      " 22  christmasbonus              844 non-null    float32\n",
      " 23  has_bonus                   19590 non-null  object \n",
      " 24  bonus                       832 non-null    float32\n",
      " 25  has_profitdist              19590 non-null  object \n",
      " 26  profitdist                  831 non-null    float32\n",
      " 27  has_other                   19590 non-null  object \n",
      " 28  other                       829 non-null    float32\n",
      " 29  earn_main_business          2101 non-null   float32\n",
      " 30  income_main_business        2101 non-null   float32\n",
      " 31  earn_second_business        145 non-null    float32\n",
      " 32  income_second_business      145 non-null    float32\n",
      " 33  asked_for_loan_12mth        6988 non-null   float32\n",
      " 34  loan_location               1623 non-null   float32\n",
      " 35  received_loan               1621 non-null   float32\n",
      " 36  loan_size                   1612 non-null   float32\n",
      " 37  has_debts                   19306 non-null  float32\n",
      " 38  debts                       18860 non-null  float32\n",
      " 39  has_savings                 19325 non-null  float32\n",
      " 40  savings                     1892 non-null   float32\n",
      " 41  has_savings_none            84 non-null     float32\n",
      " 42  has_savings_bank            864 non-null    float32\n",
      " 43  has_savings_coop            95 non-null     float32\n",
      " 44  has_savings_savingsbank     405 non-null    float32\n",
      " 45  has_savings_friend_not_hhm  54 non-null     float32\n",
      " 46  has_savings_afores          13 non-null     float32\n",
      " 47  has_savings_caja_solidaria  10 non-null     float32\n",
      " 48  has_savings_house           587 non-null    float32\n",
      " 49  has_savings_work            48 non-null     float32\n",
      " 50  has_savings_other           12 non-null     float32\n",
      "dtypes: float32(39), float64(1), int32(1), object(10)\n",
      "memory usage: 4.9+ MB\n"
     ]
    }
   ],
   "source": [
    "df = df.rename(columns=rename)\n",
    "df = df[rename.values()]\n",
    "df.info()"
   ]
  },
  {
   "cell_type": "markdown",
   "metadata": {},
   "source": [
    "# Education and Gender"
   ]
  },
  {
   "cell_type": "code",
   "execution_count": 198,
   "metadata": {},
   "outputs": [],
   "source": [
    "# define household size\n",
    "df['hh_size'] = df.groupby('hhid')['hhmember'].transform('size')"
   ]
  },
  {
   "cell_type": "markdown",
   "metadata": {},
   "source": [
    "# Education"
   ]
  },
  {
   "cell_type": "code",
   "execution_count": 199,
   "metadata": {},
   "outputs": [
    {
     "data": {
      "text/plain": [
       "1.0    17500\n",
       "0.0     2089\n",
       "Name: attended_school, dtype: int64"
      ]
     },
     "execution_count": 199,
     "metadata": {},
     "output_type": "execute_result"
    }
   ],
   "source": [
    "df['attended_school'] = df['attended_school'].replace({1.0:1.0, 3.0:0.0})\n",
    "df.attended_school.value_counts()"
   ]
  },
  {
   "cell_type": "code",
   "execution_count": 200,
   "metadata": {},
   "outputs": [
    {
     "data": {
      "text/plain": [
       "{'1.0': 'low',\n",
       " '2.0': 'low',\n",
       " '3.0': 'low',\n",
       " '4.0': 'medium',\n",
       " '5.0': 'medium',\n",
       " '6.0': 'medium',\n",
       " '7.0': 'medium',\n",
       " '8.0': 'medium',\n",
       " '9.0': 'high',\n",
       " '10.0': 'high',\n",
       " '98.0': 'low'}"
      ]
     },
     "execution_count": 200,
     "metadata": {},
     "output_type": "execute_result"
    }
   ],
   "source": [
    "education"
   ]
  },
  {
   "cell_type": "code",
   "execution_count": 201,
   "metadata": {},
   "outputs": [
    {
     "data": {
      "text/plain": [
       "low       9514\n",
       "medium    8266\n",
       "high      1809\n",
       "nan        341\n",
       "Name: education, dtype: int64"
      ]
     },
     "execution_count": 201,
     "metadata": {},
     "output_type": "execute_result"
    }
   ],
   "source": [
    "df.education = df.education.astype('str').replace(education)\n",
    "df.loc[df.attended_school == 0.0, 'education'] = 'low'\n",
    "df.education.value_counts()"
   ]
  },
  {
   "cell_type": "markdown",
   "metadata": {},
   "source": [
    "# Gender"
   ]
  },
  {
   "cell_type": "code",
   "execution_count": 202,
   "metadata": {},
   "outputs": [
    {
     "data": {
      "text/plain": [
       "1.0    10719\n",
       "3.0     5188\n",
       "2.0     3545\n",
       "Name: gender, dtype: int64"
      ]
     },
     "execution_count": 202,
     "metadata": {},
     "output_type": "execute_result"
    }
   ],
   "source": [
    "df.gender.value_counts()"
   ]
  },
  {
   "cell_type": "code",
   "execution_count": 203,
   "metadata": {},
   "outputs": [
    {
     "data": {
      "text/plain": [
       "Female    10719\n",
       "Male       8733\n",
       "Name: gender, dtype: int64"
      ]
     },
     "execution_count": 203,
     "metadata": {},
     "output_type": "execute_result"
    }
   ],
   "source": [
    "df['gender'] = df['gender'].replace(\n",
    "    {1.0:'Female',\n",
    "     2.0:'Male',\n",
    "     3.0:'Male'}\n",
    "    )\n",
    "df.gender.value_counts()"
   ]
  },
  {
   "cell_type": "markdown",
   "metadata": {},
   "source": [
    "# Income"
   ]
  },
  {
   "cell_type": "code",
   "execution_count": 204,
   "metadata": {},
   "outputs": [],
   "source": [
    "has_values = {\n",
    "    'wage':'A',\n",
    "    'piecework':'B',\n",
    "    'tips':'C',\n",
    "    'extrahours':'D',\n",
    "    'christmasbonus':'E',\n",
    "    'bonus':'F',\n",
    "    'profitdist':'H',\n",
    "    'other':'M'\n",
    "}"
   ]
  },
  {
   "cell_type": "code",
   "execution_count": 205,
   "metadata": {},
   "outputs": [],
   "source": [
    "df['income_main_job'] = 0.00\n",
    "\n",
    "undetailed       = df['income_type'] == 3.0\n",
    "detailed    = df['income_type'] == 1.0\n",
    "dk          = df['income_type'] == 8.0\n",
    "\n",
    "df.loc[undetailed, 'income_main_job'] = df.loc[undetailed, 'income_undetailed']"
   ]
  },
  {
   "cell_type": "code",
   "execution_count": 206,
   "metadata": {},
   "outputs": [],
   "source": [
    "detailed_income_sources = ['wage', 'piecework', 'tips', 'extrahours', 'christmasbonus', 'bonus', 'profitdist', 'other']\n",
    "for detailed_income_source in detailed_income_sources:\n",
    "    knows = df['has_' + detailed_income_source] == has_values[detailed_income_source]\n",
    "    dk = df['has_' + detailed_income_source] == 8\n",
    "\n",
    "    df.loc[dk, detailed_income_source] = 0.00\n",
    "    df[detailed_income_source] = df[detailed_income_source].fillna(0.00)\n",
    "df.loc[detailed, 'income_main_job'] = df.loc[detailed, detailed_income_sources].sum(axis=1)"
   ]
  },
  {
   "cell_type": "code",
   "execution_count": 207,
   "metadata": {},
   "outputs": [],
   "source": [
    "income_sources = [\n",
    "    'income_main_job',\n",
    "    'income_second_job',\n",
    "    'income_main_business',\n",
    "    'income_second_business'\n",
    "]\n",
    "df['income'] = df[income_sources].sum(axis=1)"
   ]
  },
  {
   "cell_type": "markdown",
   "metadata": {},
   "source": [
    "# Debts"
   ]
  },
  {
   "cell_type": "code",
   "execution_count": 208,
   "metadata": {},
   "outputs": [
    {
     "data": {
      "text/plain": [
       "0.0    14874\n",
       "1.0     5056\n",
       "Name: has_debts, dtype: int64"
      ]
     },
     "execution_count": 208,
     "metadata": {},
     "output_type": "execute_result"
    }
   ],
   "source": [
    "df['has_debts'] = df['has_debts'].replace(\n",
    "    {1.0:1, 8.0:0}\n",
    "    ).fillna(0)\n",
    "\n",
    "no_debts = df['has_debts'] == 0\n",
    "df.loc[no_debts, 'debts'] = 0.0\n",
    "\n",
    "df['has_debts'] = (df['debts'] > 0) + 0.0\n",
    "df.has_debts.value_counts()"
   ]
  },
  {
   "cell_type": "markdown",
   "metadata": {},
   "source": [
    "# Loans"
   ]
  },
  {
   "cell_type": "code",
   "execution_count": 209,
   "metadata": {},
   "outputs": [
    {
     "data": {
      "text/plain": [
       "3.0    5363\n",
       "1.0    1625\n",
       "Name: asked_for_loan_12mth, dtype: int64"
      ]
     },
     "execution_count": 209,
     "metadata": {},
     "output_type": "execute_result"
    }
   ],
   "source": [
    "df.asked_for_loan_12mth.value_counts()"
   ]
  },
  {
   "cell_type": "code",
   "execution_count": 210,
   "metadata": {},
   "outputs": [],
   "source": [
    "# more formal measure of debts\n",
    "df['asked_for_loan_12mth'] = df['asked_for_loan_12mth'].replace({1.0:1, 3.0:0})\n",
    "\n",
    "loan_locations = {\n",
    "    1.0:'bank',\n",
    "    2.0:'savings_fund',\n",
    "    3.0:'moneylender',\n",
    "    4.0:'relative',\n",
    "    5.0:'friends',\n",
    "    6.0:'work',\n",
    "    7.0:'pawnshop',\n",
    "    8.0:'verbal_agreement_credit_program',\n",
    "    9.0:'other_govt',\n",
    "    10.0:'other',\n",
    "    -1.0: np.nan\n",
    "}\n",
    "formal = ['bank', 'savings_fund', 'moneylender', 'pawnshop']\n",
    "informal = ['relative', 'friends', 'work', 'verbal_agreement_credit_program', 'other_govt', 'other']\n",
    "friends_relatives = ['relative', 'friends']"
   ]
  },
  {
   "cell_type": "code",
   "execution_count": 211,
   "metadata": {},
   "outputs": [],
   "source": [
    "df['loan_location'] = df['loan_location'].replace(loan_locations)\n",
    "\n",
    "df['has_loan_formal']    = df['loan_location'].isin(formal)\n",
    "df['has_loan_informal']  = df['loan_location'].isin(informal)\n",
    "df['has_loan_friends_relatives']  = df['loan_location'].isin(friends_relatives)\n",
    "\n",
    "df['has_loan'] = df['has_loan_formal'] | df['has_loan_informal'] | df['has_loan_friends_relatives']\n",
    "\n",
    "got_loan = df['received_loan'] == 1.0\n",
    "df.loc[~got_loan, 'loan'] = 0.0\n",
    "\n",
    "df['loan_formal']   = df['loan'] * (df['has_loan_formal'] + 0.0)\n",
    "df['loan_informal'] = df['loan'] * (df['has_loan_informal'] + 0.0)\n",
    "df['loan_friends_relatives']   = df['loan'] * (df['has_loan_friends_relatives'] + 0.0)"
   ]
  },
  {
   "cell_type": "markdown",
   "metadata": {},
   "source": [
    "# Savings"
   ]
  },
  {
   "cell_type": "code",
   "execution_count": 212,
   "metadata": {},
   "outputs": [
    {
     "data": {
      "text/plain": [
       "3.0    17042\n",
       "1.0     2156\n",
       "7.0      127\n",
       "Name: has_savings, dtype: int64"
      ]
     },
     "execution_count": 212,
     "metadata": {},
     "output_type": "execute_result"
    }
   ],
   "source": [
    "df.has_savings.value_counts()"
   ]
  },
  {
   "cell_type": "code",
   "execution_count": 213,
   "metadata": {},
   "outputs": [],
   "source": [
    "has_savings = df['has_savings'] == 1.0\n",
    "no_savings = df['has_savings'] == 3.0\n",
    "dk_savings = df['has_savings'] == 7.0\n",
    "\n",
    "#df.loc[has_savings, 'savings'] = df.loc[df.has_savings, 'savings']\n",
    "df.loc[no_savings, 'savings'] = 0.0\n",
    "df.loc[dk_savings, 'savings'] = 0.0"
   ]
  },
  {
   "cell_type": "code",
   "execution_count": 214,
   "metadata": {},
   "outputs": [],
   "source": [
    "df['has_savings_none']              = df['has_savings_none'] == 1.0\n",
    "df['has_savings_bank']              = df['has_savings_bank'] == 2.0\n",
    "df['has_savings_coop']              = df['has_savings_coop'] == 3.0\n",
    "df['has_savings_savingsbank']       = df['has_savings_savingsbank'] == 4.0\n",
    "df['has_savings_friend_not_hhm']    = df['has_savings_friend_not_hhm'] == 5.0\n",
    "df['has_savings_afores']            = df['has_savings_afores'] == 6.0\n",
    "df['has_savings_caja_solidaria']    = df['has_savings_caja_solidaria'] == 7.0\n",
    "df['has_savings_house']             = df['has_savings_house'] == 8.0\n",
    "df['has_savings_work']              = df['has_savings_work'] == 9.0\n",
    "df['has_savings_other']             = df['has_savings_other'] == 10.0"
   ]
  },
  {
   "cell_type": "code",
   "execution_count": 215,
   "metadata": {},
   "outputs": [],
   "source": [
    "# restrict to people with a well defined age\n",
    "df = (df.query('age >= 20')\n",
    "      .query('age <= 65')\n",
    ")"
   ]
  },
  {
   "cell_type": "code",
   "execution_count": 216,
   "metadata": {},
   "outputs": [],
   "source": [
    "get_sum = [\n",
    "    'income',\n",
    "    'savings',\n",
    "    'debts'\n",
    "]\n",
    "\n",
    "get_any = [\n",
    "    'has_savings',\n",
    "    'has_debts', \n",
    "    'has_loan',\n",
    "    'has_loan_formal',\n",
    "    'has_loan_informal',\n",
    "    'has_loan_friends_relatives',\n",
    "    'has_savings_none',\n",
    "    'has_savings_bank',\n",
    "    'has_savings_coop',\n",
    "    'has_savings_savingsbank',\n",
    "    'has_savings_friend_not_hhm',\n",
    "    'has_savings_afores',\n",
    "    'has_savings_caja_solidaria',\n",
    "    'has_savings_house',\n",
    "    'has_savings_work',\n",
    "    'has_savings_other'\n",
    "]\n",
    "\n",
    "for var in get_sum:\n",
    "    df['ind_' + var] = df.groupby('hhid')[var].transform('sum')\n",
    "\n",
    "for var in get_any:\n",
    "    df['ind_' + var] = df.groupby('hhid')[var].transform(lambda x : x.sum() > 0)"
   ]
  },
  {
   "cell_type": "code",
   "execution_count": 217,
   "metadata": {},
   "outputs": [],
   "source": [
    "df = (df.drop(columns = get_sum)\n",
    "      .drop(columns = get_any))"
   ]
  },
  {
   "cell_type": "code",
   "execution_count": 218,
   "metadata": {},
   "outputs": [],
   "source": [
    "# create single observation for each household by restricting to household head\n",
    "df = df[df['is_hhm'] == 1.0].reset_index(drop=True)"
   ]
  },
  {
   "cell_type": "markdown",
   "metadata": {},
   "source": [
    "# Income Outliers"
   ]
  },
  {
   "cell_type": "code",
   "execution_count": 219,
   "metadata": {},
   "outputs": [],
   "source": [
    "from statsmodels.stats.weightstats import DescrStatsW\n",
    "q_995 = DescrStatsW(df['ind_income'], df['weight_ind']).quantile(0.995).iloc[0]\n",
    "df = df[df['ind_income'] < q_995]"
   ]
  },
  {
   "cell_type": "code",
   "execution_count": 220,
   "metadata": {},
   "outputs": [],
   "source": [
    "os.chdir(interim)\n",
    "df.to_csv('ind_2005.csv', index=False)"
   ]
  },
  {
   "cell_type": "code",
   "execution_count": 221,
   "metadata": {},
   "outputs": [
    {
     "name": "stdout",
     "output_type": "stream",
     "text": [
      "<class 'pandas.core.frame.DataFrame'>\n",
      "Int64Index: 5089 entries, 0 to 5111\n",
      "Data columns (total 62 columns):\n",
      " #   Column                          Non-Null Count  Dtype  \n",
      "---  ------                          --------------  -----  \n",
      " 0   hhid                            5089 non-null   object \n",
      " 1   hhmember                        5089 non-null   object \n",
      " 2   weight_ind                      5089 non-null   int32  \n",
      " 3   is_hhm                          5089 non-null   float32\n",
      " 4   age                             5089 non-null   float32\n",
      " 5   state                           5089 non-null   float32\n",
      " 6   attended_school                 5087 non-null   float32\n",
      " 7   education                       5089 non-null   object \n",
      " 8   gender                          5089 non-null   object \n",
      " 9   income_type                     2592 non-null   float64\n",
      " 10  income_undetailed               2054 non-null   float32\n",
      " 11  has_income_second_job           54 non-null     float32\n",
      " 12  income_second_job               45 non-null     float32\n",
      " 13  has_wage                        5087 non-null   object \n",
      " 14  wage                            5089 non-null   float32\n",
      " 15  has_piecework                   5087 non-null   object \n",
      " 16  piecework                       5089 non-null   float32\n",
      " 17  has_tips                        5087 non-null   object \n",
      " 18  tips                            5089 non-null   float32\n",
      " 19  has_extrahours                  5087 non-null   object \n",
      " 20  extrahours                      5089 non-null   float32\n",
      " 21  has_christmasbonus              5087 non-null   object \n",
      " 22  christmasbonus                  5089 non-null   float32\n",
      " 23  has_bonus                       5087 non-null   object \n",
      " 24  bonus                           5089 non-null   float32\n",
      " 25  has_profitdist                  5087 non-null   object \n",
      " 26  profitdist                      5089 non-null   float32\n",
      " 27  has_other                       5087 non-null   object \n",
      " 28  other                           5089 non-null   float32\n",
      " 29  earn_main_business              1048 non-null   float32\n",
      " 30  income_main_business            1048 non-null   float32\n",
      " 31  earn_second_business            86 non-null     float32\n",
      " 32  income_second_business          86 non-null     float32\n",
      " 33  asked_for_loan_12mth            2216 non-null   float32\n",
      " 34  loan_location                   620 non-null    object \n",
      " 35  received_loan                   620 non-null    float32\n",
      " 36  loan_size                       619 non-null    float32\n",
      " 37  hh_size                         5089 non-null   int64  \n",
      " 38  income_main_job                 5062 non-null   float64\n",
      " 39  loan                            4470 non-null   float64\n",
      " 40  loan_formal                     4470 non-null   float64\n",
      " 41  loan_informal                   4470 non-null   float64\n",
      " 42  loan_friends_relatives          4470 non-null   float64\n",
      " 43  ind_income                      5089 non-null   float64\n",
      " 44  ind_savings                     5089 non-null   float32\n",
      " 45  ind_debts                       5089 non-null   float32\n",
      " 46  ind_has_savings                 5089 non-null   bool   \n",
      " 47  ind_has_debts                   5089 non-null   bool   \n",
      " 48  ind_has_loan                    5089 non-null   bool   \n",
      " 49  ind_has_loan_formal             5089 non-null   bool   \n",
      " 50  ind_has_loan_informal           5089 non-null   bool   \n",
      " 51  ind_has_loan_friends_relatives  5089 non-null   bool   \n",
      " 52  ind_has_savings_none            5089 non-null   bool   \n",
      " 53  ind_has_savings_bank            5089 non-null   bool   \n",
      " 54  ind_has_savings_coop            5089 non-null   bool   \n",
      " 55  ind_has_savings_savingsbank     5089 non-null   bool   \n",
      " 56  ind_has_savings_friend_not_hhm  5089 non-null   bool   \n",
      " 57  ind_has_savings_afores          5089 non-null   bool   \n",
      " 58  ind_has_savings_caja_solidaria  5089 non-null   bool   \n",
      " 59  ind_has_savings_house           5089 non-null   bool   \n",
      " 60  ind_has_savings_work            5089 non-null   bool   \n",
      " 61  ind_has_savings_other           5089 non-null   bool   \n",
      "dtypes: bool(16), float32(24), float64(7), int32(1), int64(1), object(13)\n",
      "memory usage: 1.4+ MB\n"
     ]
    }
   ],
   "source": [
    "df.info()"
   ]
  }
 ],
 "metadata": {
  "kernelspec": {
   "display_name": "Python 3",
   "language": "python",
   "name": "python3"
  },
  "language_info": {
   "codemirror_mode": {
    "name": "ipython",
    "version": 3
   },
   "file_extension": ".py",
   "mimetype": "text/x-python",
   "name": "python",
   "nbconvert_exporter": "python",
   "pygments_lexer": "ipython3",
   "version": "3.9.17"
  },
  "orig_nbformat": 4
 },
 "nbformat": 4,
 "nbformat_minor": 2
}
