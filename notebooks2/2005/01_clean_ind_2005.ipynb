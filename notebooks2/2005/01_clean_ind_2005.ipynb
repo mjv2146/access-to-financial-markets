{
 "cells": [
  {
   "cell_type": "code",
   "execution_count": 633,
   "metadata": {},
   "outputs": [],
   "source": [
    "import pandas as pd\n",
    "import numpy as np\n",
    "import matplotlib.pyplot as plt\n",
    "\n",
    "import os \n",
    "\n",
    "import sys; sys.path.append('/home/mitch/school/mfl/')\n",
    "import src.json_utils"
   ]
  },
  {
   "cell_type": "code",
   "execution_count": 634,
   "metadata": {},
   "outputs": [],
   "source": [
    "raw = '/home/mitch/Dropbox/data/mexico_fls/raw/2005/'\n",
    "interim = '/home/mitch/Dropbox/data/mexico_fls/interim2/2005/'\n",
    "\n",
    "figs = '/home/mitch/github/mfl/fig/'\n",
    "dicts= '/home/mitch/github/mfl/dicts/'"
   ]
  },
  {
   "cell_type": "code",
   "execution_count": 635,
   "metadata": {},
   "outputs": [],
   "source": [
    "education = src.json_utils.load_json(dicts + 'education.json')\n",
    "rename = src.json_utils.load_json(dicts + 'rename_ind_2005.json')"
   ]
  },
  {
   "cell_type": "code",
   "execution_count": 636,
   "metadata": {},
   "outputs": [],
   "source": [
    "ids = ['folio', 'ls', 'pid_link']\n",
    "keep = ['folio', 'ls', 'pid_link']\n",
    "os.chdir(raw + 'book IIIB/data/')\n",
    "portad = pd.read_stata('iiib_portad.dta')\n",
    "portad = portad.sort_values(by=['folio', 'ls'])"
   ]
  },
  {
   "cell_type": "code",
   "execution_count": 637,
   "metadata": {},
   "outputs": [
    {
     "name": "stdout",
     "output_type": "stream",
     "text": [
      "<class 'pandas.core.frame.DataFrame'>\n",
      "Int64Index: 20607 entries, 0 to 20606\n",
      "Data columns (total 8 columns):\n",
      " #   Column     Non-Null Count  Dtype  \n",
      "---  ------     --------------  -----  \n",
      " 0   catorcena  20607 non-null  float32\n",
      " 1   edad       20606 non-null  float32\n",
      " 2   edo_civil  20607 non-null  int8   \n",
      " 3   ent        20607 non-null  float32\n",
      " 4   folio      20607 non-null  object \n",
      " 5   ls         20607 non-null  object \n",
      " 6   pid_link   20607 non-null  object \n",
      " 7   rel        20607 non-null  float32\n",
      "dtypes: float32(4), int8(1), object(3)\n",
      "memory usage: 986.1+ KB\n"
     ]
    }
   ],
   "source": [
    "portad.info()"
   ]
  },
  {
   "cell_type": "code",
   "execution_count": 638,
   "metadata": {},
   "outputs": [
    {
     "name": "stdout",
     "output_type": "stream",
     "text": [
      "<class 'pandas.core.frame.DataFrame'>\n",
      "Int64Index: 19544 entries, 0 to 35087\n",
      "Data columns (total 3 columns):\n",
      " #   Column  Non-Null Count  Dtype \n",
      "---  ------  --------------  ----- \n",
      " 0   folio   19544 non-null  object\n",
      " 1   ls      19544 non-null  object\n",
      " 2   fac_3a  19544 non-null  int32 \n",
      "dtypes: int32(1), object(2)\n",
      "memory usage: 534.4+ KB\n"
     ]
    }
   ],
   "source": [
    "os.chdir(raw + 'book IIIA/data/')\n",
    "weights_3a = pd.read_stata('weights.dta')\n",
    "weights_3a = (weights_3a.query('fac_3a>0')\n",
    "              .drop_duplicates()\n",
    "              .sort_values(by=['folio', 'ls']))\n",
    "weights_3a.info()"
   ]
  },
  {
   "cell_type": "code",
   "execution_count": 639,
   "metadata": {},
   "outputs": [],
   "source": [
    "# ids\n",
    "os.chdir(raw + 'book C/data/')\n",
    "df_ls = pd.read_stata('c_ls.dta')\n",
    "df_ls = df_ls.drop(columns='pid_link')\n",
    "\n",
    "os.chdir(raw + 'book IIIA/data/')\n",
    "# employment\n",
    "df_tb = pd.read_stata('iiia_tb.dta')\n",
    "df_tb = df_tb.drop(columns='pid_link')\n",
    "\n",
    "# education\n",
    "df_ed = pd.read_stata('iiia_ed.dta')\n",
    "df_ed = df_ed.drop(columns='pid_link')\n",
    "\n",
    "# non labor income, is ANNUAL\n",
    "df_iin = pd.read_stata('iiia_iin.dta')\n",
    "df_iin = df_iin.drop(columns='pid_link')\n",
    "\n",
    "os.chdir(raw + 'book IIIB/data/')\n",
    "# credit\n",
    "df_cr = pd.read_stata('iiib_cr.dta')\n",
    "df_cr = df_cr.drop(columns='pid_link')\n",
    "\n",
    "# credit 1\n",
    "df_cr1 = pd.read_stata('iiib_cr1.dta')\n",
    "df_cr1 = df_cr1.drop(columns='pid_link')\n",
    "\n",
    "# family structure (gender)\n",
    "df_thi = pd.read_stata('iiib_thi.dta')\n",
    "df_thi = df_thi.drop(columns='pid_link')"
   ]
  },
  {
   "cell_type": "code",
   "execution_count": 640,
   "metadata": {},
   "outputs": [],
   "source": [
    "df = (portad.merge(weights_3a, on=['folio', 'ls'], how='left')\n",
    "        .merge(df_ls, on=['folio', 'ls'], how='left')\n",
    "        .merge(df_tb, on=['folio', 'ls'], how='left')\n",
    "        .merge(df_ed, on=['folio', 'ls'], how='left')\n",
    "        .merge(df_cr, on=['folio', 'ls'], how='left')\n",
    "        .merge(df_cr1, on=['folio', 'ls'], how='left')\n",
    "        .merge(df_thi, on=['folio', 'ls'], how='left')\n",
    "        )"
   ]
  },
  {
   "cell_type": "code",
   "execution_count": 641,
   "metadata": {},
   "outputs": [
    {
     "name": "stdout",
     "output_type": "stream",
     "text": [
      "<class 'pandas.core.frame.DataFrame'>\n",
      "Int64Index: 21057 entries, 0 to 21056\n",
      "Data columns (total 50 columns):\n",
      " #   Column                      Non-Null Count  Dtype  \n",
      "---  ------                      --------------  -----  \n",
      " 0   hhid                        21057 non-null  object \n",
      " 1   hhmember                    21057 non-null  object \n",
      " 2   weight_ind                  19464 non-null  float64\n",
      " 3   is_hhm                      20986 non-null  float32\n",
      " 4   age                         21056 non-null  float32\n",
      " 5   attended_school             21004 non-null  float32\n",
      " 6   education                   18858 non-null  float32\n",
      " 7   gender                      21043 non-null  float32\n",
      " 8   income_type                 6991 non-null   float64\n",
      " 9   income_undetailed           5522 non-null   float32\n",
      " 10  has_income_second_job       127 non-null    float32\n",
      " 11  income_second_job           110 non-null    float32\n",
      " 12  has_wage                    21005 non-null  object \n",
      " 13  wage                        950 non-null    float32\n",
      " 14  has_piecework               21005 non-null  object \n",
      " 15  piecework                   928 non-null    float32\n",
      " 16  has_tips                    21005 non-null  object \n",
      " 17  tips                        930 non-null    float32\n",
      " 18  has_extrahours              21005 non-null  object \n",
      " 19  extrahours                  927 non-null    float32\n",
      " 20  has_christmasbonus          21005 non-null  object \n",
      " 21  christmasbonus              943 non-null    float32\n",
      " 22  has_bonus                   21005 non-null  object \n",
      " 23  bonus                       928 non-null    float32\n",
      " 24  has_profitdist              21005 non-null  object \n",
      " 25  profitdist                  927 non-null    float32\n",
      " 26  has_other                   21005 non-null  object \n",
      " 27  other                       926 non-null    float32\n",
      " 28  earn_main_business          2211 non-null   float32\n",
      " 29  income_main_business        2211 non-null   float32\n",
      " 30  earn_second_business        170 non-null    float32\n",
      " 31  income_second_business      170 non-null    float32\n",
      " 32  asked_for_loan_12mth        7647 non-null   float32\n",
      " 33  loan_type                   1831 non-null   float32\n",
      " 34  received_loan               1830 non-null   float32\n",
      " 35  loan_size                   1821 non-null   float32\n",
      " 36  has_debts                   20875 non-null  float32\n",
      " 37  debts                       20392 non-null  float32\n",
      " 38  has_savings                 20913 non-null  float32\n",
      " 39  savings                     2109 non-null   float32\n",
      " 40  has_savings_none            89 non-null     float32\n",
      " 41  has_savings_bank            951 non-null    float32\n",
      " 42  has_savings_coop            104 non-null    float32\n",
      " 43  has_savings_savingsbank     457 non-null    float32\n",
      " 44  has_savings_friend_not_hhm  60 non-null     float32\n",
      " 45  has_savings_afores          14 non-null     float32\n",
      " 46  has_savings_caja_solidaria  11 non-null     float32\n",
      " 47  has_savings_house           653 non-null    float32\n",
      " 48  has_savings_work            56 non-null     float32\n",
      " 49  has_savings_other           14 non-null     float32\n",
      "dtypes: float32(38), float64(2), object(10)\n",
      "memory usage: 5.1+ MB\n"
     ]
    }
   ],
   "source": [
    "df = df.rename(columns=rename)\n",
    "df = df[rename.values()]\n",
    "df.info()"
   ]
  },
  {
   "cell_type": "code",
   "execution_count": 642,
   "metadata": {},
   "outputs": [],
   "source": [
    "df = df[~df.weight_ind.isna()]"
   ]
  },
  {
   "cell_type": "markdown",
   "metadata": {},
   "source": [
    "# Household Size"
   ]
  },
  {
   "cell_type": "code",
   "execution_count": 643,
   "metadata": {},
   "outputs": [],
   "source": [
    "# define household size\n",
    "df['hh_size'] = df.groupby('hhid')['hhmember'].transform('size')"
   ]
  },
  {
   "cell_type": "markdown",
   "metadata": {},
   "source": [
    "# Education"
   ]
  },
  {
   "cell_type": "code",
   "execution_count": 644,
   "metadata": {},
   "outputs": [
    {
     "data": {
      "text/plain": [
       "True     17387\n",
       "False     2077\n",
       "Name: attended_school, dtype: int64"
      ]
     },
     "execution_count": 644,
     "metadata": {},
     "output_type": "execute_result"
    }
   ],
   "source": [
    "df['attended_school'] = df['attended_school'].replace({1.0:1.0, 3.0:0.0}).astype(bool)\n",
    "df.attended_school.value_counts(dropna=False)"
   ]
  },
  {
   "cell_type": "code",
   "execution_count": 645,
   "metadata": {},
   "outputs": [
    {
     "data": {
      "text/plain": [
       "{'1.0': 'Low',\n",
       " '2.0': 'Low',\n",
       " '3.0': 'Low',\n",
       " '4.0': 'Medium',\n",
       " '5.0': 'Medium',\n",
       " '6.0': 'Medium',\n",
       " '7.0': 'Medium',\n",
       " '8.0': 'Medium',\n",
       " '9.0': 'High',\n",
       " '10.0': 'High',\n",
       " '98.0': 'Low'}"
      ]
     },
     "execution_count": 645,
     "metadata": {},
     "output_type": "execute_result"
    }
   ],
   "source": [
    "education"
   ]
  },
  {
   "cell_type": "code",
   "execution_count": 646,
   "metadata": {},
   "outputs": [
    {
     "data": {
      "text/plain": [
       "3.0     7289\n",
       "4.0     4837\n",
       "6.0     2687\n",
       "NaN     2081\n",
       "9.0     1722\n",
       "5.0      263\n",
       "8.0      241\n",
       "7.0      170\n",
       "10.0      78\n",
       "1.0       76\n",
       "2.0       15\n",
       "98.0       5\n",
       "Name: education, dtype: int64"
      ]
     },
     "execution_count": 646,
     "metadata": {},
     "output_type": "execute_result"
    }
   ],
   "source": [
    "df.education.value_counts(dropna=False)"
   ]
  },
  {
   "cell_type": "code",
   "execution_count": 647,
   "metadata": {},
   "outputs": [
    {
     "data": {
      "text/plain": [
       "Medium    8198\n",
       "Low       7385\n",
       "low       2077\n",
       "High      1800\n",
       "nan          4\n",
       "Name: education, dtype: int64"
      ]
     },
     "execution_count": 647,
     "metadata": {},
     "output_type": "execute_result"
    }
   ],
   "source": [
    "df.education = df.education.astype('str').replace(education)\n",
    "df.loc[df.attended_school == False, 'education'] = 'low'\n",
    "df.education.value_counts()"
   ]
  },
  {
   "cell_type": "markdown",
   "metadata": {},
   "source": [
    "# Age"
   ]
  },
  {
   "cell_type": "code",
   "execution_count": 648,
   "metadata": {},
   "outputs": [
    {
     "data": {
      "text/plain": [
       "1"
      ]
     },
     "execution_count": 648,
     "metadata": {},
     "output_type": "execute_result"
    }
   ],
   "source": [
    "df.age.isna().sum()"
   ]
  },
  {
   "cell_type": "markdown",
   "metadata": {},
   "source": [
    "# Gender"
   ]
  },
  {
   "cell_type": "code",
   "execution_count": 649,
   "metadata": {},
   "outputs": [
    {
     "data": {
      "text/plain": [
       "1.0    10719\n",
       "3.0     5188\n",
       "2.0     3545\n",
       "NaN       12\n",
       "Name: gender, dtype: int64"
      ]
     },
     "execution_count": 649,
     "metadata": {},
     "output_type": "execute_result"
    }
   ],
   "source": [
    "df.gender.value_counts(dropna=False)"
   ]
  },
  {
   "cell_type": "code",
   "execution_count": 650,
   "metadata": {},
   "outputs": [
    {
     "data": {
      "text/plain": [
       "Female    10719\n",
       "Male       8733\n",
       "NaN          12\n",
       "Name: gender, dtype: int64"
      ]
     },
     "execution_count": 650,
     "metadata": {},
     "output_type": "execute_result"
    }
   ],
   "source": [
    "df['gender'] = df['gender'].replace(\n",
    "    {1.0:'Female',\n",
    "     2.0:'Male',\n",
    "     3.0:'Male'}\n",
    "    )\n",
    "df.gender.value_counts(dropna=False)"
   ]
  },
  {
   "cell_type": "markdown",
   "metadata": {},
   "source": [
    "# Income"
   ]
  },
  {
   "cell_type": "code",
   "execution_count": 651,
   "metadata": {},
   "outputs": [],
   "source": [
    "detailed_income_sources = ['wage', 'piecework', 'tips', 'extrahours', 'christmasbonus', 'bonus', 'profitdist', 'other']\n",
    "has_values = {\n",
    "    'wage':'A',\n",
    "    'piecework':'B',\n",
    "    'tips':'C',\n",
    "    'extrahours':'D',\n",
    "    'christmasbonus':'E',\n",
    "    'bonus':'F',\n",
    "    'profitdist':'H',\n",
    "    'other':'M'\n",
    "}"
   ]
  },
  {
   "cell_type": "code",
   "execution_count": 652,
   "metadata": {},
   "outputs": [
    {
     "data": {
      "text/plain": [
       "NaN    13139\n",
       "3.0     5080\n",
       "1.0      859\n",
       "8.0      386\n",
       "Name: income_type, dtype: int64"
      ]
     },
     "execution_count": 652,
     "metadata": {},
     "output_type": "execute_result"
    }
   ],
   "source": [
    "df.income_type.value_counts(dropna=False)"
   ]
  },
  {
   "cell_type": "code",
   "execution_count": 653,
   "metadata": {},
   "outputs": [],
   "source": [
    "df.income_type = df.income_type.replace({\n",
    "    3.0:'undetailed',\n",
    "    1.0:'detailed',\n",
    "    8.0:'dk'\n",
    "})"
   ]
  },
  {
   "cell_type": "code",
   "execution_count": 654,
   "metadata": {},
   "outputs": [],
   "source": [
    "df['income_main_job'] = 0.00\n",
    "\n",
    "undetailed = df['income_type'] == 'undetailed'\n",
    "detailed   = df['income_type'] == 'detailed'\n",
    "dk_income  = df['income_type'] == 'dk'\n",
    "\n",
    "df.loc[df.income_type == 'undetailed', 'income_main_job'] = df.loc[undetailed, 'income_undetailed']"
   ]
  },
  {
   "cell_type": "code",
   "execution_count": 655,
   "metadata": {},
   "outputs": [],
   "source": [
    "for detailed_income_source in detailed_income_sources:\n",
    "    knows = df['has_' + detailed_income_source] == has_values[detailed_income_source]\n",
    "    dk = df['has_' + detailed_income_source] == 8\n",
    "\n",
    "    df.loc[dk, detailed_income_source] = np.average(df.loc[knows, detailed_income_source],\n",
    "                                                    weights = df.loc[knows, 'weight_ind'])\n",
    "\n",
    "    df[detailed_income_source] = df[detailed_income_source].fillna(0.00)\n",
    "df.loc[df.income_type == 'detailed', 'income_main_job'] = df.loc[detailed, detailed_income_sources].sum(axis=1)"
   ]
  },
  {
   "cell_type": "code",
   "execution_count": 656,
   "metadata": {},
   "outputs": [
    {
     "data": {
      "text/plain": [
       "68329.63311552304"
      ]
     },
     "execution_count": 656,
     "metadata": {},
     "output_type": "execute_result"
    }
   ],
   "source": [
    "knows = df['has_' + 'wage'] == has_values['wage']\n",
    "np.average(df.loc[knows, 'wage'], weights=df.loc[knows, 'weight_ind'])"
   ]
  },
  {
   "cell_type": "code",
   "execution_count": 657,
   "metadata": {},
   "outputs": [
    {
     "name": "stderr",
     "output_type": "stream",
     "text": [
      "/home/mitch/anaconda3/envs/main/lib/python3.9/site-packages/pandas/core/arraylike.py:358: RuntimeWarning: divide by zero encountered in log\n",
      "  result = getattr(ufunc, method)(*inputs, **kwargs)\n"
     ]
    }
   ],
   "source": [
    "income_sources = [\n",
    "    'income_main_job',\n",
    "    'income_second_job',\n",
    "    'income_main_business',\n",
    "    'income_second_business'\n",
    "]\n",
    "df['income'] = df[income_sources].sum(axis=1)\n",
    "df['log_income'] = np.log(df['income'])"
   ]
  },
  {
   "cell_type": "markdown",
   "metadata": {},
   "source": [
    "# Debts"
   ]
  },
  {
   "cell_type": "code",
   "execution_count": 658,
   "metadata": {},
   "outputs": [
    {
     "data": {
      "text/plain": [
       "False    14408\n",
       "True      5056\n",
       "Name: has_debts, dtype: int64"
      ]
     },
     "execution_count": 658,
     "metadata": {},
     "output_type": "execute_result"
    }
   ],
   "source": [
    "df['has_debts'] = df['has_debts'].replace(\n",
    "    {1.0:1, 8.0:0}\n",
    "    ).fillna(0)\n",
    "\n",
    "no_debts = df['has_debts'] == 0\n",
    "df.loc[no_debts, 'debts'] = 0.0\n",
    "\n",
    "df['has_debts'] = (df['debts'] > 0).astype(bool)\n",
    "df.has_debts.value_counts()"
   ]
  },
  {
   "cell_type": "markdown",
   "metadata": {},
   "source": [
    "# Loans"
   ]
  },
  {
   "cell_type": "code",
   "execution_count": 659,
   "metadata": {},
   "outputs": [
    {
     "data": {
      "text/plain": [
       "NaN    12476\n",
       "3.0     5363\n",
       "1.0     1625\n",
       "Name: asked_for_loan_12mth, dtype: int64"
      ]
     },
     "execution_count": 659,
     "metadata": {},
     "output_type": "execute_result"
    }
   ],
   "source": [
    "df.asked_for_loan_12mth.value_counts(dropna=False)"
   ]
  },
  {
   "cell_type": "code",
   "execution_count": 660,
   "metadata": {},
   "outputs": [
    {
     "data": {
      "text/plain": [
       "False    17839\n",
       "True      1625\n",
       "Name: asked_for_loan_12mth, dtype: int64"
      ]
     },
     "execution_count": 660,
     "metadata": {},
     "output_type": "execute_result"
    }
   ],
   "source": [
    "df['asked_for_loan_12mth'] = df['asked_for_loan_12mth'].replace(\n",
    "    {1.0:1, 3.0:0, np.nan:0}\n",
    ")\n",
    "df['asked_for_loan_12mth'] = df['asked_for_loan_12mth'].astype(bool)\n",
    "df.asked_for_loan_12mth.value_counts(dropna=False)"
   ]
  },
  {
   "cell_type": "code",
   "execution_count": 661,
   "metadata": {},
   "outputs": [
    {
     "data": {
      "text/plain": [
       "NaN                                17841\n",
       "relative                             389\n",
       "friends                              316\n",
       "savings_fund                         231\n",
       "moneylender                          166\n",
       "work                                 142\n",
       "bank                                 122\n",
       "other                                121\n",
       "pawnshop                              99\n",
       "other_govt                            28\n",
       "verbal_agreement_credit_program        9\n",
       "Name: loan_type, dtype: int64"
      ]
     },
     "execution_count": 661,
     "metadata": {},
     "output_type": "execute_result"
    }
   ],
   "source": [
    "loan_types = {\n",
    "    1.0:'bank',\n",
    "    2.0:'savings_fund',\n",
    "    3.0:'moneylender',\n",
    "    4.0:'relative',\n",
    "    5.0:'friends',\n",
    "    6.0:'work',\n",
    "    7.0:'pawnshop',\n",
    "    8.0:'verbal_agreement_credit_program',\n",
    "    9.0:'other_govt',\n",
    "    10.0:'other',\n",
    "    -1.0: np.nan\n",
    "}\n",
    "df['loan_type'] = df['loan_type'].replace(loan_types)\n",
    "df.loan_type.value_counts(dropna=False)"
   ]
  },
  {
   "cell_type": "code",
   "execution_count": 662,
   "metadata": {},
   "outputs": [
    {
     "data": {
      "text/plain": [
       "False    17851\n",
       "True      1613\n",
       "Name: has_loan, dtype: int64"
      ]
     },
     "execution_count": 662,
     "metadata": {},
     "output_type": "execute_result"
    }
   ],
   "source": [
    "got_loan = df['received_loan'] == 1.0\n",
    "df.loc[~got_loan, 'loan'] = 0.0\n",
    "\n",
    "df['has_loan'] = ~df.loan_type.isna() & got_loan\n",
    "df.has_loan.value_counts()"
   ]
  },
  {
   "cell_type": "code",
   "execution_count": 663,
   "metadata": {},
   "outputs": [],
   "source": [
    "formal = ['bank', 'savings_fund', 'moneylender', 'pawnshop']\n",
    "informal = ['relative', 'friends', 'work', 'verbal_agreement_credit_program', 'other_govt', 'other']\n",
    "friends_relatives = ['relative', 'friends']\n",
    "\n",
    "df['has_loan_formal']            = df['loan_type'].isin(formal)\n",
    "df['has_loan_informal']          = df['loan_type'].isin(informal)\n",
    "df['has_loan_friends_relatives'] = df['loan_type'].isin(friends_relatives)\n",
    "\n",
    "df['loan_formal']   = df['loan']*df['has_loan_formal'] \n",
    "df['loan_informal'] = df['loan']*df['has_loan_informal'] \n",
    "df['loan_friends_relatives']   = df['loan']*df['has_loan_friends_relatives'] "
   ]
  },
  {
   "cell_type": "markdown",
   "metadata": {},
   "source": [
    "# Savings"
   ]
  },
  {
   "cell_type": "code",
   "execution_count": 664,
   "metadata": {},
   "outputs": [
    {
     "data": {
      "text/plain": [
       "3.0    17042\n",
       "1.0     2156\n",
       "NaN      139\n",
       "7.0      127\n",
       "Name: has_savings, dtype: int64"
      ]
     },
     "execution_count": 664,
     "metadata": {},
     "output_type": "execute_result"
    }
   ],
   "source": [
    "df.has_savings.value_counts(dropna=False)"
   ]
  },
  {
   "cell_type": "code",
   "execution_count": 665,
   "metadata": {},
   "outputs": [],
   "source": [
    "has_savings = df['has_savings'] == 1.0\n",
    "no_savings = df['has_savings'] == 3.0\n",
    "dk_savings = df['has_savings'] == 7.0\n",
    "\n",
    "#df.loc[has_savings, 'savings'] = df.loc[df.has_savings, 'savings']\n",
    "df.loc[no_savings, 'savings'] = 0.0\n",
    "df.loc[dk_savings, 'savings'] = 0.0"
   ]
  },
  {
   "cell_type": "code",
   "execution_count": 666,
   "metadata": {},
   "outputs": [
    {
     "data": {
      "text/plain": [
       "False    17308\n",
       "True      2156\n",
       "Name: has_savings, dtype: int64"
      ]
     },
     "execution_count": 666,
     "metadata": {},
     "output_type": "execute_result"
    }
   ],
   "source": [
    "df['has_savings'] = df['has_savings'].replace({\n",
    "    1.0   : True,\n",
    "    3.0   : False,\n",
    "    7.0   : False,\n",
    "    np.nan: False\n",
    "})\n",
    "df.has_savings.value_counts(dropna=False)"
   ]
  },
  {
   "cell_type": "code",
   "execution_count": 667,
   "metadata": {},
   "outputs": [],
   "source": [
    "savings_locations = {\n",
    "   'has_savings_none'          : 1.0,\n",
    "   'has_savings_bank'          : 2.0,\n",
    "   'has_savings_coop'          : 3.0,\n",
    "   'has_savings_savingsbank'   : 4.0,\n",
    "   'has_savings_friend_not_hhm': 5.0,\n",
    "   'has_savings_afores'        : 6.0,\n",
    "   'has_savings_caja_solidaria': 7.0,\n",
    "   'has_savings_house'         : 8.0,\n",
    "   'has_savings_work'          : 9.0,\n",
    "   'has_savings_other'         : 10.0\n",
    "}"
   ]
  },
  {
   "cell_type": "code",
   "execution_count": 668,
   "metadata": {},
   "outputs": [],
   "source": [
    "for savings_type in list(savings_locations.keys()):\n",
    "    df[savings_type] = (df[savings_type] == savings_locations[savings_type]).astype(bool)"
   ]
  },
  {
   "cell_type": "code",
   "execution_count": 669,
   "metadata": {},
   "outputs": [
    {
     "data": {
      "text/plain": [
       "has_savings_none              0\n",
       "has_savings_bank              0\n",
       "has_savings_coop              0\n",
       "has_savings_savingsbank       0\n",
       "has_savings_friend_not_hhm    0\n",
       "has_savings_afores            0\n",
       "has_savings_caja_solidaria    0\n",
       "has_savings_house             0\n",
       "has_savings_work              0\n",
       "has_savings_other             0\n",
       "dtype: int64"
      ]
     },
     "execution_count": 669,
     "metadata": {},
     "output_type": "execute_result"
    }
   ],
   "source": [
    "df.loc[dk_savings, list(savings_locations.keys())].sum()"
   ]
  },
  {
   "cell_type": "code",
   "execution_count": 670,
   "metadata": {},
   "outputs": [
    {
     "data": {
      "text/plain": [
       "\"\\ndf['has_savings_none']              = df['has_savings_none'] == 1.0\\ndf['has_savings_bank']              = df['has_savings_bank'] == 2.0\\ndf['has_savings_coop']              = df['has_savings_coop'] == 3.0\\ndf['has_savings_savingsbank']       = df['has_savings_savingsbank'] == 4.0\\ndf['has_savings_friend_not_hhm']    = df['has_savings_friend_not_hhm'] == 5.0\\ndf['has_savings_afores']            = df['has_savings_afores'] == 6.0\\ndf['has_savings_caja_solidaria']    = df['has_savings_caja_solidaria'] == 7.0\\ndf['has_savings_house']             = df['has_savings_house'] == 8.0\\ndf['has_savings_work']              = df['has_savings_work'] == 9.0\\ndf['has_savings_other']             = df['has_savings_other'] == 10.0\\n\""
      ]
     },
     "execution_count": 670,
     "metadata": {},
     "output_type": "execute_result"
    }
   ],
   "source": [
    "\"\"\"\n",
    "df['has_savings_none']              = df['has_savings_none'] == 1.0\n",
    "df['has_savings_bank']              = df['has_savings_bank'] == 2.0\n",
    "df['has_savings_coop']              = df['has_savings_coop'] == 3.0\n",
    "df['has_savings_savingsbank']       = df['has_savings_savingsbank'] == 4.0\n",
    "df['has_savings_friend_not_hhm']    = df['has_savings_friend_not_hhm'] == 5.0\n",
    "df['has_savings_afores']            = df['has_savings_afores'] == 6.0\n",
    "df['has_savings_caja_solidaria']    = df['has_savings_caja_solidaria'] == 7.0\n",
    "df['has_savings_house']             = df['has_savings_house'] == 8.0\n",
    "df['has_savings_work']              = df['has_savings_work'] == 9.0\n",
    "df['has_savings_other']             = df['has_savings_other'] == 10.0\n",
    "\"\"\""
   ]
  },
  {
   "cell_type": "code",
   "execution_count": 671,
   "metadata": {},
   "outputs": [],
   "source": [
    "# restrict to people with a well defined age\n",
    "df = (df.query('age >= 20')\n",
    "      .query('age <= 65')\n",
    ")"
   ]
  },
  {
   "cell_type": "code",
   "execution_count": 672,
   "metadata": {},
   "outputs": [],
   "source": [
    "get_sum = [\n",
    "    'income',\n",
    "    'savings',\n",
    "    'debts'\n",
    "]\n",
    "\n",
    "get_any = [\n",
    "    'has_savings',\n",
    "    'has_debts', \n",
    "    'has_loan',\n",
    "    'has_loan_formal',\n",
    "    'has_loan_informal',\n",
    "    'has_loan_friends_relatives',\n",
    "    'has_savings_none',\n",
    "    'has_savings_bank',\n",
    "    'has_savings_coop',\n",
    "    'has_savings_savingsbank',\n",
    "    'has_savings_friend_not_hhm',\n",
    "    'has_savings_afores',\n",
    "    'has_savings_caja_solidaria',\n",
    "    'has_savings_house',\n",
    "    'has_savings_work',\n",
    "    'has_savings_other'\n",
    "]\n",
    "\n",
    "# get sum over set of individuals in household\n",
    "for var in get_sum:\n",
    "    df[var] = df.groupby('hhid')[var].transform('sum')\n",
    "\n",
    "# check if any individual in household satisfies it\n",
    "for var in get_any:\n",
    "    df[var] = df.groupby('hhid')[var].transform(lambda x : x.sum() > 0)"
   ]
  },
  {
   "cell_type": "code",
   "execution_count": 673,
   "metadata": {},
   "outputs": [],
   "source": [
    "# create single observation for each household by restricting to household head\n",
    "df = df[df['is_hhm'] == 1.0].reset_index(drop=True)"
   ]
  },
  {
   "cell_type": "markdown",
   "metadata": {},
   "source": [
    "# Income Outliers"
   ]
  },
  {
   "cell_type": "code",
   "execution_count": 674,
   "metadata": {},
   "outputs": [],
   "source": [
    "from statsmodels.stats.weightstats import DescrStatsW\n",
    "q_995 = DescrStatsW(df['income'], df['weight_ind']).quantile(0.995).iloc[0]\n",
    "df = df[df['income'] < q_995]"
   ]
  },
  {
   "cell_type": "code",
   "execution_count": 675,
   "metadata": {},
   "outputs": [],
   "source": [
    "os.chdir(interim)\n",
    "df.to_csv('ind_2005.csv', index=False)"
   ]
  },
  {
   "cell_type": "code",
   "execution_count": 676,
   "metadata": {},
   "outputs": [
    {
     "name": "stdout",
     "output_type": "stream",
     "text": [
      "<class 'pandas.core.frame.DataFrame'>\n",
      "Int64Index: 5089 entries, 0 to 5111\n",
      "Data columns (total 62 columns):\n",
      " #   Column                      Non-Null Count  Dtype  \n",
      "---  ------                      --------------  -----  \n",
      " 0   hhid                        5089 non-null   object \n",
      " 1   hhmember                    5089 non-null   object \n",
      " 2   weight_ind                  5089 non-null   float64\n",
      " 3   is_hhm                      5089 non-null   float32\n",
      " 4   age                         5089 non-null   float32\n",
      " 5   attended_school             5089 non-null   bool   \n",
      " 6   education                   5089 non-null   object \n",
      " 7   gender                      5089 non-null   object \n",
      " 8   income_type                 2592 non-null   object \n",
      " 9   income_undetailed           2054 non-null   float32\n",
      " 10  has_income_second_job       54 non-null     float32\n",
      " 11  income_second_job           45 non-null     float32\n",
      " 12  has_wage                    5087 non-null   object \n",
      " 13  wage                        5089 non-null   float32\n",
      " 14  has_piecework               5087 non-null   object \n",
      " 15  piecework                   5089 non-null   float32\n",
      " 16  has_tips                    5087 non-null   object \n",
      " 17  tips                        5089 non-null   float32\n",
      " 18  has_extrahours              5087 non-null   object \n",
      " 19  extrahours                  5089 non-null   float32\n",
      " 20  has_christmasbonus          5087 non-null   object \n",
      " 21  christmasbonus              5089 non-null   float32\n",
      " 22  has_bonus                   5087 non-null   object \n",
      " 23  bonus                       5089 non-null   float32\n",
      " 24  has_profitdist              5087 non-null   object \n",
      " 25  profitdist                  5089 non-null   float32\n",
      " 26  has_other                   5087 non-null   object \n",
      " 27  other                       5089 non-null   float32\n",
      " 28  earn_main_business          1048 non-null   float32\n",
      " 29  income_main_business        1048 non-null   float32\n",
      " 30  earn_second_business        86 non-null     float32\n",
      " 31  income_second_business      86 non-null     float32\n",
      " 32  asked_for_loan_12mth        5089 non-null   bool   \n",
      " 33  loan_type                   620 non-null    object \n",
      " 34  received_loan               620 non-null    float32\n",
      " 35  loan_size                   619 non-null    float32\n",
      " 36  has_debts                   5089 non-null   bool   \n",
      " 37  debts                       5089 non-null   float32\n",
      " 38  has_savings                 5089 non-null   bool   \n",
      " 39  savings                     5089 non-null   float32\n",
      " 40  has_savings_none            5089 non-null   bool   \n",
      " 41  has_savings_bank            5089 non-null   bool   \n",
      " 42  has_savings_coop            5089 non-null   bool   \n",
      " 43  has_savings_savingsbank     5089 non-null   bool   \n",
      " 44  has_savings_friend_not_hhm  5089 non-null   bool   \n",
      " 45  has_savings_afores          5089 non-null   bool   \n",
      " 46  has_savings_caja_solidaria  5089 non-null   bool   \n",
      " 47  has_savings_house           5089 non-null   bool   \n",
      " 48  has_savings_work            5089 non-null   bool   \n",
      " 49  has_savings_other           5089 non-null   bool   \n",
      " 50  hh_size                     5089 non-null   int64  \n",
      " 51  income_main_job             5062 non-null   float64\n",
      " 52  income                      5089 non-null   float64\n",
      " 53  log_income                  5089 non-null   float64\n",
      " 54  loan                        4470 non-null   float64\n",
      " 55  has_loan                    5089 non-null   bool   \n",
      " 56  has_loan_formal             5089 non-null   bool   \n",
      " 57  has_loan_informal           5089 non-null   bool   \n",
      " 58  has_loan_friends_relatives  5089 non-null   bool   \n",
      " 59  loan_formal                 4470 non-null   float64\n",
      " 60  loan_informal               4470 non-null   float64\n",
      " 61  loan_friends_relatives      4470 non-null   float64\n",
      "dtypes: bool(18), float32(21), float64(8), int64(1), object(14)\n",
      "memory usage: 1.4+ MB\n"
     ]
    }
   ],
   "source": [
    "df.info()"
   ]
  }
 ],
 "metadata": {
  "kernelspec": {
   "display_name": "Python 3",
   "language": "python",
   "name": "python3"
  },
  "language_info": {
   "codemirror_mode": {
    "name": "ipython",
    "version": 3
   },
   "file_extension": ".py",
   "mimetype": "text/x-python",
   "name": "python",
   "nbconvert_exporter": "python",
   "pygments_lexer": "ipython3",
   "version": "3.9.17"
  },
  "orig_nbformat": 4
 },
 "nbformat": 4,
 "nbformat_minor": 2
}
