{
 "cells": [
  {
   "attachments": {},
   "cell_type": "markdown",
   "metadata": {},
   "source": [
    "# clean_hh_2005\n",
    "\n",
    "This notebook clean household level df \n",
    "\n",
    "## Inputs\n",
    "1. ii_in.dta : household non labor income\n",
    "2. ii_inr.dta : household rural income\n",
    "3. ii_portad.dta : household location\n",
    "\n",
    "Outputs\n",
    "1. folio : household id\n",
    "2. hh_no_savings : hh has no savings\n",
    "2. hh_has_savings : hh has savings\n",
    "2. hh_no_debts : hh has no debts\n",
    "2. hh_has_debts : hh has debts\n",
    "3. hh_has_liquid : hh has savings or debts"
   ]
  },
  {
   "cell_type": "code",
   "execution_count": 60,
   "metadata": {},
   "outputs": [],
   "source": [
    "import pandas as pd\n",
    "import numpy as np\n",
    "import matplotlib.pyplot as plt\n",
    "import seaborn as sns\n",
    "\n",
    "import os \n",
    "\n",
    "import sys; sys.path.append('/home/mitch/util/python')\n",
    "sys.path.append('/home/mitch/school/mfl/')\n",
    "\n",
    "from src import json_utils"
   ]
  },
  {
   "cell_type": "code",
   "execution_count": 61,
   "metadata": {},
   "outputs": [],
   "source": [
    "raw = '/home/mitch/Dropbox/data/mexico_fls/raw/2005/'\n",
    "interim = '/home/mitch/Dropbox/data/mexico_fls/interim2/2005/'\n",
    "\n",
    "figs = '/home/mitch/github/mfl/fig/'\n",
    "dicts= '/home/mitch/github/mfl/dicts/'"
   ]
  },
  {
   "cell_type": "code",
   "execution_count": 62,
   "metadata": {},
   "outputs": [
    {
     "data": {
      "text/plain": [
       "{'folio': 'hhid',\n",
       " 'fac_lib2': 'weight_hh',\n",
       " 'ent': 'state',\n",
       " 'ah03a': 'own_house',\n",
       " 'ah03b': 'own_otherhouse',\n",
       " 'ah03c': 'own_bicycles',\n",
       " 'ah03d': 'own_vehicle',\n",
       " 'ah03e': 'own_electronics',\n",
       " 'ah03f': 'own_washmachinestove',\n",
       " 'ah03g': 'own_domesticappliance',\n",
       " 'ah03h': 'own_financialassets',\n",
       " 'ah03i': 'own_machinary',\n",
       " 'ah03j': 'own_bullcow',\n",
       " 'ah03k': 'own_horsesmules',\n",
       " 'ah03l': 'own_pigsgoats',\n",
       " 'ah03m': 'own_poultry',\n",
       " 'ah03n': 'own_otherassets',\n",
       " 'ah04a_1': 'knowvalue_house',\n",
       " 'ah04b_1': 'knowvalue_otherhouse',\n",
       " 'ah04c_1': 'knowvalue_bicycles',\n",
       " 'ah04d_1': 'knowvalue_vehicle',\n",
       " 'ah04e_1': 'knowvalue_electronics',\n",
       " 'ah04f_1': 'knowvalue_washmachinestove',\n",
       " 'ah04g_1': 'knowvalue_domesticappliance',\n",
       " 'ah04h_1': 'knowvalue_financialassets',\n",
       " 'ah04i_1': 'knowvalue_machinary',\n",
       " 'ah04j_1': 'knowvalue_bullcow',\n",
       " 'ah04k_1': 'knowvalue_horsesmules',\n",
       " 'ah04l_1': 'knowvalue_pigsgoats',\n",
       " 'ah04m_1': 'knowvalue_poultry',\n",
       " 'ah04n_1': 'knowvalue_otherassets',\n",
       " 'ah04a_2': 'value_house',\n",
       " 'ah04b_2': 'value_otherhouse',\n",
       " 'ah04c_2': 'value_bicycles',\n",
       " 'ah04d_2': 'value_vehicle',\n",
       " 'ah04e_2': 'value_electronics',\n",
       " 'ah04f_2': 'value_washmachinestove',\n",
       " 'ah04g_2': 'value_domesticappliance',\n",
       " 'ah04h_2': 'value_financialassets',\n",
       " 'ah04i_2': 'value_machinary',\n",
       " 'ah04j_2': 'value_bullcow',\n",
       " 'ah04k_2': 'value_horsesmules',\n",
       " 'ah04l_2': 'value_pigsgoats',\n",
       " 'ah04m_2': 'value_poultry',\n",
       " 'ah04n_2': 'value_otherassets',\n",
       " 'crh01_1a': 'hh_no_savings',\n",
       " 'crh01_1b': 'hh_has_savings_bank',\n",
       " 'crh01_1c': 'hh_has_savings_cooperative',\n",
       " 'crh01_1d': 'hh_has_savings_credit_institution',\n",
       " 'crh01_1e': 'hh_has_savings_batch',\n",
       " 'crh01_1g': 'hh_has_savings_person_not_hhm',\n",
       " 'crh01_1h': 'hh_has_savings_afores',\n",
       " 'crh01_1i': 'hh_has_savings_solidarity',\n",
       " 'crh01_1j': 'hh_has_savings_at_house',\n",
       " 'crh01_1k': 'hh_has_savings_other',\n",
       " 'crh02_1': 'hh_has_debts_12mth',\n",
       " 'crh02_2': 'hh_debts_12mth'}"
      ]
     },
     "execution_count": 62,
     "metadata": {},
     "output_type": "execute_result"
    }
   ],
   "source": [
    "rename = json_utils.load_json(dicts + 'rename_hh_2005.json')\n",
    "rename"
   ]
  },
  {
   "cell_type": "code",
   "execution_count": 63,
   "metadata": {},
   "outputs": [],
   "source": [
    "os.chdir(raw + 'book II/data/' )\n",
    "\n",
    "crh = pd.read_stata('ii_crh.dta')\n",
    "ii_in = pd.read_stata('ii_in.dta')\n",
    "ii_inr = pd.read_stata('ii_inr.dta')\n",
    "ii_portad = pd.read_stata('ii_portad.dta')\n",
    "ii_ah = pd.read_stata('ii_ah.dta').drop(columns=['ls'])\n",
    "weights = pd.read_stata('hh05w_b2.dta')\n",
    "\n",
    "os.chdir(raw + 'book I/data/' )\n",
    "i_cs = pd.read_stata('i_cs.dta')\n",
    "i_cs1 = pd.read_stata('i_cs1.dta')\n",
    "\n",
    "os.chdir(raw + 'book C/data/' )\n",
    "c_cv = pd.read_stata('c_cv.dta')\n"
   ]
  },
  {
   "cell_type": "code",
   "execution_count": 64,
   "metadata": {},
   "outputs": [
    {
     "name": "stdout",
     "output_type": "stream",
     "text": [
      "<class 'pandas.core.frame.DataFrame'>\n",
      "Int64Index: 8289 entries, 0 to 8288\n",
      "Data columns (total 2 columns):\n",
      " #   Column    Non-Null Count  Dtype \n",
      "---  ------    --------------  ----- \n",
      " 0   folio     8289 non-null   object\n",
      " 1   fac_lib2  8289 non-null   int32 \n",
      "dtypes: int32(1), object(1)\n",
      "memory usage: 161.9+ KB\n"
     ]
    }
   ],
   "source": [
    "weights.info()"
   ]
  },
  {
   "cell_type": "code",
   "execution_count": 65,
   "metadata": {},
   "outputs": [],
   "source": [
    "df = (crh.merge(weights, on=['folio'], how='left')\n",
    "            .merge(ii_in, on=['folio'], how='left')\n",
    "            .merge(ii_inr, on=['folio'], how='left')\n",
    "            .merge(ii_portad, on=['folio'], how='left')\n",
    "            .merge(i_cs, on=['folio'], how='left')\n",
    "            .merge(i_cs1, on=['folio'], how='left')\n",
    "            .merge(ii_ah, on=['folio'], how='left')\n",
    "            .merge(c_cv, on=['folio'], how='left')\n",
    "            )"
   ]
  },
  {
   "cell_type": "code",
   "execution_count": 66,
   "metadata": {},
   "outputs": [],
   "source": [
    "df = df.rename(columns = rename)\n",
    "df = df[rename.values()]"
   ]
  },
  {
   "cell_type": "code",
   "execution_count": 67,
   "metadata": {},
   "outputs": [
    {
     "name": "stdout",
     "output_type": "stream",
     "text": [
      "<class 'pandas.core.frame.DataFrame'>\n",
      "Int64Index: 8134 entries, 0 to 8133\n",
      "Data columns (total 57 columns):\n",
      " #   Column                             Non-Null Count  Dtype  \n",
      "---  ------                             --------------  -----  \n",
      " 0   hhid                               8134 non-null   object \n",
      " 1   weight_hh                          8022 non-null   float64\n",
      " 2   state                              8134 non-null   float32\n",
      " 3   own_house                          8133 non-null   float32\n",
      " 4   own_otherhouse                     8133 non-null   float32\n",
      " 5   own_bicycles                       8133 non-null   float32\n",
      " 6   own_vehicle                        8133 non-null   float32\n",
      " 7   own_electronics                    8132 non-null   float32\n",
      " 8   own_washmachinestove               8132 non-null   float32\n",
      " 9   own_domesticappliance              8131 non-null   float32\n",
      " 10  own_financialassets                8132 non-null   float32\n",
      " 11  own_machinary                      8132 non-null   float32\n",
      " 12  own_bullcow                        8133 non-null   float32\n",
      " 13  own_horsesmules                    8133 non-null   float32\n",
      " 14  own_pigsgoats                      8133 non-null   float32\n",
      " 15  own_poultry                        8132 non-null   float32\n",
      " 16  own_otherassets                    8122 non-null   float32\n",
      " 17  knowvalue_house                    6409 non-null   float32\n",
      " 18  knowvalue_otherhouse               1463 non-null   float32\n",
      " 19  knowvalue_bicycles                 3164 non-null   float32\n",
      " 20  knowvalue_vehicle                  3006 non-null   float32\n",
      " 21  knowvalue_electronics              7378 non-null   float32\n",
      " 22  knowvalue_washmachinestove         7058 non-null   float32\n",
      " 23  knowvalue_domesticappliance        6842 non-null   float32\n",
      " 24  knowvalue_financialassets          1117 non-null   float32\n",
      " 25  knowvalue_machinary                163 non-null    float32\n",
      " 26  knowvalue_bullcow                  379 non-null    float32\n",
      " 27  knowvalue_horsesmules              475 non-null    float32\n",
      " 28  knowvalue_pigsgoats                455 non-null    float32\n",
      " 29  knowvalue_poultry                  1101 non-null   float32\n",
      " 30  knowvalue_otherassets              34 non-null     float32\n",
      " 31  value_house                        5233 non-null   float32\n",
      " 32  value_otherhouse                   1196 non-null   float32\n",
      " 33  value_bicycles                     2979 non-null   float32\n",
      " 34  value_vehicle                      2798 non-null   float32\n",
      " 35  value_electronics                  6858 non-null   float32\n",
      " 36  value_washmachinestove             6565 non-null   float32\n",
      " 37  value_domesticappliance            6379 non-null   float32\n",
      " 38  value_financialassets              728 non-null    float32\n",
      " 39  value_machinary                    134 non-null    float32\n",
      " 40  value_bullcow                      338 non-null    float32\n",
      " 41  value_horsesmules                  446 non-null    float32\n",
      " 42  value_pigsgoats                    428 non-null    float32\n",
      " 43  value_poultry                      1029 non-null   float32\n",
      " 44  value_otherassets                  30 non-null     float32\n",
      " 45  hh_no_savings                      7061 non-null   float32\n",
      " 46  hh_has_savings_bank                626 non-null    float32\n",
      " 47  hh_has_savings_cooperative         30 non-null     float32\n",
      " 48  hh_has_savings_credit_institution  219 non-null    float32\n",
      " 49  hh_has_savings_batch               18 non-null     float32\n",
      " 50  hh_has_savings_person_not_hhm      6 non-null      float32\n",
      " 51  hh_has_savings_afores              21 non-null     float32\n",
      " 52  hh_has_savings_solidarity          4 non-null      float32\n",
      " 53  hh_has_savings_at_house            138 non-null    float32\n",
      " 54  hh_has_savings_other               45 non-null     float32\n",
      " 55  hh_has_debts_12mth                 8131 non-null   float32\n",
      " 56  hh_debts_12mth                     2054 non-null   float32\n",
      "dtypes: float32(55), float64(1), object(1)\n",
      "memory usage: 1.9+ MB\n"
     ]
    }
   ],
   "source": [
    "df.info()"
   ]
  },
  {
   "cell_type": "code",
   "execution_count": 68,
   "metadata": {},
   "outputs": [
    {
     "data": {
      "text/plain": [
       "1.0    6409\n",
       "3.0    1724\n",
       "NaN       1\n",
       "Name: own_house, dtype: int64"
      ]
     },
     "execution_count": 68,
     "metadata": {},
     "output_type": "execute_result"
    }
   ],
   "source": [
    "df.own_house.value_counts(dropna=False)"
   ]
  },
  {
   "cell_type": "markdown",
   "metadata": {},
   "source": [
    "# State"
   ]
  },
  {
   "cell_type": "code",
   "execution_count": 69,
   "metadata": {},
   "outputs": [
    {
     "data": {
      "text/plain": [
       "{'3': 'Baja California Sur',\n",
       " '5': 'Coahuila',\n",
       " '6': 'Colima',\n",
       " '7': 'Chiapas',\n",
       " '9': 'Federal District',\n",
       " '10': 'Durango',\n",
       " '11': 'Guanajuato',\n",
       " '14': 'Jalisco',\n",
       " '15': 'State of Mexico',\n",
       " '16': 'Michoacan',\n",
       " '17': 'Morelos',\n",
       " '19': 'Nuevo Leon',\n",
       " '20': 'Oaxaca',\n",
       " '21': 'Puebla',\n",
       " '22': 'Queretaro',\n",
       " '23': 'Quintana Roo',\n",
       " '25': 'Sinaloa',\n",
       " '26': 'Sonora',\n",
       " '28': 'Tamaulipas',\n",
       " '30': 'Veravruz',\n",
       " '31': 'Yucatan'}"
      ]
     },
     "execution_count": 69,
     "metadata": {},
     "output_type": "execute_result"
    }
   ],
   "source": [
    "relabel_state = json_utils.load_json(dicts + 'states.json')\n",
    "relabel_state"
   ]
  },
  {
   "cell_type": "code",
   "execution_count": 70,
   "metadata": {},
   "outputs": [
    {
     "data": {
      "image/png": "[encoded data removed]",
      "text/plain": [
       "<Figure size 1280x960 with 1 Axes>"
      ]
     },
     "metadata": {},
     "output_type": "display_data"
    }
   ],
   "source": [
    "plt.clf()\n",
    "df.state.hist()\n",
    "plt.show()"
   ]
  },
  {
   "cell_type": "code",
   "execution_count": 71,
   "metadata": {},
   "outputs": [
    {
     "data": {
      "text/plain": [
       "0           Oaxaca\n",
       "1           Oaxaca\n",
       "2           Oaxaca\n",
       "3           Oaxaca\n",
       "4           Oaxaca\n",
       "           ...    \n",
       "8129    Nuevo Leon\n",
       "8130    Nuevo Leon\n",
       "8131    Nuevo Leon\n",
       "8132    Nuevo Leon\n",
       "8133    Nuevo Leon\n",
       "Name: state, Length: 8134, dtype: object"
      ]
     },
     "execution_count": 71,
     "metadata": {},
     "output_type": "execute_result"
    }
   ],
   "source": [
    "df.state = df.state.astype(int).astype(str).replace(relabel_state)\n",
    "df.state"
   ]
  },
  {
   "cell_type": "code",
   "execution_count": 72,
   "metadata": {},
   "outputs": [
    {
     "data": {
      "image/png": "[encoded data removed]",
      "text/plain": [
       "<Figure size 1280x960 with 1 Axes>"
      ]
     },
     "metadata": {},
     "output_type": "display_data"
    }
   ],
   "source": [
    "plt.clf()\n",
    "sns.histplot(df, x='state', stat='percent')\n",
    "plt.xticks(rotation=90)\n",
    "plt.xlabel('State')\n",
    "plt.show()"
   ]
  },
  {
   "cell_type": "markdown",
   "metadata": {},
   "source": [
    "# Illiquid Assets"
   ]
  },
  {
   "cell_type": "code",
   "execution_count": 73,
   "metadata": {},
   "outputs": [],
   "source": [
    "illiquid_assets = [\n",
    "    'house', \n",
    "    'otherhouse',\n",
    "    'bicycles',\n",
    "    'vehicle',\n",
    "    'electronics',\n",
    "    'washmachinestove',\n",
    "    'domesticappliance',\n",
    "    'financialassets',\n",
    "    'machinary',\n",
    "    'bullcow',\n",
    "    'horsesmules',\n",
    "    'pigsgoats',\n",
    "    'poultry',\n",
    "    'otherassets'\n",
    "]"
   ]
  },
  {
   "cell_type": "code",
   "execution_count": 74,
   "metadata": {},
   "outputs": [
    {
     "data": {
      "text/plain": [
       "1.0    6409\n",
       "3.0    1724\n",
       "Name: own_house, dtype: int64"
      ]
     },
     "execution_count": 74,
     "metadata": {},
     "output_type": "execute_result"
    }
   ],
   "source": [
    "df.own_house.value_counts()"
   ]
  },
  {
   "cell_type": "code",
   "execution_count": 75,
   "metadata": {},
   "outputs": [],
   "source": [
    "for asset in illiquid_assets:\n",
    "    df['own_'+asset] = df['own_'+asset].replace({1.0:1, 3.0:0}).fillna(0)\n",
    "    df['knowvalue_'+asset] = df['knowvalue_'+asset].replace({1.0:1, 8.0:0})"
   ]
  },
  {
   "cell_type": "code",
   "execution_count": 76,
   "metadata": {},
   "outputs": [],
   "source": [
    "for asset in illiquid_assets:\n",
    "    own = df['own_' + asset] == 1\n",
    "    dont_own = df['own_' + asset] == 0\n",
    "\n",
    "    know_value = df['knowvalue_'+asset] == 1\n",
    "    dk_value = df['knowvalue_'+asset] == 0\n",
    "\n",
    "    df_own_know = df[own & know_value]\n",
    "\n",
    "    df.loc[own & dk_value, 'value_' + asset] = (\n",
    "        np.sum(df_own_know['value_' + asset] * df_own_know['weight_hh'])\n",
    "        / np.sum(df_own_know['weight_hh'])\n",
    "        )\n",
    "    df.loc[dont_own, 'value_' + asset] = 0.0"
   ]
  },
  {
   "cell_type": "code",
   "execution_count": 77,
   "metadata": {},
   "outputs": [
    {
     "data": {
      "text/plain": [
       "NaN    8128\n",
       "7.0       6\n",
       "Name: hh_has_savings_person_not_hhm, dtype: int64"
      ]
     },
     "execution_count": 77,
     "metadata": {},
     "output_type": "execute_result"
    }
   ],
   "source": [
    "df.hh_has_savings_person_not_hhm.value_counts(dropna=False)"
   ]
  },
  {
   "cell_type": "code",
   "execution_count": 78,
   "metadata": {},
   "outputs": [],
   "source": [
    "has_savings_types = [\n",
    "    'hh_no_savings',\n",
    "    'hh_has_savings_bank',\n",
    "    'hh_has_savings_cooperative',\n",
    "    'hh_has_savings_credit_institution',\n",
    "    'hh_has_savings_batch',\n",
    "    'hh_has_savings_person_not_hhm',\n",
    "    'hh_has_savings_afores',\n",
    "    'hh_has_savings_solidarity',\n",
    "    'hh_has_savings_at_house',\n",
    "    'hh_has_savings_other'\n",
    "]\n",
    "\n",
    "has_value = {\n",
    "    'hh_no_savings'                       : 1.0,\n",
    "    'hh_has_savings_bank'                 : 2.0,\n",
    "    'hh_has_savings_cooperative'          : 3.0,\n",
    "    'hh_has_savings_credit_institution'   : 4.0,\n",
    "    'hh_has_savings_batch'                : 5.0,\n",
    "    'hh_has_savings_person_not_hhm'       : 7.0,\n",
    "    'hh_has_savings_afores'               : 8.0,\n",
    "    'hh_has_savings_solidarity'           : 9.0,\n",
    "    'hh_has_savings_at_house'             : 10.0,\n",
    "    'hh_has_savings_other'                : 11.0\n",
    "}\n",
    "\n",
    "for savings_type in has_savings_types:\n",
    "   df[savings_type] = df[savings_type].replace({\n",
    "    has_value[savings_type]:1,\n",
    "    np.nan:0\n",
    "   })"
   ]
  },
  {
   "cell_type": "code",
   "execution_count": 79,
   "metadata": {},
   "outputs": [
    {
     "data": {
      "text/plain": [
       "\"\\ndf['hh_no_savings']                       = df['hh_no_savings'].replace({1.0:1.0})\\ndf['hh_has_savings_bank']                 = df['hh_has_savings_bank'].replace({2.0:1.0})\\ndf['hh_has_savings_cooperative']          = df['hh_has_savings_cooperative'].replace({3.0:1.0})\\ndf['hh_has_savings_credit_institution']   = df['hh_has_savings_credit_institution'].replace({4.0:1.0})\\ndf['hh_has_savings_batch']                = df['hh_has_savings_batch'].replace({5.0:1.0})\\ndf['hh_has_savings_person_not_hhm']       = df['hh_has_savings_person_not_hhm'].replace({7.0:1.0})\\ndf['hh_has_savings_afores']               = df['hh_has_savings_afores'].replace({8.0:1.0})\\ndf['hh_has_savings_solidarity']           = df['hh_has_savings_solidarity'].replace({9.0:1.0})\\ndf['hh_has_savings_at_house']             = df['hh_has_savings_at_house'].replace({10.0:1.0})\\ndf['hh_has_savings_other']                = df['hh_has_savings_other'].replace({11.0:1.0})\\n\""
      ]
     },
     "execution_count": 79,
     "metadata": {},
     "output_type": "execute_result"
    }
   ],
   "source": [
    "\"\"\"\n",
    "df['hh_no_savings']                       = df['hh_no_savings'].replace({1.0:1.0})\n",
    "df['hh_has_savings_bank']                 = df['hh_has_savings_bank'].replace({2.0:1.0})\n",
    "df['hh_has_savings_cooperative']          = df['hh_has_savings_cooperative'].replace({3.0:1.0})\n",
    "df['hh_has_savings_credit_institution']   = df['hh_has_savings_credit_institution'].replace({4.0:1.0})\n",
    "df['hh_has_savings_batch']                = df['hh_has_savings_batch'].replace({5.0:1.0})\n",
    "df['hh_has_savings_person_not_hhm']       = df['hh_has_savings_person_not_hhm'].replace({7.0:1.0})\n",
    "df['hh_has_savings_afores']               = df['hh_has_savings_afores'].replace({8.0:1.0})\n",
    "df['hh_has_savings_solidarity']           = df['hh_has_savings_solidarity'].replace({9.0:1.0})\n",
    "df['hh_has_savings_at_house']             = df['hh_has_savings_at_house'].replace({10.0:1.0})\n",
    "df['hh_has_savings_other']                = df['hh_has_savings_other'].replace({11.0:1.0})\n",
    "\"\"\""
   ]
  },
  {
   "cell_type": "code",
   "execution_count": 80,
   "metadata": {},
   "outputs": [
    {
     "data": {
      "text/plain": [
       "['hh_has_savings_bank',\n",
       " 'hh_has_savings_cooperative',\n",
       " 'hh_has_savings_credit_institution',\n",
       " 'hh_has_savings_batch',\n",
       " 'hh_has_savings_person_not_hhm',\n",
       " 'hh_has_savings_afores',\n",
       " 'hh_has_savings_solidarity',\n",
       " 'hh_has_savings_at_house',\n",
       " 'hh_has_savings_other']"
      ]
     },
     "execution_count": 80,
     "metadata": {},
     "output_type": "execute_result"
    }
   ],
   "source": [
    "has_savings_columns = [x for x in df.columns if 'hh_has_savings' in x]\n",
    "df[has_savings_columns] = df[has_savings_columns].fillna(0)\n",
    "has_savings_columns"
   ]
  },
  {
   "cell_type": "code",
   "execution_count": 81,
   "metadata": {},
   "outputs": [
    {
     "data": {
      "text/plain": [
       "False    7065\n",
       "True     1069\n",
       "Name: hh_has_savings, dtype: int64"
      ]
     },
     "execution_count": 81,
     "metadata": {},
     "output_type": "execute_result"
    }
   ],
   "source": [
    "df['hh_has_savings'] = df[has_savings_columns].sum(axis=1) > 0\n",
    "df['hh_has_savings'].value_counts()"
   ]
  },
  {
   "cell_type": "code",
   "execution_count": 82,
   "metadata": {},
   "outputs": [
    {
     "data": {
      "text/plain": [
       "2.0    5983\n",
       "1.0    2054\n",
       "8.0      94\n",
       "NaN       3\n",
       "Name: hh_has_debts_12mth, dtype: int64"
      ]
     },
     "execution_count": 82,
     "metadata": {},
     "output_type": "execute_result"
    }
   ],
   "source": [
    "df['hh_has_debts_12mth'].value_counts(dropna=False)"
   ]
  },
  {
   "cell_type": "code",
   "execution_count": 83,
   "metadata": {},
   "outputs": [],
   "source": [
    "df['hh_has_debts_12mth'] = df['hh_has_debts_12mth'].replace(\n",
    "    {1.0:1.0, 2.0:0.0, 8.0:0.0}\n",
    ")\n",
    "has_debt    = df['hh_has_debts_12mth'] == 1.0\n",
    "no_debt     = df['hh_has_debts_12mth'] == 0.0\n",
    "\n",
    "df.loc[no_debt, 'hh_debts_12mth'] = 0.0"
   ]
  },
  {
   "cell_type": "code",
   "execution_count": 84,
   "metadata": {},
   "outputs": [],
   "source": [
    "knowvalue = [x for x in df.columns if 'knowvalue' in x]\n",
    "df = df.drop(columns = knowvalue)"
   ]
  },
  {
   "cell_type": "code",
   "execution_count": 85,
   "metadata": {},
   "outputs": [
    {
     "name": "stdout",
     "output_type": "stream",
     "text": [
      "<class 'pandas.core.frame.DataFrame'>\n",
      "Int64Index: 8134 entries, 0 to 8133\n",
      "Data columns (total 44 columns):\n",
      " #   Column                             Non-Null Count  Dtype  \n",
      "---  ------                             --------------  -----  \n",
      " 0   hhid                               8134 non-null   object \n",
      " 1   weight_hh                          8022 non-null   float64\n",
      " 2   state                              8134 non-null   object \n",
      " 3   own_house                          8134 non-null   float32\n",
      " 4   own_otherhouse                     8134 non-null   float32\n",
      " 5   own_bicycles                       8134 non-null   float32\n",
      " 6   own_vehicle                        8134 non-null   float32\n",
      " 7   own_electronics                    8134 non-null   float32\n",
      " 8   own_washmachinestove               8134 non-null   float32\n",
      " 9   own_domesticappliance              8134 non-null   float32\n",
      " 10  own_financialassets                8134 non-null   float32\n",
      " 11  own_machinary                      8134 non-null   float32\n",
      " 12  own_bullcow                        8134 non-null   float32\n",
      " 13  own_horsesmules                    8134 non-null   float32\n",
      " 14  own_pigsgoats                      8134 non-null   float32\n",
      " 15  own_poultry                        8134 non-null   float32\n",
      " 16  own_otherassets                    8134 non-null   float32\n",
      " 17  value_house                        8134 non-null   float32\n",
      " 18  value_otherhouse                   8134 non-null   float32\n",
      " 19  value_bicycles                     8134 non-null   float32\n",
      " 20  value_vehicle                      8134 non-null   float32\n",
      " 21  value_electronics                  8134 non-null   float32\n",
      " 22  value_washmachinestove             8134 non-null   float32\n",
      " 23  value_domesticappliance            8134 non-null   float32\n",
      " 24  value_financialassets              8134 non-null   float32\n",
      " 25  value_machinary                    8134 non-null   float32\n",
      " 26  value_bullcow                      8134 non-null   float32\n",
      " 27  value_horsesmules                  8134 non-null   float32\n",
      " 28  value_pigsgoats                    8134 non-null   float32\n",
      " 29  value_poultry                      8134 non-null   float32\n",
      " 30  value_otherassets                  8134 non-null   float32\n",
      " 31  hh_no_savings                      8134 non-null   float32\n",
      " 32  hh_has_savings_bank                8134 non-null   float32\n",
      " 33  hh_has_savings_cooperative         8134 non-null   float32\n",
      " 34  hh_has_savings_credit_institution  8134 non-null   float32\n",
      " 35  hh_has_savings_batch               8134 non-null   float32\n",
      " 36  hh_has_savings_person_not_hhm      8134 non-null   float32\n",
      " 37  hh_has_savings_afores              8134 non-null   float32\n",
      " 38  hh_has_savings_solidarity          8134 non-null   float32\n",
      " 39  hh_has_savings_at_house            8134 non-null   float32\n",
      " 40  hh_has_savings_other               8134 non-null   float32\n",
      " 41  hh_has_debts_12mth                 8131 non-null   float32\n",
      " 42  hh_debts_12mth                     8131 non-null   float32\n",
      " 43  hh_has_savings                     8134 non-null   bool   \n",
      "dtypes: bool(1), float32(40), float64(1), object(2)\n",
      "memory usage: 1.7+ MB\n"
     ]
    }
   ],
   "source": [
    "df.info()"
   ]
  },
  {
   "cell_type": "code",
   "execution_count": 86,
   "metadata": {},
   "outputs": [],
   "source": [
    "os.chdir(interim)\n",
    "df.to_csv('hh_2005.csv', index=False)"
   ]
  }
 ],
 "metadata": {
  "kernelspec": {
   "display_name": "Python 3",
   "language": "python",
   "name": "python3"
  },
  "language_info": {
   "codemirror_mode": {
    "name": "ipython",
    "version": 3
   },
   "file_extension": ".py",
   "mimetype": "text/x-python",
   "name": "python",
   "nbconvert_exporter": "python",
   "pygments_lexer": "ipython3",
   "version": "3.9.17"
  },
  "orig_nbformat": 4
 },
 "nbformat": 4,
 "nbformat_minor": 2
}
